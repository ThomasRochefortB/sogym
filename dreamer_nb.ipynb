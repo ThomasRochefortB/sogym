{
 "cells": [
  {
   "cell_type": "code",
   "execution_count": 167,
   "metadata": {},
   "outputs": [],
   "source": [
    "from sogym.env import sogym\n",
    "import warnings\n",
    "import dreamerv3\n",
    "from dreamerv3 import embodied\n",
    "from dreamerv3 import agent as agt\n",
    "\n",
    "from embodied.envs import from_gym"
   ]
  },
  {
   "cell_type": "code",
   "execution_count": 174,
   "metadata": {},
   "outputs": [
    {
     "name": "stdout",
     "output_type": "stream",
     "text": [
      "Help on class Uniform in module dreamerv3.embodied.replay.replays:\n",
      "\n",
      "class Uniform(dreamerv3.embodied.replay.generic.Generic)\n",
      " |  Uniform(length, capacity=None, directory=None, online=False, chunks=1024, min_size=1, samples_per_insert=None, tolerance=10000.0, seed=0)\n",
      " |  \n",
      " |  Method resolution order:\n",
      " |      Uniform\n",
      " |      dreamerv3.embodied.replay.generic.Generic\n",
      " |      builtins.object\n",
      " |  \n",
      " |  Methods defined here:\n",
      " |  \n",
      " |  __init__(self, length, capacity=None, directory=None, online=False, chunks=1024, min_size=1, samples_per_insert=None, tolerance=10000.0, seed=0)\n",
      " |      Initialize self.  See help(type(self)) for accurate signature.\n",
      " |  \n",
      " |  ----------------------------------------------------------------------\n",
      " |  Methods inherited from dreamerv3.embodied.replay.generic.Generic:\n",
      " |  \n",
      " |  __len__(self)\n",
      " |  \n",
      " |  add(self, step, worker=0, load=False)\n",
      " |  \n",
      " |  dataset(self)\n",
      " |  \n",
      " |  load(self, data=None)\n",
      " |  \n",
      " |  prioritize(self, ids, prios)\n",
      " |  \n",
      " |  save(self, wait=False)\n",
      " |  \n",
      " |  ----------------------------------------------------------------------\n",
      " |  Readonly properties inherited from dreamerv3.embodied.replay.generic.Generic:\n",
      " |  \n",
      " |  stats\n",
      " |  \n",
      " |  ----------------------------------------------------------------------\n",
      " |  Data descriptors inherited from dreamerv3.embodied.replay.generic.Generic:\n",
      " |  \n",
      " |  __dict__\n",
      " |      dictionary for instance variables\n",
      " |  \n",
      " |  __weakref__\n",
      " |      list of weak references to the object\n",
      "\n"
     ]
    },
    {
     "ename": "",
     "evalue": "",
     "output_type": "error",
     "traceback": [
      "\u001b[1;31mThe Kernel crashed while executing code in the current cell or a previous cell. \n",
      "\u001b[1;31mPlease review the code in the cell(s) to identify a possible cause of the failure. \n",
      "\u001b[1;31mClick <a href='https://aka.ms/vscodeJupyterKernelCrash'>here</a> for more info. \n",
      "\u001b[1;31mView Jupyter <a href='command:jupyter.viewOutput'>log</a> for further details."
     ]
    }
   ],
   "source": [
    "help(embodied.replay.Uniform)"
   ]
  },
  {
   "cell_type": "code",
   "execution_count": 13,
   "metadata": {},
   "outputs": [
    {
     "name": "stdout",
     "output_type": "stream",
     "text": [
      "Encoder CNN shapes: {'image': (64, 64, 3), 'structure_strain_energy': (64, 64, 3)}\n",
      "Encoder MLP shapes: {'beta': (27,), 'design_variables': (48,), 'n_steps_left': (1,), 'score': (1,), 'volume': (1,)}\n",
      "Decoder CNN shapes: {'image': (64, 64, 3), 'structure_strain_energy': (64, 64, 3)}\n",
      "Decoder MLP shapes: {'beta': (27,), 'design_variables': (48,), 'n_steps_left': (1,), 'score': (1,), 'volume': (1,)}\n",
      "JAX devices (1): [CpuDevice(id=0)]\n",
      "Policy devices: TFRT_CPU_0\n",
      "Train devices:  TFRT_CPU_0\n",
      "Tracing train function.\n",
      "Optimizer model_opt has 43,787,668 variables.\n",
      "Optimizer actor_opt has 2,141,452 variables.\n",
      "Optimizer critic_opt has 2,297,215 variables.\n"
     ]
    },
    {
     "data": {
      "text/html": [
       "<pre style=\"white-space:pre;overflow-x:auto;line-height:normal;font-family:Menlo,'DejaVu Sans Mono',consolas,'Courier New',monospace\"><span style=\"color: #800000; text-decoration-color: #800000\">╭─────────────────────────────── </span><span style=\"color: #800000; text-decoration-color: #800000; font-weight: bold\">Traceback </span><span style=\"color: #bf7f7f; text-decoration-color: #bf7f7f; font-weight: bold\">(most recent call last)</span><span style=\"color: #800000; text-decoration-color: #800000\"> ────────────────────────────────╮</span>\n",
       "<span style=\"color: #800000; text-decoration-color: #800000\">│</span> in <span style=\"color: #00ff00; text-decoration-color: #00ff00\">&lt;module&gt;</span>:<span style=\"color: #0000ff; text-decoration-color: #0000ff\">48</span>                                                                                   <span style=\"color: #800000; text-decoration-color: #800000\">│</span>\n",
       "<span style=\"color: #800000; text-decoration-color: #800000\">│</span>                                                                                                  <span style=\"color: #800000; text-decoration-color: #800000\">│</span>\n",
       "<span style=\"color: #800000; text-decoration-color: #800000\">│</span>   <span style=\"color: #7f7f7f; text-decoration-color: #7f7f7f\">45 </span>checkpoint = embodied.Checkpoint()                                                          <span style=\"color: #800000; text-decoration-color: #800000\">│</span>\n",
       "<span style=\"color: #800000; text-decoration-color: #800000\">│</span>   <span style=\"color: #7f7f7f; text-decoration-color: #7f7f7f\">46 </span>checkpoint.agent = agent                                                                    <span style=\"color: #800000; text-decoration-color: #800000\">│</span>\n",
       "<span style=\"color: #800000; text-decoration-color: #800000\">│</span>   <span style=\"color: #7f7f7f; text-decoration-color: #7f7f7f\">47 # checkpoint.load('./logdir/run1/checkpoint.pkl', keys=['agent'])</span>                           <span style=\"color: #800000; text-decoration-color: #800000\">│</span>\n",
       "<span style=\"color: #800000; text-decoration-color: #800000\">│</span> <span style=\"color: #800000; text-decoration-color: #800000\">❱ </span>48 obs=env._env.reset()                                                                        <span style=\"color: #800000; text-decoration-color: #800000\">│</span>\n",
       "<span style=\"color: #800000; text-decoration-color: #800000\">│</span>   <span style=\"color: #7f7f7f; text-decoration-color: #7f7f7f\">49 </span>obs=env._obs(obs, <span style=\"color: #0000ff; text-decoration-color: #0000ff\">0.0</span>, is_first=<span style=\"color: #0000ff; text-decoration-color: #0000ff\">True</span>)                                                       <span style=\"color: #800000; text-decoration-color: #800000\">│</span>\n",
       "<span style=\"color: #800000; text-decoration-color: #800000\">│</span>   <span style=\"color: #7f7f7f; text-decoration-color: #7f7f7f\">50 </span>obs = {k: embodied.convert(v) <span style=\"color: #0000ff; text-decoration-color: #0000ff\">for</span> k, v <span style=\"color: #ff00ff; text-decoration-color: #ff00ff\">in</span> obs.items()}                                      <span style=\"color: #800000; text-decoration-color: #800000\">│</span>\n",
       "<span style=\"color: #800000; text-decoration-color: #800000\">│</span>   <span style=\"color: #7f7f7f; text-decoration-color: #7f7f7f\">51 </span>                                                                                            <span style=\"color: #800000; text-decoration-color: #800000\">│</span>\n",
       "<span style=\"color: #800000; text-decoration-color: #800000\">╰──────────────────────────────────────────────────────────────────────────────────────────────────╯</span>\n",
       "<span style=\"color: #ff0000; text-decoration-color: #ff0000; font-weight: bold\">AttributeError: </span><span style=\"color: #008000; text-decoration-color: #008000\">'BatchEnv'</span> object has no attribute <span style=\"color: #008000; text-decoration-color: #008000\">'_env'</span>\n",
       "</pre>\n"
      ],
      "text/plain": [
       "\u001b[31m╭─\u001b[0m\u001b[31m──────────────────────────────\u001b[0m\u001b[31m \u001b[0m\u001b[1;31mTraceback \u001b[0m\u001b[1;2;31m(most recent call last)\u001b[0m\u001b[31m \u001b[0m\u001b[31m───────────────────────────────\u001b[0m\u001b[31m─╮\u001b[0m\n",
       "\u001b[31m│\u001b[0m in \u001b[92m<module>\u001b[0m:\u001b[94m48\u001b[0m                                                                                   \u001b[31m│\u001b[0m\n",
       "\u001b[31m│\u001b[0m                                                                                                  \u001b[31m│\u001b[0m\n",
       "\u001b[31m│\u001b[0m   \u001b[2m45 \u001b[0mcheckpoint = embodied.Checkpoint()                                                          \u001b[31m│\u001b[0m\n",
       "\u001b[31m│\u001b[0m   \u001b[2m46 \u001b[0mcheckpoint.agent = agent                                                                    \u001b[31m│\u001b[0m\n",
       "\u001b[31m│\u001b[0m   \u001b[2m47 \u001b[0m\u001b[2m# checkpoint.load('./logdir/run1/checkpoint.pkl', keys=['agent'])\u001b[0m                           \u001b[31m│\u001b[0m\n",
       "\u001b[31m│\u001b[0m \u001b[31m❱ \u001b[0m48 obs=env._env.reset()                                                                        \u001b[31m│\u001b[0m\n",
       "\u001b[31m│\u001b[0m   \u001b[2m49 \u001b[0mobs=env._obs(obs, \u001b[94m0.0\u001b[0m, is_first=\u001b[94mTrue\u001b[0m)                                                       \u001b[31m│\u001b[0m\n",
       "\u001b[31m│\u001b[0m   \u001b[2m50 \u001b[0mobs = {k: embodied.convert(v) \u001b[94mfor\u001b[0m k, v \u001b[95min\u001b[0m obs.items()}                                      \u001b[31m│\u001b[0m\n",
       "\u001b[31m│\u001b[0m   \u001b[2m51 \u001b[0m                                                                                            \u001b[31m│\u001b[0m\n",
       "\u001b[31m╰──────────────────────────────────────────────────────────────────────────────────────────────────╯\u001b[0m\n",
       "\u001b[1;91mAttributeError: \u001b[0m\u001b[32m'BatchEnv'\u001b[0m object has no attribute \u001b[32m'_env'\u001b[0m\n"
      ]
     },
     "metadata": {},
     "output_type": "display_data"
    }
   ],
   "source": [
    "from sogym.env_gym import sogym\n",
    "import warnings\n",
    "import dreamerv3\n",
    "from dreamerv3 import embodied\n",
    "warnings.filterwarnings('ignore', '.*truncated to dtype int32.*')\n",
    "\n",
    "# See configs.yaml for all options.\n",
    "config = embodied.Config(dreamerv3.configs['defaults'])\n",
    "config = config.update(dreamerv3.configs['medium'])\n",
    "config = config.update({\n",
    "    'logdir': './logdir/run2_test',\n",
    "    'run.train_ratio': 64,\n",
    "    'run.log_every': 30,  # Seconds\n",
    "    'batch_size': 16,\n",
    "    'encoder.mlp_keys': ['beta','volume','design_variables','n_steps_left'],\n",
    "    'decoder.mlp_keys':  ['beta','volume','design_variables','n_steps_left'],\n",
    "    'encoder.cnn_keys': ['image','structure_strain_energy'],\n",
    "    'decoder.cnn_keys': ['image','structure_strain_energy'],\n",
    "    'jax.platform': 'cpu',\n",
    "    # 'encoder.resize':'stride3',\n",
    "    # 'decoder.resize':'stride3',\n",
    "\n",
    "})\n",
    "\n",
    "# Setup logging and agents\n",
    "logdir = embodied.Path(config.logdir)\n",
    "step = embodied.Counter()\n",
    "logger = embodied.Logger(step, [\n",
    "    embodied.logger.TerminalOutput(),\n",
    "    embodied.logger.JSONLOutput(logdir, 'metrics.jsonl'),\n",
    "    embodied.logger.TensorBoardOutput(logdir),\n",
    "])\n",
    "\n",
    "\n",
    "import crafter\n",
    "from embodied.envs import from_gym\n",
    "from embodied.envs import from_gym\n",
    "env = sogym(mode='train',observation_type='topopt_game',vol_constraint_type = 'hard',resolution=50,img_format = 'HWC',check_connectivity=True) # Replace this with your Gym env.\n",
    "# env = StepAPICompatibility(env[0])\n",
    "env = from_gym.FromGym(env)\n",
    "env = dreamerv3.wrap_env(env, config)\n",
    "env = embodied.BatchEnv([env], parallel=False)\n",
    "\n",
    "agent = dreamerv3.Agent(env.obs_space, env.act_space, step, config)\n",
    "checkpoint = embodied.Checkpoint()\n",
    "checkpoint.agent = agent\n",
    "# checkpoint.load('./logdir/run1/checkpoint.pkl', keys=['agent'])\n",
    "obs=env._env.reset()\n",
    "obs=env._obs(obs, 0.0, is_first=True)\n",
    "obs = {k: embodied.convert(v) for k, v in obs.items()}\n",
    "\n",
    "act, state = agent.policy(obs, mode='eval')"
   ]
  },
  {
   "cell_type": "code",
   "execution_count": 14,
   "metadata": {},
   "outputs": [],
   "source": [
    "driver = embodied.Driver(env)\n",
    "driver.on_episode(lambda ep, worker: per_episode(ep))\n",
    "driver.on_step(lambda tran, _: step.increment())\n",
    "policy = lambda *args: agent.policy(*args, mode='eval')"
   ]
  },
  {
   "cell_type": "code",
   "execution_count": 80,
   "metadata": {},
   "outputs": [],
   "source": [
    "driver.reset()\n",
    "driver._state"
   ]
  },
  {
   "cell_type": "code",
   "execution_count": 7,
   "metadata": {},
   "outputs": [
    {
     "data": {
      "text/plain": [
       "<bound method FromGym._obs of FromGym(len=0, obs_space={'conditions': Space(dtype=float32, shape=(9,), low=-1.0, high=1.0), 'design_variables': Space(dtype=float32, shape=(48,), low=-3.1415927410125732, high=3.1415927410125732), 'n_steps_left': Space(dtype=float32, shape=(1,), low=0.0, high=1.0), 'volume': Space(dtype=float32, shape=(1,), low=0.0, high=1.0), 'reward': Space(dtype=float32, shape=(), low=-inf, high=inf), 'is_first': Space(dtype=bool, shape=(), low=False, high=True), 'is_last': Space(dtype=bool, shape=(), low=False, high=True), 'is_terminal': Space(dtype=bool, shape=(), low=False, high=True)}, act_space={'action': Space(dtype=float32, shape=(6,), low=-1.0, high=1.0), 'reset': Space(dtype=bool, shape=(), low=False, high=True)})>"
      ]
     },
     "execution_count": 7,
     "metadata": {},
     "output_type": "execute_result"
    }
   ],
   "source": [
    "env = sogym(nelx=100,nely=50,mode='train',observation_type='dense')  # Replace this with your Gym env.\n",
    "env = from_gym.FromGym(env)\n",
    "env._obs"
   ]
  },
  {
   "cell_type": "code",
   "execution_count": 11,
   "metadata": {},
   "outputs": [
    {
     "data": {
      "text/plain": [
       "{'conditions': array([ 0.5882353 ,  0.990099  ,  0.        ,  0.        ,  0.98039216,\n",
       "         0.        ,  0.3       ,  0.57357645, -0.81915206], dtype=float32),\n",
       " 'design_variables': array([0., 0., 0., 0., 0., 0., 0., 0., 0., 0., 0., 0., 0., 0., 0., 0., 0.,\n",
       "        0., 0., 0., 0., 0., 0., 0., 0., 0., 0., 0., 0., 0., 0., 0., 0., 0.,\n",
       "        0., 0., 0., 0., 0., 0., 0., 0., 0., 0., 0., 0., 0., 0.],\n",
       "       dtype=float32),\n",
       " 'volume': array([0.], dtype=float32),\n",
       " 'n_steps_left': array([1.], dtype=float32)}"
      ]
     },
     "execution_count": 11,
     "metadata": {},
     "output_type": "execute_result"
    }
   ],
   "source": [
    "env._env.reset()\n"
   ]
  },
  {
   "cell_type": "code",
   "execution_count": 12,
   "metadata": {},
   "outputs": [
    {
     "data": {
      "text/plain": [
       "array([[0., 0., 0., ..., 0., 0., 0.],\n",
       "       [0., 0., 0., ..., 0., 0., 0.],\n",
       "       [0., 0., 0., ..., 0., 0., 0.],\n",
       "       ...,\n",
       "       [0., 0., 0., ..., 0., 0., 0.],\n",
       "       [0., 0., 0., ..., 0., 0., 0.],\n",
       "       [0., 0., 0., ..., 0., 0., 0.]])"
      ]
     },
     "execution_count": 12,
     "metadata": {},
     "output_type": "execute_result"
    }
   ],
   "source": [
    "env._env.Phi\n"
   ]
  },
  {
   "cell_type": "code",
   "execution_count": 65,
   "metadata": {},
   "outputs": [],
   "source": [
    "obs=env._env.reset()"
   ]
  },
  {
   "cell_type": "code",
   "execution_count": 66,
   "metadata": {},
   "outputs": [
    {
     "data": {
      "text/plain": [
       "{'conditions': array([ 0.64705884,  0.        ,  0.        ,  0.990099  ,  0.98039216,\n",
       "         0.990099  ,  0.3       ,  0.57357645, -0.81915206], dtype=float32),\n",
       " 'design_variables': array([0., 0., 0., 0., 0., 0., 0., 0., 0., 0., 0., 0., 0., 0., 0., 0., 0.,\n",
       "        0., 0., 0., 0., 0., 0., 0., 0., 0., 0., 0., 0., 0., 0., 0., 0., 0.,\n",
       "        0., 0., 0., 0., 0., 0., 0., 0., 0., 0., 0., 0., 0., 0.],\n",
       "       dtype=float32),\n",
       " 'volume': array([0.], dtype=float32),\n",
       " 'n_steps_left': array([1.], dtype=float32),\n",
       " 'reward': 0.0,\n",
       " 'is_first': True,\n",
       " 'is_last': False,\n",
       " 'is_terminal': False}"
      ]
     },
     "execution_count": 66,
     "metadata": {},
     "output_type": "execute_result"
    }
   ],
   "source": [
    "env._obs(obs, 0.0, is_first=True)"
   ]
  },
  {
   "cell_type": "code",
   "execution_count": 40,
   "metadata": {},
   "outputs": [],
   "source": [
    "env = sogym(mode='test',observation_type='topopt_game',vol_constraint_type = 'hard',resolution=50,img_format = 'HWC',check_connectivity=True)  # Replace this with your Gym env.\n",
    "env = from_gym.FromGym(env)\n",
    "env = dreamerv3.wrap_env(env, config)\n",
    "env = embodied.BatchEnv([env], parallel=False)\n",
    "driver = embodied.Driver(env)\n",
    "driver.on_step(lambda tran, _: step.increment())"
   ]
  },
  {
   "cell_type": "code",
   "execution_count": 41,
   "metadata": {},
   "outputs": [
    {
     "name": "stdout",
     "output_type": "stream",
     "text": [
      "Loading checkpoint: logdir/run2/checkpoint.ckpt\n",
      "Loaded checkpoint from 441 seconds ago.\n",
      "Start evaluation loop.\n"
     ]
    }
   ],
   "source": [
    "checkpoint = embodied.Checkpoint()\n",
    "checkpoint.agent = agent\n",
    "checkpoint.load('./logdir/run2/checkpoint.ckpt', keys=['agent'])\n",
    "\n",
    "print('Start evaluation loop.')\n",
    "policy = lambda *args: agent.policy(*args, mode='eval')\n",
    "driver(policy, steps=1)"
   ]
  },
  {
   "cell_type": "code",
   "execution_count": 160,
   "metadata": {},
   "outputs": [],
   "source": [
    "driver.reset()"
   ]
  },
  {
   "cell_type": "code",
   "execution_count": 161,
   "metadata": {},
   "outputs": [
    {
     "name": "stdout",
     "output_type": "stream",
     "text": [
      "(3621, 8)\n"
     ]
    }
   ],
   "source": [
    "driver(policy, steps=1)\n",
    "print(driver._env._envs[0]._env.Phi.shape)\n",
    "fig = driver._env._envs[0]._env.plot(train_viz=False)\n",
    "fig.savefig('./test.png')"
   ]
  },
  {
   "cell_type": "code",
   "execution_count": 159,
   "metadata": {},
   "outputs": [
    {
     "name": "stdout",
     "output_type": "stream",
     "text": [
      "0.0\n"
     ]
    }
   ],
   "source": [
    "print(driver._env._envs[0]._env.reward)\n"
   ]
  },
  {
   "cell_type": "code",
   "execution_count": 166,
   "metadata": {},
   "outputs": [
    {
     "name": "stdout",
     "output_type": "stream",
     "text": [
      "0.08004727041897663\n"
     ]
    }
   ],
   "source": [
    "averages_230k = [\n",
    "    0.14055679996514453,\n",
    "    0.0,\n",
    "    0.0,\n",
    "    0.20858127168878116,\n",
    "    0.0,\n",
    "    0.10978794636986791,\n",
    "    0.0,\n",
    "    0.12671785105502856,\n",
    "    0.21482883511094422,\n",
    "    0.0\n",
    "]\n",
    "\n",
    "import numpy as np\n",
    "average = np.mean(averages)\n",
    "print(average)\n",
    "transformed_average = (1/np.exp(1 / average))"
   ]
  },
  {
   "cell_type": "code",
   "execution_count": null,
   "metadata": {},
   "outputs": [],
   "source": [
    "def calculate_slope(x1, y1, x2, y2):\n",
    "    # Check if the line is vertical to avoid division by zero\n",
    "    if x2 == x1:\n",
    "        return \"undefined\"  # The slope of a vertical line is undefined\n",
    "    else:\n",
    "        slope = (y2 - y1) / (x2 - x1)\n",
    "        return slope\n",
    "\n",
    "calculate_slope()"
   ]
  },
  {
   "cell_type": "code",
   "execution_count": 7,
   "metadata": {},
   "outputs": [],
   "source": [
    "import importlib\n",
    "import pathlib\n",
    "import sys\n",
    "import warnings\n",
    "from functools import partial as bind\n",
    "from embodied import wrappers\n",
    "\n",
    "env = sogym(mode='train',observation_type='topopt_game',vol_constraint_type = 'hard',resolution=50,check_connectivity=True)  # Replace this with your Gym env.\n",
    "env = from_gym.FromGym(env)\n",
    "def make_envs(config, **overrides):\n",
    "  suite, task = config.task.split('_', 1)\n",
    "  ctors = []\n",
    "  for index in range(config.envs.amount):\n",
    "    ctor = lambda: wrap_env(env, config)\n",
    "    if config.envs.parallel != 'none':\n",
    "      ctor = bind(embodied.Parallel, ctor, config.envs.parallel)\n",
    "    if config.envs.restart:\n",
    "      ctor = bind(wrappers.RestartOnException, ctor)\n",
    "    ctors.append(ctor)\n",
    "  envs = [ctor() for ctor in ctors]\n",
    "  return embodied.BatchEnv(envs, parallel=(config.envs.parallel != 'none'))"
   ]
  },
  {
   "cell_type": "code",
   "execution_count": 8,
   "metadata": {},
   "outputs": [],
   "source": [
    "def make_replay(\n",
    "    config, directory=None, is_eval=False, rate_limit=False, **kwargs):\n",
    "  assert config.replay == 'uniform' or not rate_limit\n",
    "  length = config.batch_length\n",
    "  size = config.replay_size // 10 if is_eval else config.replay_size\n",
    "  if config.replay == 'uniform' or is_eval:\n",
    "    kw = {'online': config.replay_online}\n",
    "    if rate_limit and config.run.train_ratio > 0:\n",
    "      kw['samples_per_insert'] = config.run.train_ratio / config.batch_length\n",
    "      kw['tolerance'] = 10 * config.batch_size\n",
    "      kw['min_size'] = config.batch_size\n",
    "    replay = embodied.replay.Uniform(length, size, directory, **kw)\n",
    "  elif config.replay == 'reverb':\n",
    "    replay = embodied.replay.Reverb(length, size, directory)\n",
    "  elif config.replay == 'chunks':\n",
    "    replay = embodied.replay.NaiveChunks(length, size, directory)\n",
    "  else:\n",
    "    raise NotImplementedError(config.replay)\n",
    "  return replay\n",
    "\n",
    "\n",
    "\n",
    "\n",
    "def wrap_env(env, config):\n",
    "  args = config.wrapper\n",
    "  for name, space in env.act_space.items():\n",
    "    if name == 'reset':\n",
    "      continue\n",
    "    elif space.discrete:\n",
    "      env = wrappers.OneHotAction(env, name)\n",
    "    elif args.discretize:\n",
    "      env = wrappers.DiscretizeAction(env, name, args.discretize)\n",
    "    else:\n",
    "      env = wrappers.NormalizeAction(env, name)\n",
    "  env = wrappers.ExpandScalars(env)\n",
    "  if args.length:\n",
    "    env = wrappers.TimeLimit(env, args.length, args.reset)\n",
    "  if args.checks:\n",
    "    env = wrappers.CheckSpaces(env)\n",
    "  for name, space in env.act_space.items():\n",
    "    if not space.discrete:\n",
    "      env = wrappers.ClipAction(env, name)\n",
    "  return env"
   ]
  },
  {
   "cell_type": "code",
   "execution_count": null,
   "metadata": {},
   "outputs": [],
   "source": []
  },
  {
   "cell_type": "code",
   "execution_count": 10,
   "metadata": {},
   "outputs": [],
   "source": [
    "config = config.update({\n",
    "    'logdir': 'logdir/run1',\n",
    "    'run.train_ratio': 64,\n",
    "    'run.log_every': 30,  # Seconds\n",
    "    'batch_size': 16,\n",
    "    'encoder.mlp_keys': ['conditions','volume','design_variables','n_steps_left'],\n",
    "    'decoder.mlp_keys':  ['conditions','volume','design_variables','n_steps_left'],\n",
    "    'encoder.cnn_keys': '$^',\n",
    "    'decoder.cnn_keys': '$^',\n",
    "    'jax.platform': 'cpu',\n",
    "    'envs.amount':16,\n",
    "})"
   ]
  },
  {
   "cell_type": "code",
   "execution_count": 11,
   "metadata": {},
   "outputs": [
    {
     "data": {
      "text/html": [
       "<pre style=\"white-space:pre;overflow-x:auto;line-height:normal;font-family:Menlo,'DejaVu Sans Mono',consolas,'Courier New',monospace\"><span style=\"color: #800000; text-decoration-color: #800000\">╭─────────────────────────────── </span><span style=\"color: #800000; text-decoration-color: #800000; font-weight: bold\">Traceback </span><span style=\"color: #bf7f7f; text-decoration-color: #bf7f7f; font-weight: bold\">(most recent call last)</span><span style=\"color: #800000; text-decoration-color: #800000\"> ────────────────────────────────╮</span>\n",
       "<span style=\"color: #800000; text-decoration-color: #800000\">│</span> in <span style=\"color: #00ff00; text-decoration-color: #00ff00\">&lt;module&gt;</span>:<span style=\"color: #0000ff; text-decoration-color: #0000ff\">1</span>                                                                                    <span style=\"color: #800000; text-decoration-color: #800000\">│</span>\n",
       "<span style=\"color: #800000; text-decoration-color: #800000\">│</span>                                                                                                  <span style=\"color: #800000; text-decoration-color: #800000\">│</span>\n",
       "<span style=\"color: #800000; text-decoration-color: #800000\">│</span> <span style=\"color: #800000; text-decoration-color: #800000\">❱ </span>1 args = config.run.update(batch_steps=config.batch_size * config.batch_length)                <span style=\"color: #800000; text-decoration-color: #800000\">│</span>\n",
       "<span style=\"color: #800000; text-decoration-color: #800000\">│</span>   <span style=\"color: #7f7f7f; text-decoration-color: #7f7f7f\">2 </span>                                                                                             <span style=\"color: #800000; text-decoration-color: #800000\">│</span>\n",
       "<span style=\"color: #800000; text-decoration-color: #800000\">│</span>   <span style=\"color: #7f7f7f; text-decoration-color: #7f7f7f\">3 </span>replay = make_replay(config, logdir / <span style=\"color: #808000; text-decoration-color: #808000\">'replay'</span>)                                              <span style=\"color: #800000; text-decoration-color: #800000\">│</span>\n",
       "<span style=\"color: #800000; text-decoration-color: #800000\">│</span>   <span style=\"color: #7f7f7f; text-decoration-color: #7f7f7f\">4 </span>env = make_envs(config)                                                                      <span style=\"color: #800000; text-decoration-color: #800000\">│</span>\n",
       "<span style=\"color: #800000; text-decoration-color: #800000\">│</span>                                                                                                  <span style=\"color: #800000; text-decoration-color: #800000\">│</span>\n",
       "<span style=\"color: #800000; text-decoration-color: #800000\">│</span> <span style=\"color: #bfbf7f; text-decoration-color: #bfbf7f\">/home/thomas/anaconda3/envs/SB3_update/lib/python3.10/site-packages/dreamerv3/embodied/core/</span><span style=\"color: #808000; text-decoration-color: #808000; font-weight: bold\">conf</span> <span style=\"color: #800000; text-decoration-color: #800000\">│</span>\n",
       "<span style=\"color: #800000; text-decoration-color: #800000\">│</span> <span style=\"color: #808000; text-decoration-color: #808000; font-weight: bold\">ig.py</span>:<span style=\"color: #0000ff; text-decoration-color: #0000ff\">119</span> in <span style=\"color: #00ff00; text-decoration-color: #00ff00\">update</span>                                                                              <span style=\"color: #800000; text-decoration-color: #800000\">│</span>\n",
       "<span style=\"color: #800000; text-decoration-color: #800000\">│</span>                                                                                                  <span style=\"color: #800000; text-decoration-color: #800000\">│</span>\n",
       "<span style=\"color: #800000; text-decoration-color: #800000\">│</span>   <span style=\"color: #7f7f7f; text-decoration-color: #7f7f7f\">116 </span><span style=\"color: #7f7f7f; text-decoration-color: #7f7f7f\">│     </span><span style=\"color: #0000ff; text-decoration-color: #0000ff\">if</span> <span style=\"color: #ff00ff; text-decoration-color: #ff00ff\">not</span> keys:                                                                         <span style=\"color: #800000; text-decoration-color: #800000\">│</span>\n",
       "<span style=\"color: #800000; text-decoration-color: #800000\">│</span>   <span style=\"color: #7f7f7f; text-decoration-color: #7f7f7f\">117 </span><span style=\"color: #7f7f7f; text-decoration-color: #7f7f7f\">│   │   </span><span style=\"color: #0000ff; text-decoration-color: #0000ff\">raise</span> <span style=\"color: #00ffff; text-decoration-color: #00ffff\">KeyError</span>(<span style=\"color: #808000; text-decoration-color: #808000\">f'Unknown key or pattern {</span>key<span style=\"color: #808000; text-decoration-color: #808000\">}.'</span>)                                   <span style=\"color: #800000; text-decoration-color: #800000\">│</span>\n",
       "<span style=\"color: #800000; text-decoration-color: #800000\">│</span>   <span style=\"color: #7f7f7f; text-decoration-color: #7f7f7f\">118 </span><span style=\"color: #7f7f7f; text-decoration-color: #7f7f7f\">│     </span><span style=\"color: #0000ff; text-decoration-color: #0000ff\">for</span> key <span style=\"color: #ff00ff; text-decoration-color: #ff00ff\">in</span> keys:                                                                     <span style=\"color: #800000; text-decoration-color: #800000\">│</span>\n",
       "<span style=\"color: #800000; text-decoration-color: #800000\">│</span> <span style=\"color: #800000; text-decoration-color: #800000\">❱ </span>119 <span style=\"color: #7f7f7f; text-decoration-color: #7f7f7f\">│   │   </span>old = result[key]                                                                  <span style=\"color: #800000; text-decoration-color: #800000\">│</span>\n",
       "<span style=\"color: #800000; text-decoration-color: #800000\">│</span>   <span style=\"color: #7f7f7f; text-decoration-color: #7f7f7f\">120 </span><span style=\"color: #7f7f7f; text-decoration-color: #7f7f7f\">│   │   </span><span style=\"color: #0000ff; text-decoration-color: #0000ff\">try</span>:                                                                               <span style=\"color: #800000; text-decoration-color: #800000\">│</span>\n",
       "<span style=\"color: #800000; text-decoration-color: #800000\">│</span>   <span style=\"color: #7f7f7f; text-decoration-color: #7f7f7f\">121 </span><span style=\"color: #7f7f7f; text-decoration-color: #7f7f7f\">│   │     </span><span style=\"color: #0000ff; text-decoration-color: #0000ff\">if</span> <span style=\"color: #00ffff; text-decoration-color: #00ffff\">isinstance</span>(old, <span style=\"color: #00ffff; text-decoration-color: #00ffff\">int</span>) <span style=\"color: #ff00ff; text-decoration-color: #ff00ff\">and</span> <span style=\"color: #00ffff; text-decoration-color: #00ffff\">isinstance</span>(new, <span style=\"color: #00ffff; text-decoration-color: #00ffff\">float</span>):                              <span style=\"color: #800000; text-decoration-color: #800000\">│</span>\n",
       "<span style=\"color: #800000; text-decoration-color: #800000\">│</span>   <span style=\"color: #7f7f7f; text-decoration-color: #7f7f7f\">122 </span><span style=\"color: #7f7f7f; text-decoration-color: #7f7f7f\">│   │   │   </span><span style=\"color: #0000ff; text-decoration-color: #0000ff\">if</span> <span style=\"color: #00ffff; text-decoration-color: #00ffff\">float</span>(<span style=\"color: #00ffff; text-decoration-color: #00ffff\">int</span>(new)) != new:                                                     <span style=\"color: #800000; text-decoration-color: #800000\">│</span>\n",
       "<span style=\"color: #800000; text-decoration-color: #800000\">╰──────────────────────────────────────────────────────────────────────────────────────────────────╯</span>\n",
       "<span style=\"color: #ff0000; text-decoration-color: #ff0000; font-weight: bold\">KeyError: </span><span style=\"color: #008000; text-decoration-color: #008000\">'batch_steps'</span>\n",
       "</pre>\n"
      ],
      "text/plain": [
       "\u001b[31m╭─\u001b[0m\u001b[31m──────────────────────────────\u001b[0m\u001b[31m \u001b[0m\u001b[1;31mTraceback \u001b[0m\u001b[1;2;31m(most recent call last)\u001b[0m\u001b[31m \u001b[0m\u001b[31m───────────────────────────────\u001b[0m\u001b[31m─╮\u001b[0m\n",
       "\u001b[31m│\u001b[0m in \u001b[92m<module>\u001b[0m:\u001b[94m1\u001b[0m                                                                                    \u001b[31m│\u001b[0m\n",
       "\u001b[31m│\u001b[0m                                                                                                  \u001b[31m│\u001b[0m\n",
       "\u001b[31m│\u001b[0m \u001b[31m❱ \u001b[0m1 args = config.run.update(batch_steps=config.batch_size * config.batch_length)                \u001b[31m│\u001b[0m\n",
       "\u001b[31m│\u001b[0m   \u001b[2m2 \u001b[0m                                                                                             \u001b[31m│\u001b[0m\n",
       "\u001b[31m│\u001b[0m   \u001b[2m3 \u001b[0mreplay = make_replay(config, logdir / \u001b[33m'\u001b[0m\u001b[33mreplay\u001b[0m\u001b[33m'\u001b[0m)                                              \u001b[31m│\u001b[0m\n",
       "\u001b[31m│\u001b[0m   \u001b[2m4 \u001b[0menv = make_envs(config)                                                                      \u001b[31m│\u001b[0m\n",
       "\u001b[31m│\u001b[0m                                                                                                  \u001b[31m│\u001b[0m\n",
       "\u001b[31m│\u001b[0m \u001b[2;33m/home/thomas/anaconda3/envs/SB3_update/lib/python3.10/site-packages/dreamerv3/embodied/core/\u001b[0m\u001b[1;33mconf\u001b[0m \u001b[31m│\u001b[0m\n",
       "\u001b[31m│\u001b[0m \u001b[1;33mig.py\u001b[0m:\u001b[94m119\u001b[0m in \u001b[92mupdate\u001b[0m                                                                              \u001b[31m│\u001b[0m\n",
       "\u001b[31m│\u001b[0m                                                                                                  \u001b[31m│\u001b[0m\n",
       "\u001b[31m│\u001b[0m   \u001b[2m116 \u001b[0m\u001b[2m│     \u001b[0m\u001b[94mif\u001b[0m \u001b[95mnot\u001b[0m keys:                                                                         \u001b[31m│\u001b[0m\n",
       "\u001b[31m│\u001b[0m   \u001b[2m117 \u001b[0m\u001b[2m│   │   \u001b[0m\u001b[94mraise\u001b[0m \u001b[96mKeyError\u001b[0m(\u001b[33mf\u001b[0m\u001b[33m'\u001b[0m\u001b[33mUnknown key or pattern \u001b[0m\u001b[33m{\u001b[0mkey\u001b[33m}\u001b[0m\u001b[33m.\u001b[0m\u001b[33m'\u001b[0m)                                   \u001b[31m│\u001b[0m\n",
       "\u001b[31m│\u001b[0m   \u001b[2m118 \u001b[0m\u001b[2m│     \u001b[0m\u001b[94mfor\u001b[0m key \u001b[95min\u001b[0m keys:                                                                     \u001b[31m│\u001b[0m\n",
       "\u001b[31m│\u001b[0m \u001b[31m❱ \u001b[0m119 \u001b[2m│   │   \u001b[0mold = result[key]                                                                  \u001b[31m│\u001b[0m\n",
       "\u001b[31m│\u001b[0m   \u001b[2m120 \u001b[0m\u001b[2m│   │   \u001b[0m\u001b[94mtry\u001b[0m:                                                                               \u001b[31m│\u001b[0m\n",
       "\u001b[31m│\u001b[0m   \u001b[2m121 \u001b[0m\u001b[2m│   │     \u001b[0m\u001b[94mif\u001b[0m \u001b[96misinstance\u001b[0m(old, \u001b[96mint\u001b[0m) \u001b[95mand\u001b[0m \u001b[96misinstance\u001b[0m(new, \u001b[96mfloat\u001b[0m):                              \u001b[31m│\u001b[0m\n",
       "\u001b[31m│\u001b[0m   \u001b[2m122 \u001b[0m\u001b[2m│   │   │   \u001b[0m\u001b[94mif\u001b[0m \u001b[96mfloat\u001b[0m(\u001b[96mint\u001b[0m(new)) != new:                                                     \u001b[31m│\u001b[0m\n",
       "\u001b[31m╰──────────────────────────────────────────────────────────────────────────────────────────────────╯\u001b[0m\n",
       "\u001b[1;91mKeyError: \u001b[0m\u001b[32m'batch_steps'\u001b[0m\n"
      ]
     },
     "metadata": {},
     "output_type": "display_data"
    }
   ],
   "source": [
    "args = config.run.update(batch_steps=config.batch_size * config.batch_length)\n",
    "\n",
    "replay = make_replay(config, logdir / 'replay')\n",
    "env = make_envs(config)\n",
    "agent = agt.Agent(env.obs_space, env.act_space, step, config)\n",
    "embodied.run.train(agent, env, replay, logger, args)"
   ]
  },
  {
   "cell_type": "code",
   "execution_count": null,
   "metadata": {},
   "outputs": [],
   "source": []
  }
 ],
 "metadata": {
  "kernelspec": {
   "display_name": "dreamer",
   "language": "python",
   "name": "python3"
  },
  "language_info": {
   "codemirror_mode": {
    "name": "ipython",
    "version": 3
   },
   "file_extension": ".py",
   "mimetype": "text/x-python",
   "name": "python",
   "nbconvert_exporter": "python",
   "pygments_lexer": "ipython3",
   "version": "3.11.9"
  },
  "orig_nbformat": 4,
  "vscode": {
   "interpreter": {
    "hash": "543b525d97f62ecffc9bbae608fa7203c31bb659413ebf71ca56ae77171e55d0"
   }
  }
 },
 "nbformat": 4,
 "nbformat_minor": 2
}
