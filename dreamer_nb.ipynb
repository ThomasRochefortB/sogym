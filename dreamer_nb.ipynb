{
 "cells": [
  {
   "cell_type": "code",
   "execution_count": 9,
   "metadata": {},
   "outputs": [],
   "source": [
    "import os\n",
    "os.environ['OPENBLAS_NUM_THREADS'] = '1'   \n",
    "import pathlib\n",
    "import importlib\n",
    "import sys\n",
    "import warnings\n",
    "from functools import partial as bind\n",
    "\n",
    "\n",
    "import embodied\n",
    "from embodied import wrappers\n",
    "import dreamerv3\n",
    "\n",
    "from sogym.env_gym import sogym\n",
    "import warnings\n",
    "import dreamerv3\n",
    "from dreamerv3 import agent as agt\n",
    "\n",
    "from embodied.envs import from_gym"
   ]
  },
  {
   "cell_type": "code",
   "execution_count": 54,
   "metadata": {},
   "outputs": [
    {
     "name": "stdout",
     "output_type": "stream",
     "text": [
      "Observation space\n",
      "  beta             Space(dtype=float32, shape=(27,), low=-1.0, high=2.0)\n",
      "  design_variables Space(dtype=float32, shape=(48,), low=-1.0, high=1.0)\n",
      "  image            Space(dtype=uint8, shape=(64, 64, 3), low=0, high=255)\n",
      "  n_steps_left     Space(dtype=float32, shape=(1,), low=0.0, high=1.0)\n",
      "  score            Space(dtype=float32, shape=(1,), low=-inf, high=inf)\n",
      "  structure_strain_energy Space(dtype=uint8, shape=(64, 64, 3), low=0, high=255)\n",
      "  volume           Space(dtype=float32, shape=(1,), low=0.0, high=1.0)\n",
      "  reward           Space(dtype=float32, shape=(), low=-inf, high=inf)\n",
      "  is_first         Space(dtype=bool, shape=(), low=False, high=True)\n",
      "  is_last          Space(dtype=bool, shape=(), low=False, high=True)\n",
      "  is_terminal      Space(dtype=bool, shape=(), low=False, high=True)\n",
      "Action space\n",
      "  action           Space(dtype=float32, shape=(6,), low=-1.0, high=1.0)\n",
      "  reset            Space(dtype=bool, shape=(), low=False, high=True)\n",
      "Encoder: {'beta': (27,), 'design_variables': (48,), 'image': (64, 64, 3), 'n_steps_left': (1,), 'score': (1,), 'structure_strain_energy': (64, 64, 3), 'volume': (1,)}\n",
      "Decoder: {'beta': (27,), 'design_variables': (48,), 'image': (64, 64, 3), 'n_steps_left': (1,), 'score': (1,), 'structure_strain_energy': (64, 64, 3), 'volume': (1,)}\n",
      "JAX devices (2): [cuda(id=0), cuda(id=1)]\n",
      "Policy devices: cuda:0\n",
      "Train devices:  cuda:0\n",
      "Tracing train function\n",
      "ENC\n",
      "(1024, 1024) out\n",
      "DEC\n",
      "(1024, 4, 4, 64) in\n",
      "(1024, 64, 64, 6) out\n",
      "ENC\n",
      "(1024, 1024) out\n",
      "DEC\n",
      "(1024, 4, 4, 64) in\n",
      "(1024, 64, 64, 6) out\n",
      "Optimizer opt has 11,546,465 variables:\n",
      "    11,546,465 agent\n",
      "     6,045,184 agent/dyn\n",
      "     2,092,852 agent/dec\n",
      "       853,760 agent/critic\n",
      "       791,052 agent/actor\n",
      "       721,664 agent/rew\n",
      "       656,129 agent/con\n",
      "       385,824 agent/enc\n",
      "Tracing train function\n",
      "ENC\n",
      "(1024, 1024) out\n",
      "DEC\n",
      "(1024, 4, 4, 64) in\n",
      "(1024, 64, 64, 6) out\n",
      "ENC\n",
      "(1024, 1024) out\n",
      "DEC\n",
      "(1024, 4, 4, 64) in\n",
      "(1024, 64, 64, 6) out\n",
      "Tracing report function\n",
      "ENC\n",
      "(528, 1024) out\n",
      "DEC\n",
      "(528, 4, 4, 64) in\n",
      "(528, 64, 64, 6) out\n",
      "DEC\n",
      "(48, 4, 4, 64) in\n",
      "(48, 64, 64, 6) out\n",
      "DEC\n",
      "(150, 4, 4, 64) in\n",
      "(150, 64, 64, 6) out\n",
      "Done compiling train and report!\n",
      "Loading checkpoint: /home/thomas/datacortex/log_dreamer/logdir/12m_topopt_nostrain/checkpoint.ckpt\n",
      "Loaded checkpoint from 455205 seconds ago.\n"
     ]
    }
   ],
   "source": [
    "\n",
    "warnings.filterwarnings('ignore', '.*truncated to dtype int32.*')\n",
    "\n",
    "# See configs.yaml for all options.\n",
    "config = embodied.Config(agt.Agent.configs['defaults'])\n",
    "config = config.update(agt.Agent.configs['size12m'])\n",
    "  \n",
    "\n",
    "\n",
    "from embodied.envs import from_gym\n",
    "\n",
    "env = sogym(mode='train',observation_type='topopt_game',vol_constraint_type = 'hard',resolution=50,img_format = 'HWC',check_connectivity=True) # Replace this with your Gym env.\n",
    "# env = StepAPICompatibility(env[0])\n",
    "env = from_gym.FromGym(env)\n",
    "\n",
    "\n",
    "agent = agt.Agent(env.obs_space, env.act_space, config)\n",
    "eval_policy = lambda *args: agent.policy(*args, mode='eval')\n",
    "\n",
    "checkpoint = embodied.Checkpoint()\n",
    "checkpoint.agent = agent\n",
    "checkpoint.load('/home/thomas/datacortex/log_dreamer/logdir/12m_topopt_nostrain/checkpoint.ckpt', keys=['agent'])"
   ]
  },
  {
   "cell_type": "code",
   "execution_count": 89,
   "metadata": {},
   "outputs": [],
   "source": [
    "def make_eval_env(config, env_id=0):\n",
    "    from embodied.envs import from_gym\n",
    "    from sogym.env_gym import sogym\n",
    "    env = sogym(mode='test',observation_type='topopt_game',vol_constraint_type = 'hard',resolution=50,img_format = 'HWC',check_connectivity=True,use_std_strain=False) # Replace this with your Gym env.\n",
    "    env = from_gym.FromGym(env)\n",
    "    return env\n",
    "\n",
    "fns = [bind(make_eval_env, i) for i in range(1)]\n",
    "eval_driver = embodied.Driver(fns, False)\n",
    "eval_driver.on_step(lambda tran, _: step.increment())\n"
   ]
  },
  {
   "cell_type": "code",
   "execution_count": 192,
   "metadata": {},
   "outputs": [],
   "source": [
    "eval_driver.reset(agent.init_policy)"
   ]
  },
  {
   "cell_type": "code",
   "execution_count": 201,
   "metadata": {},
   "outputs": [
    {
     "name": "stdout",
     "output_type": "stream",
     "text": [
      "(6536, 8)\n"
     ]
    }
   ],
   "source": [
    "eval_driver(eval_policy, steps=1)\n",
    "print(eval_driver.envs[0]._env.Phi.shape)\n",
    "fig = eval_driver.envs[0]._env.plot(train_viz=False)\n",
    "fig.savefig('./test.png')"
   ]
  },
  {
   "cell_type": "code",
   "execution_count": 202,
   "metadata": {},
   "outputs": [
    {
     "name": "stdout",
     "output_type": "stream",
     "text": [
      "74.14160186457302\n",
      "-0.16469878839385527\n"
     ]
    }
   ],
   "source": [
    "print(eval_driver.envs[0]._env.compliance)\n",
    "\n",
    "predicted_volume = eval_driver.envs[0]._env.volume\n",
    "desired_volume = eval_driver.envs[0]._env.conditions['volfrac']\n",
    "\n",
    "print((predicted_volume-desired_volume)/desired_volume)"
   ]
  },
  {
   "cell_type": "code",
   "execution_count": 101,
   "metadata": {},
   "outputs": [
    {
     "name": "stdout",
     "output_type": "stream",
     "text": [
      "0.34334863982390557\n"
     ]
    }
   ],
   "source": [
    "print(predicted_volume)"
   ]
  },
  {
   "cell_type": "code",
   "execution_count": 205,
   "metadata": {},
   "outputs": [
    {
     "name": "stdout",
     "output_type": "stream",
     "text": [
      "49.894999999999996\n",
      "23.219\n"
     ]
    }
   ],
   "source": [
    "import numpy as np\n",
    "logged_comp = [\n",
    "    55.41,\n",
    "    37.2,\n",
    "    51.55,\n",
    "    48.24,\n",
    "    12.75,\n",
    "    29.68,\n",
    "    232.63,\n",
    "    37.63,\n",
    "    267.36,\n",
    "    74.14,\n",
    "]\n",
    "\n",
    "log_deltavol =[\n",
    "13.15,\n",
    "28.1,\n",
    "13.97,\n",
    "36.43,\n",
    "8.37,\n",
    "30.63,\n",
    "26.97,\n",
    "29.84,\n",
    "28.26,\n",
    "16.47\n",
    "]\n",
    "\n",
    "print(np.median(np.array(logged_comp)))\n",
    "print(np.mean(np.array(log_deltavol)))"
   ]
  },
  {
   "cell_type": "code",
   "execution_count": null,
   "metadata": {},
   "outputs": [],
   "source": []
  }
 ],
 "metadata": {
  "kernelspec": {
   "display_name": "dreamer",
   "language": "python",
   "name": "python3"
  },
  "language_info": {
   "codemirror_mode": {
    "name": "ipython",
    "version": 3
   },
   "file_extension": ".py",
   "mimetype": "text/x-python",
   "name": "python",
   "nbconvert_exporter": "python",
   "pygments_lexer": "ipython3",
   "version": "3.12.3"
  },
  "orig_nbformat": 4,
  "vscode": {
   "interpreter": {
    "hash": "543b525d97f62ecffc9bbae608fa7203c31bb659413ebf71ca56ae77171e55d0"
   }
  }
 },
 "nbformat": 4,
 "nbformat_minor": 2
}
