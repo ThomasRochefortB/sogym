{
 "cells": [
  {
   "cell_type": "code",
   "execution_count": 286,
   "id": "94e6157f-d831-41f7-b27c-f949e2253f3e",
   "metadata": {},
   "outputs": [
    {
     "name": "stdout",
     "output_type": "stream",
     "text": [
      "The autoreload extension is already loaded. To reload it, use:\n",
      "  %reload_ext autoreload\n"
     ]
    }
   ],
   "source": [
    "from env.env import sogym\n",
    "from env.utils import FigureRecorderCallback\n",
    "import numpy as np\n",
    "from stable_baselines3.common.env_checker import check_env\n",
    "from stable_baselines3.common.env_util import make_vec_env\n",
    "from stable_baselines3.common.vec_env import VecNormalize, SubprocVecEnv\n",
    "from stable_baselines3 import PPO\n",
    "%load_ext autoreload\n",
    "%autoreload 2\n"
   ]
  },
  {
   "cell_type": "markdown",
   "id": "d02b8cad-4629-49cf-a15e-ebb7c9a5b6c1",
   "metadata": {},
   "source": [
    "---\n",
    "### Environment test and visualization:"
   ]
  },
  {
   "cell_type": "code",
   "execution_count": 289,
   "id": "6edcde2a",
   "metadata": {},
   "outputs": [],
   "source": [
    "from stable_baselines3.common.env_checker import check_env\n",
    "# It will check your custom environment and output additional warnings if needed\n",
    "check_env(sogym(nelx=200,nely=100,mode='train',observation_type='image'))"
   ]
  },
  {
   "cell_type": "code",
   "execution_count": 290,
   "id": "85a4374a-b735-4474-8427-30b1d55dfe22",
   "metadata": {},
   "outputs": [],
   "source": [
    "# Let's test the environment using the check_env util from SB3:\n",
    "train_env = sogym(nelx=200,nely=100,mode='train',observation_type='image')\n",
    "eval_env = sogym(nelx=200,nely=100,mode='test',observation_type='image')"
   ]
  },
  {
   "cell_type": "code",
   "execution_count": 291,
   "id": "789bbd87",
   "metadata": {},
   "outputs": [
    {
     "name": "stdout",
     "output_type": "stream",
     "text": [
      "Number of unique BC + desired volume frac combinations in the train distribution:  8484\n",
      "Number of unique BC + desired volume frac combinations in the test distribution:  4812\n"
     ]
    }
   ],
   "source": [
    "# The training environment and the eval environment both have a different boundary conditions distribution:\n",
    "print(\"Number of unique BC + desired volume frac combinations in the train distribution: \",len(train_env.BC_dict))\n",
    "print(\"Number of unique BC + desired volume frac combinations in the test distribution: \",len(eval_env.BC_dict))"
   ]
  },
  {
   "cell_type": "code",
   "execution_count": 297,
   "id": "fdd08850",
   "metadata": {},
   "outputs": [
    {
     "ename": "KeyboardInterrupt",
     "evalue": "",
     "output_type": "error",
     "traceback": [
      "\u001b[0;31m---------------------------------------------------------------------------\u001b[0m",
      "\u001b[0;31mKeyboardInterrupt\u001b[0m                         Traceback (most recent call last)",
      "\u001b[1;32m/Users/thomasrochefort/Documents/GitHub/so_gym/tutorial.ipynb Cell 6\u001b[0m in \u001b[0;36m<cell line: 3>\u001b[0;34m()\u001b[0m\n\u001b[1;32m      <a href='vscode-notebook-cell:/Users/thomasrochefort/Documents/GitHub/so_gym/tutorial.ipynb#X23sZmlsZQ%3D%3D?line=5'>6</a>\u001b[0m     \u001b[39mwhile\u001b[39;00m \u001b[39mnot\u001b[39;00m done:\n\u001b[1;32m      <a href='vscode-notebook-cell:/Users/thomasrochefort/Documents/GitHub/so_gym/tutorial.ipynb#X23sZmlsZQ%3D%3D?line=6'>7</a>\u001b[0m         action \u001b[39m=\u001b[39m train_env\u001b[39m.\u001b[39maction_space\u001b[39m.\u001b[39msample()\n\u001b[0;32m----> <a href='vscode-notebook-cell:/Users/thomasrochefort/Documents/GitHub/so_gym/tutorial.ipynb#X23sZmlsZQ%3D%3D?line=7'>8</a>\u001b[0m         obs, reward, done, info \u001b[39m=\u001b[39m train_env\u001b[39m.\u001b[39;49mstep(action)\n\u001b[1;32m      <a href='vscode-notebook-cell:/Users/thomasrochefort/Documents/GitHub/so_gym/tutorial.ipynb#X23sZmlsZQ%3D%3D?line=8'>9</a>\u001b[0m \u001b[39mprint\u001b[39m(\u001b[39m\"\u001b[39m\u001b[39mVolume: \u001b[39m\u001b[39m\"\u001b[39m, train_env\u001b[39m.\u001b[39mvolume)\n\u001b[1;32m     <a href='vscode-notebook-cell:/Users/thomasrochefort/Documents/GitHub/so_gym/tutorial.ipynb#X23sZmlsZQ%3D%3D?line=9'>10</a>\u001b[0m \u001b[39mprint\u001b[39m(\u001b[39m\"\u001b[39m\u001b[39mReward \u001b[39m\u001b[39m\"\u001b[39m,reward)\n",
      "File \u001b[0;32m~/Documents/GitHub/so_gym/env/env.py:151\u001b[0m, in \u001b[0;36msogym.step\u001b[0;34m(self, action)\u001b[0m\n\u001b[1;32m    149\u001b[0m \u001b[39melse\u001b[39;00m: \u001b[39m# We are at the end of the episode\u001b[39;00m\n\u001b[1;32m    150\u001b[0m     done\u001b[39m=\u001b[39m\u001b[39mTrue\u001b[39;00m\n\u001b[0;32m--> 151\u001b[0m     \u001b[39mself\u001b[39m\u001b[39m.\u001b[39mcompliance,\u001b[39mself\u001b[39m\u001b[39m.\u001b[39mvolume\u001b[39m=\u001b[39mcalculate_compliance(\u001b[39mself\u001b[39;49m\u001b[39m.\u001b[39;49mH,\u001b[39mself\u001b[39;49m\u001b[39m.\u001b[39;49mconditions,\u001b[39mself\u001b[39;49m\u001b[39m.\u001b[39;49mDW,\u001b[39mself\u001b[39;49m\u001b[39m.\u001b[39;49mDH,\u001b[39mself\u001b[39;49m\u001b[39m.\u001b[39;49mnelx,\u001b[39mself\u001b[39;49m\u001b[39m.\u001b[39;49mnely) \u001b[39m# We calculate the compliance, volume and von Mises stress of the structure\u001b[39;00m\n\u001b[1;32m    153\u001b[0m     \u001b[39mif\u001b[39;00m \u001b[39mself\u001b[39m\u001b[39m.\u001b[39mvolume\u001b[39m<\u001b[39m\u001b[39m=\u001b[39m \u001b[39mself\u001b[39m\u001b[39m.\u001b[39mout_conditions[\u001b[39m6\u001b[39m]: \u001b[39m# The desired volume fraction is respected\u001b[39;00m\n\u001b[1;32m    154\u001b[0m         reward\u001b[39m=\u001b[39m(\u001b[39m1\u001b[39m\u001b[39m/\u001b[39m(\u001b[39mself\u001b[39m\u001b[39m.\u001b[39mcompliance\u001b[39m+\u001b[39m\u001b[39m1e-8\u001b[39m)) \u001b[39m# The reward is the inverse of the compliance (AKA the stiffness of the structure)\u001b[39;00m\n",
      "File \u001b[0;32m~/Documents/GitHub/so_gym/env/struct.py:266\u001b[0m, in \u001b[0;36mcalculate_compliance\u001b[0;34m(H, conditions, DW, DH, nelx, nely)\u001b[0m\n\u001b[1;32m    264\u001b[0m K \u001b[39m=\u001b[39m csc_matrix((sK\u001b[39m.\u001b[39mflatten(order\u001b[39m=\u001b[39m\u001b[39m'\u001b[39m\u001b[39mF\u001b[39m\u001b[39m'\u001b[39m), (Iar0[:,\u001b[39m0\u001b[39m], Iar0[:,\u001b[39m1\u001b[39m])), shape\u001b[39m=\u001b[39m(nDof, nDof))\n\u001b[1;32m    265\u001b[0m K \u001b[39m=\u001b[39m  K \u001b[39m+\u001b[39m K\u001b[39m.\u001b[39mT \u001b[39m-\u001b[39m diags((K\u001b[39m.\u001b[39mdiagonal()))\n\u001b[0;32m--> 266\u001b[0m U[freeDof] \u001b[39m=\u001b[39mspsolve(K[freeDof,:][:,freeDof], F[freeDof])\u001b[39m.\u001b[39mreshape((\u001b[39mlen\u001b[39m(freeDof),\u001b[39m1\u001b[39m))\n\u001b[1;32m    268\u001b[0m f0val \u001b[39m=\u001b[39m F\u001b[39m.\u001b[39mT\u001b[39m*\u001b[39mU\n\u001b[1;32m    270\u001b[0m Comp\u001b[39m=\u001b[39mf0val\n",
      "File \u001b[0;32m~/opt/anaconda3/envs/sb3/lib/python3.9/site-packages/scipy/sparse/linalg/_dsolve/linsolve.py:227\u001b[0m, in \u001b[0;36mspsolve\u001b[0;34m(A, b, permc_spec, use_umfpack)\u001b[0m\n\u001b[1;32m    224\u001b[0m     flag \u001b[39m=\u001b[39m \u001b[39m0\u001b[39m  \u001b[39m# CSR format\u001b[39;00m\n\u001b[1;32m    226\u001b[0m options \u001b[39m=\u001b[39m \u001b[39mdict\u001b[39m(ColPerm\u001b[39m=\u001b[39mpermc_spec)\n\u001b[0;32m--> 227\u001b[0m x, info \u001b[39m=\u001b[39m _superlu\u001b[39m.\u001b[39;49mgssv(N, A\u001b[39m.\u001b[39;49mnnz, A\u001b[39m.\u001b[39;49mdata, A\u001b[39m.\u001b[39;49mindices, A\u001b[39m.\u001b[39;49mindptr,\n\u001b[1;32m    228\u001b[0m                         b, flag, options\u001b[39m=\u001b[39;49moptions)\n\u001b[1;32m    229\u001b[0m \u001b[39mif\u001b[39;00m info \u001b[39m!=\u001b[39m \u001b[39m0\u001b[39m:\n\u001b[1;32m    230\u001b[0m     warn(\u001b[39m\"\u001b[39m\u001b[39mMatrix is exactly singular\u001b[39m\u001b[39m\"\u001b[39m, MatrixRankWarning)\n",
      "\u001b[0;31mKeyboardInterrupt\u001b[0m: "
     ]
    }
   ],
   "source": [
    "# Let's visualize the training environment on a random problem statement and visualize a 'successful' solution:\n",
    "reward = 0.0\n",
    "while reward<8e-3:\n",
    "    obs = train_env.reset()\n",
    "    done = False\n",
    "    while not done:\n",
    "        action = train_env.action_space.sample()\n",
    "        obs, reward, done, info = train_env.step(action)\n",
    "print(\"Volume: \", train_env.volume)\n",
    "print(\"Reward \",reward)\n",
    "train_env.plot()"
   ]
  },
  {
   "cell_type": "code",
   "execution_count": 295,
   "id": "efc0d065",
   "metadata": {},
   "outputs": [
    {
     "data": {
      "text/plain": [
       "939.7475662904769"
      ]
     },
     "execution_count": 295,
     "metadata": {},
     "output_type": "execute_result"
    }
   ],
   "source": [
    "# Split the obs['design_variables'] into blocks of 6 variables each and print each block:\n",
    "1/reward"
   ]
  },
  {
   "cell_type": "code",
   "execution_count": 263,
   "id": "c3ac8455",
   "metadata": {},
   "outputs": [
    {
     "name": "stdout",
     "output_type": "stream",
     "text": [
      "Volume:  0.5836852941345582\n",
      "Reward  0.0\n"
     ]
    },
    {
     "data": {
      "image/png": "[encoded data removed]",
      "text/plain": [
       "<Figure size 720x360 with 1 Axes>"
      ]
     },
     "execution_count": 263,
     "metadata": {},
     "output_type": "execute_result"
    }
   ],
   "source": [
    "# Let's visualize the eval environment:\n",
    "obs = eval_env.reset()\n",
    "done = False\n",
    "while not done:\n",
    "    action = eval_env.action_space.sample()\n",
    "    obs, reward, done, info = eval_env.step(action)\n",
    "print(\"Volume: \", eval_env.volume)\n",
    "print(\"Reward \",reward)\n",
    "eval_env.plot()"
   ]
  },
  {
   "cell_type": "code",
   "execution_count": 268,
   "id": "2ead7843",
   "metadata": {},
   "outputs": [
    {
     "data": {
      "text/plain": [
       "<matplotlib.image.AxesImage at 0x7f99a118c5b0>"
      ]
     },
     "execution_count": 268,
     "metadata": {},
     "output_type": "execute_result"
    },
    {
     "data": {
      "image/png": "[encoded data removed]",
      "text/plain": [
       "<Figure size 720x360 with 1 Axes>"
      ]
     },
     "metadata": {
      "needs_background": "light"
     },
     "output_type": "display_data"
    }
   ],
   "source": [
    "obs['image'].shape\n",
    "plt.imshow(obs['image'])"
   ]
  },
  {
   "cell_type": "markdown",
   "id": "7820005a-be57-4236-b66b-0b34ed558aff",
   "metadata": {},
   "source": [
    "---\n",
    "### Multiprocessing"
   ]
  },
  {
   "cell_type": "code",
   "execution_count": 248,
   "id": "d3e210c1-817a-42a8-ab28-2ea437ed2c4e",
   "metadata": {},
   "outputs": [],
   "source": [
    "num_cpu = 8 # Number of processes to use\n",
    "train_env = sogym(mode='train',observation_type='image')\n",
    "env= make_vec_env(lambda:train_env, n_envs=num_cpu,vec_env_cls=SubprocVecEnv)\n",
    "env=VecNormalize(env,gamma=1.0)\n",
    "\n",
    "eval_env = sogym(mode='test',observation_type='image')\n",
    "eval_env = make_vec_env(lambda:eval_env, n_envs=1,vec_env_cls=SubprocVecEnv)\n",
    "eval_env =VecNormalize(eval_env,gamma=1.0)\n"
   ]
  },
  {
   "cell_type": "code",
   "execution_count": 249,
   "id": "e2a4775c",
   "metadata": {},
   "outputs": [
    {
     "data": {
      "text/plain": [
       "<stable_baselines3.common.vec_env.vec_normalize.VecNormalize at 0x7f99be681cd0>"
      ]
     },
     "execution_count": 249,
     "metadata": {},
     "output_type": "execute_result"
    }
   ],
   "source": [
    "env"
   ]
  },
  {
   "cell_type": "code",
   "execution_count": 250,
   "id": "e06b39e1",
   "metadata": {},
   "outputs": [],
   "source": [
    "# Let's  test that an eval callback actually works:\n",
    "from stable_baselines3.common.callbacks import EvalCallback, CallbackList\n",
    "\n",
    "eval_callback = EvalCallback(eval_env,log_path='tb_logs',eval_freq=500,deterministic=True,render=False)\n",
    "callback = CallbackList([eval_callback,\n",
    "                         FigureRecorderCallback(check_freq=8*32)])"
   ]
  },
  {
   "cell_type": "markdown",
   "id": "826b6f2e-5ceb-447f-ac10-a52f0379cb31",
   "metadata": {},
   "source": [
    "--- \n",
    "### Defining the model"
   ]
  },
  {
   "cell_type": "code",
   "execution_count": 251,
   "id": "d38d23da-ccbe-4def-9e63-2cc973aa8d33",
   "metadata": {},
   "outputs": [],
   "source": [
    "model = PPO(\"MultiInputPolicy\",\n",
    "            env,\n",
    "            seed=42,\n",
    "            n_steps=32,\n",
    "            batch_size=32,\n",
    "            verbose=0,\n",
    "            gamma=1.0,\n",
    "            tensorboard_log=\"tb_logs\")"
   ]
  },
  {
   "cell_type": "markdown",
   "id": "20f70cf1-e15e-4fed-ab75-12bdca996f2d",
   "metadata": {},
   "source": [
    "--- \n",
    "### Training"
   ]
  },
  {
   "cell_type": "code",
   "execution_count": 252,
   "id": "2b3bf677-0636-4723-a840-9a519f8e6c2b",
   "metadata": {},
   "outputs": [
    {
     "name": "stderr",
     "output_type": "stream",
     "text": [
      "/Users/thomasrochefort/opt/anaconda3/envs/sb3/lib/python3.9/site-packages/stable_baselines3/common/callbacks.py:345: UserWarning: Training and eval env are not of the same type<stable_baselines3.common.vec_env.vec_transpose.VecTransposeImage object at 0x7f998b6137f0> != <stable_baselines3.common.vec_env.vec_normalize.VecNormalize object at 0x7f999cb43760>\n",
      "  warnings.warn(\"Training and eval env are not of the same type\" f\"{self.training_env} != {self.eval_env}\")\n"
     ]
    },
    {
     "ename": "AssertionError",
     "evalue": "Training and eval env are not wrapped the same way, see https://stable-baselines3.readthedocs.io/en/master/guide/callbacks.html#evalcallback and warning above.",
     "output_type": "error",
     "traceback": [
      "\u001b[0;31m---------------------------------------------------------------------------\u001b[0m",
      "\u001b[0;31mAttributeError\u001b[0m                            Traceback (most recent call last)",
      "File \u001b[0;32m~/opt/anaconda3/envs/sb3/lib/python3.9/site-packages/stable_baselines3/common/callbacks.py:382\u001b[0m, in \u001b[0;36mEvalCallback._on_step\u001b[0;34m(self)\u001b[0m\n\u001b[1;32m    381\u001b[0m \u001b[39mtry\u001b[39;00m:\n\u001b[0;32m--> 382\u001b[0m     sync_envs_normalization(\u001b[39mself\u001b[39;49m\u001b[39m.\u001b[39;49mtraining_env, \u001b[39mself\u001b[39;49m\u001b[39m.\u001b[39;49meval_env)\n\u001b[1;32m    383\u001b[0m \u001b[39mexcept\u001b[39;00m \u001b[39mAttributeError\u001b[39;00m \u001b[39mas\u001b[39;00m e:\n",
      "File \u001b[0;32m~/opt/anaconda3/envs/sb3/lib/python3.9/site-packages/stable_baselines3/common/vec_env/__init__.py:74\u001b[0m, in \u001b[0;36msync_envs_normalization\u001b[0;34m(env, eval_env)\u001b[0m\n\u001b[1;32m     73\u001b[0m env_tmp \u001b[39m=\u001b[39m env_tmp\u001b[39m.\u001b[39mvenv\n\u001b[0;32m---> 74\u001b[0m eval_env_tmp \u001b[39m=\u001b[39m eval_env_tmp\u001b[39m.\u001b[39;49mvenv\n",
      "\u001b[0;31mAttributeError\u001b[0m: 'SubprocVecEnv' object has no attribute 'venv'",
      "\nThe above exception was the direct cause of the following exception:\n",
      "\u001b[0;31mAssertionError\u001b[0m                            Traceback (most recent call last)",
      "\u001b[1;32m/Users/thomasrochefort/Documents/GitHub/so_gym/tutorial.ipynb Cell 17\u001b[0m in \u001b[0;36m<cell line: 1>\u001b[0;34m()\u001b[0m\n\u001b[0;32m----> <a href='vscode-notebook-cell:/Users/thomasrochefort/Documents/GitHub/so_gym/tutorial.ipynb#X12sZmlsZQ%3D%3D?line=0'>1</a>\u001b[0m model\u001b[39m.\u001b[39;49mlearn(\u001b[39m4096\u001b[39;49m\u001b[39m*\u001b[39;49m\u001b[39m8\u001b[39;49m,\n\u001b[1;32m      <a href='vscode-notebook-cell:/Users/thomasrochefort/Documents/GitHub/so_gym/tutorial.ipynb#X12sZmlsZQ%3D%3D?line=1'>2</a>\u001b[0m             callback\u001b[39m=\u001b[39;49mcallback,\n\u001b[1;32m      <a href='vscode-notebook-cell:/Users/thomasrochefort/Documents/GitHub/so_gym/tutorial.ipynb#X12sZmlsZQ%3D%3D?line=2'>3</a>\u001b[0m             tb_log_name\u001b[39m=\u001b[39;49m\u001b[39m'\u001b[39;49m\u001b[39mPPO_test\u001b[39;49m\u001b[39m'\u001b[39;49m)\n\u001b[1;32m      <a href='vscode-notebook-cell:/Users/thomasrochefort/Documents/GitHub/so_gym/tutorial.ipynb#X12sZmlsZQ%3D%3D?line=3'>4</a>\u001b[0m model\u001b[39m.\u001b[39msave(\u001b[39m'\u001b[39m\u001b[39mmodel_saved\u001b[39m\u001b[39m'\u001b[39m,)\n\u001b[1;32m      <a href='vscode-notebook-cell:/Users/thomasrochefort/Documents/GitHub/so_gym/tutorial.ipynb#X12sZmlsZQ%3D%3D?line=4'>5</a>\u001b[0m env\u001b[39m.\u001b[39msave(\u001b[39m'\u001b[39m\u001b[39menv_saved.pkl\u001b[39m\u001b[39m'\u001b[39m)\n",
      "File \u001b[0;32m~/opt/anaconda3/envs/sb3/lib/python3.9/site-packages/stable_baselines3/ppo/ppo.py:310\u001b[0m, in \u001b[0;36mPPO.learn\u001b[0;34m(self, total_timesteps, callback, log_interval, eval_env, eval_freq, n_eval_episodes, tb_log_name, eval_log_path, reset_num_timesteps)\u001b[0m\n\u001b[1;32m    297\u001b[0m \u001b[39mdef\u001b[39;00m \u001b[39mlearn\u001b[39m(\n\u001b[1;32m    298\u001b[0m     \u001b[39mself\u001b[39m,\n\u001b[1;32m    299\u001b[0m     total_timesteps: \u001b[39mint\u001b[39m,\n\u001b[0;32m   (...)\u001b[0m\n\u001b[1;32m    307\u001b[0m     reset_num_timesteps: \u001b[39mbool\u001b[39m \u001b[39m=\u001b[39m \u001b[39mTrue\u001b[39;00m,\n\u001b[1;32m    308\u001b[0m ) \u001b[39m-\u001b[39m\u001b[39m>\u001b[39m \u001b[39m\"\u001b[39m\u001b[39mPPO\u001b[39m\u001b[39m\"\u001b[39m:\n\u001b[0;32m--> 310\u001b[0m     \u001b[39mreturn\u001b[39;00m \u001b[39msuper\u001b[39;49m()\u001b[39m.\u001b[39;49mlearn(\n\u001b[1;32m    311\u001b[0m         total_timesteps\u001b[39m=\u001b[39;49mtotal_timesteps,\n\u001b[1;32m    312\u001b[0m         callback\u001b[39m=\u001b[39;49mcallback,\n\u001b[1;32m    313\u001b[0m         log_interval\u001b[39m=\u001b[39;49mlog_interval,\n\u001b[1;32m    314\u001b[0m         eval_env\u001b[39m=\u001b[39;49meval_env,\n\u001b[1;32m    315\u001b[0m         eval_freq\u001b[39m=\u001b[39;49meval_freq,\n\u001b[1;32m    316\u001b[0m         n_eval_episodes\u001b[39m=\u001b[39;49mn_eval_episodes,\n\u001b[1;32m    317\u001b[0m         tb_log_name\u001b[39m=\u001b[39;49mtb_log_name,\n\u001b[1;32m    318\u001b[0m         eval_log_path\u001b[39m=\u001b[39;49meval_log_path,\n\u001b[1;32m    319\u001b[0m         reset_num_timesteps\u001b[39m=\u001b[39;49mreset_num_timesteps,\n\u001b[1;32m    320\u001b[0m     )\n",
      "File \u001b[0;32m~/opt/anaconda3/envs/sb3/lib/python3.9/site-packages/stable_baselines3/common/on_policy_algorithm.py:247\u001b[0m, in \u001b[0;36mOnPolicyAlgorithm.learn\u001b[0;34m(self, total_timesteps, callback, log_interval, eval_env, eval_freq, n_eval_episodes, tb_log_name, eval_log_path, reset_num_timesteps)\u001b[0m\n\u001b[1;32m    243\u001b[0m callback\u001b[39m.\u001b[39mon_training_start(\u001b[39mlocals\u001b[39m(), \u001b[39mglobals\u001b[39m())\n\u001b[1;32m    245\u001b[0m \u001b[39mwhile\u001b[39;00m \u001b[39mself\u001b[39m\u001b[39m.\u001b[39mnum_timesteps \u001b[39m<\u001b[39m total_timesteps:\n\u001b[0;32m--> 247\u001b[0m     continue_training \u001b[39m=\u001b[39m \u001b[39mself\u001b[39;49m\u001b[39m.\u001b[39;49mcollect_rollouts(\u001b[39mself\u001b[39;49m\u001b[39m.\u001b[39;49menv, callback, \u001b[39mself\u001b[39;49m\u001b[39m.\u001b[39;49mrollout_buffer, n_rollout_steps\u001b[39m=\u001b[39;49m\u001b[39mself\u001b[39;49m\u001b[39m.\u001b[39;49mn_steps)\n\u001b[1;32m    249\u001b[0m     \u001b[39mif\u001b[39;00m continue_training \u001b[39mis\u001b[39;00m \u001b[39mFalse\u001b[39;00m:\n\u001b[1;32m    250\u001b[0m         \u001b[39mbreak\u001b[39;00m\n",
      "File \u001b[0;32m~/opt/anaconda3/envs/sb3/lib/python3.9/site-packages/stable_baselines3/common/on_policy_algorithm.py:181\u001b[0m, in \u001b[0;36mOnPolicyAlgorithm.collect_rollouts\u001b[0;34m(self, env, callback, rollout_buffer, n_rollout_steps)\u001b[0m\n\u001b[1;32m    179\u001b[0m \u001b[39m# Give access to local variables\u001b[39;00m\n\u001b[1;32m    180\u001b[0m callback\u001b[39m.\u001b[39mupdate_locals(\u001b[39mlocals\u001b[39m())\n\u001b[0;32m--> 181\u001b[0m \u001b[39mif\u001b[39;00m callback\u001b[39m.\u001b[39;49mon_step() \u001b[39mis\u001b[39;00m \u001b[39mFalse\u001b[39;00m:\n\u001b[1;32m    182\u001b[0m     \u001b[39mreturn\u001b[39;00m \u001b[39mFalse\u001b[39;00m\n\u001b[1;32m    184\u001b[0m \u001b[39mself\u001b[39m\u001b[39m.\u001b[39m_update_info_buffer(infos)\n",
      "File \u001b[0;32m~/opt/anaconda3/envs/sb3/lib/python3.9/site-packages/stable_baselines3/common/callbacks.py:88\u001b[0m, in \u001b[0;36mBaseCallback.on_step\u001b[0;34m(self)\u001b[0m\n\u001b[1;32m     85\u001b[0m \u001b[39m# timesteps start at zero\u001b[39;00m\n\u001b[1;32m     86\u001b[0m \u001b[39mself\u001b[39m\u001b[39m.\u001b[39mnum_timesteps \u001b[39m=\u001b[39m \u001b[39mself\u001b[39m\u001b[39m.\u001b[39mmodel\u001b[39m.\u001b[39mnum_timesteps\n\u001b[0;32m---> 88\u001b[0m \u001b[39mreturn\u001b[39;00m \u001b[39mself\u001b[39;49m\u001b[39m.\u001b[39;49m_on_step()\n",
      "File \u001b[0;32m~/opt/anaconda3/envs/sb3/lib/python3.9/site-packages/stable_baselines3/common/callbacks.py:192\u001b[0m, in \u001b[0;36mCallbackList._on_step\u001b[0;34m(self)\u001b[0m\n\u001b[1;32m    189\u001b[0m continue_training \u001b[39m=\u001b[39m \u001b[39mTrue\u001b[39;00m\n\u001b[1;32m    190\u001b[0m \u001b[39mfor\u001b[39;00m callback \u001b[39min\u001b[39;00m \u001b[39mself\u001b[39m\u001b[39m.\u001b[39mcallbacks:\n\u001b[1;32m    191\u001b[0m     \u001b[39m# Return False (stop training) if at least one callback returns False\u001b[39;00m\n\u001b[0;32m--> 192\u001b[0m     continue_training \u001b[39m=\u001b[39m callback\u001b[39m.\u001b[39;49mon_step() \u001b[39mand\u001b[39;00m continue_training\n\u001b[1;32m    193\u001b[0m \u001b[39mreturn\u001b[39;00m continue_training\n",
      "File \u001b[0;32m~/opt/anaconda3/envs/sb3/lib/python3.9/site-packages/stable_baselines3/common/callbacks.py:88\u001b[0m, in \u001b[0;36mBaseCallback.on_step\u001b[0;34m(self)\u001b[0m\n\u001b[1;32m     85\u001b[0m \u001b[39m# timesteps start at zero\u001b[39;00m\n\u001b[1;32m     86\u001b[0m \u001b[39mself\u001b[39m\u001b[39m.\u001b[39mnum_timesteps \u001b[39m=\u001b[39m \u001b[39mself\u001b[39m\u001b[39m.\u001b[39mmodel\u001b[39m.\u001b[39mnum_timesteps\n\u001b[0;32m---> 88\u001b[0m \u001b[39mreturn\u001b[39;00m \u001b[39mself\u001b[39;49m\u001b[39m.\u001b[39;49m_on_step()\n",
      "File \u001b[0;32m~/opt/anaconda3/envs/sb3/lib/python3.9/site-packages/stable_baselines3/common/callbacks.py:384\u001b[0m, in \u001b[0;36mEvalCallback._on_step\u001b[0;34m(self)\u001b[0m\n\u001b[1;32m    382\u001b[0m         sync_envs_normalization(\u001b[39mself\u001b[39m\u001b[39m.\u001b[39mtraining_env, \u001b[39mself\u001b[39m\u001b[39m.\u001b[39meval_env)\n\u001b[1;32m    383\u001b[0m     \u001b[39mexcept\u001b[39;00m \u001b[39mAttributeError\u001b[39;00m \u001b[39mas\u001b[39;00m e:\n\u001b[0;32m--> 384\u001b[0m         \u001b[39mraise\u001b[39;00m \u001b[39mAssertionError\u001b[39;00m(\n\u001b[1;32m    385\u001b[0m             \u001b[39m\"\u001b[39m\u001b[39mTraining and eval env are not wrapped the same way, \u001b[39m\u001b[39m\"\u001b[39m\n\u001b[1;32m    386\u001b[0m             \u001b[39m\"\u001b[39m\u001b[39msee https://stable-baselines3.readthedocs.io/en/master/guide/callbacks.html#evalcallback \u001b[39m\u001b[39m\"\u001b[39m\n\u001b[1;32m    387\u001b[0m             \u001b[39m\"\u001b[39m\u001b[39mand warning above.\u001b[39m\u001b[39m\"\u001b[39m\n\u001b[1;32m    388\u001b[0m         ) \u001b[39mfrom\u001b[39;00m \u001b[39me\u001b[39;00m\n\u001b[1;32m    390\u001b[0m \u001b[39m# Reset success rate buffer\u001b[39;00m\n\u001b[1;32m    391\u001b[0m \u001b[39mself\u001b[39m\u001b[39m.\u001b[39m_is_success_buffer \u001b[39m=\u001b[39m []\n",
      "\u001b[0;31mAssertionError\u001b[0m: Training and eval env are not wrapped the same way, see https://stable-baselines3.readthedocs.io/en/master/guide/callbacks.html#evalcallback and warning above."
     ]
    }
   ],
   "source": [
    "model.learn(4096*8,\n",
    "            callback=callback,\n",
    "            tb_log_name='PPO_test')\n",
    "model.save('model_saved',)\n",
    "env.save('env_saved.pkl')"
   ]
  },
  {
   "cell_type": "markdown",
   "id": "2827c8cc-028d-4448-b109-d6542816df2a",
   "metadata": {},
   "source": [
    "---\n",
    "### Let's visualize the agent's performance:"
   ]
  },
  {
   "cell_type": "code",
   "execution_count": 217,
   "id": "a96f9043-29e4-493e-a2bc-ee385e7ee9bd",
   "metadata": {},
   "outputs": [],
   "source": [
    "env=sogym(mode='test')\n",
    "env = make_vec_env(lambda:env, n_envs=1,vec_env_cls=SubprocVecEnv)\n",
    "env = VecNormalize.load('env_saved.pkl',env)\n",
    "env.training=False\n",
    "env.norm_reward=False\n",
    "model=model.load('model_saved')\n",
    "model.set_env(env)"
   ]
  },
  {
   "cell_type": "code",
   "execution_count": 223,
   "id": "e0d2de1f-dd90-40b2-acc9-b3227fd2888b",
   "metadata": {},
   "outputs": [
    {
     "name": "stdout",
     "output_type": "stream",
     "text": [
      "Reward: 0.0018484041827767127\n",
      "Volume: 14.28 %\n"
     ]
    },
    {
     "data": {
      "image/png": "[encoded data removed]",
      "text/plain": [
       "<Figure size 1000x500 with 1 Axes>"
      ]
     },
     "execution_count": 223,
     "metadata": {},
     "output_type": "execute_result"
    }
   ],
   "source": [
    "obs=env.reset()\n",
    "dones=False\n",
    "while dones== False:\n",
    "    action, _states = model.predict(obs,deterministic=True)\n",
    "    obs, rewards, dones, info = env.step(action)\n",
    "print(\"Reward:\",rewards[0])\n",
    "print(\"Volume:\",np.round(env.get_attr('volume')[0]*100,2),\"%\")\n",
    "fig=env.env_method('plot')[0]\n",
    "fig"
   ]
  },
  {
   "cell_type": "code",
   "execution_count": 234,
   "id": "6a276348-c292-41d8-a677-31ab76195855",
   "metadata": {},
   "outputs": [
    {
     "name": "stdout",
     "output_type": "stream",
     "text": [
      "Volume:  0.4756976281649951\n",
      "Reward  0.0007168746195398527\n"
     ]
    },
    {
     "data": {
      "text/plain": [
       "<matplotlib.image.AxesImage at 0x7f999a1ec190>"
      ]
     },
     "execution_count": 234,
     "metadata": {},
     "output_type": "execute_result"
    },
    {
     "data": {
      "image/png": "[encoded data removed]",
      "text/plain": [
       "<Figure size 720x360 with 1 Axes>"
      ]
     },
     "metadata": {
      "needs_background": "light"
     },
     "output_type": "display_data"
    }
   ],
   "source": [
    "# Allright, let's now test the environment with the image observation:\n",
    "train_env = sogym(mode='train',observation_type='image')\n",
    "# Let's visualize the training environment on a random problem statement and visualize a 'successful' solution:\n",
    "reward = 0.0\n",
    "while reward==0.0:\n",
    "    obs = train_env.reset()\n",
    "    done = False\n",
    "    while not done:\n",
    "        action = train_env.action_space.sample()\n",
    "        obs, reward, done, info = train_env.step(action)\n",
    "print(\"Volume: \", train_env.volume)\n",
    "print(\"Reward \",reward)\n",
    "plt.imshow(obs['image'])"
   ]
  },
  {
   "cell_type": "code",
   "execution_count": null,
   "id": "87bf566a",
   "metadata": {},
   "outputs": [],
   "source": []
  },
  {
   "cell_type": "code",
   "execution_count": null,
   "id": "509eeadd",
   "metadata": {},
   "outputs": [],
   "source": []
  }
 ],
 "metadata": {
  "kernelspec": {
   "display_name": "sb3",
   "language": "python",
   "name": "python3"
  },
  "language_info": {
   "codemirror_mode": {
    "name": "ipython",
    "version": 3
   },
   "file_extension": ".py",
   "mimetype": "text/x-python",
   "name": "python",
   "nbconvert_exporter": "python",
   "pygments_lexer": "ipython3",
   "version": "3.9.13"
  },
  "vscode": {
   "interpreter": {
    "hash": "8de52954a71c7cb345bcbc3170b9777ef55db82dd4d591f11f465e13ff11a1ec"
   }
  }
 },
 "nbformat": 4,
 "nbformat_minor": 5
}
