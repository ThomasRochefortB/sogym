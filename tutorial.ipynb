{
 "cells": [
  {
   "cell_type": "code",
   "execution_count": 10,
   "id": "94e6157f-d831-41f7-b27c-f949e2253f3e",
   "metadata": {},
   "outputs": [
    {
     "name": "stdout",
     "output_type": "stream",
     "text": [
      "The autoreload extension is already loaded. To reload it, use:\n",
      "  %reload_ext autoreload\n",
      "SB3 vestsion: 1.7.0\n"
     ]
    }
   ],
   "source": [
    "from sogym.env import sogym\n",
    "from sogym.utils import FigureRecorderCallback\n",
    "import numpy as np\n",
    "import stable_baselines3\n",
    "from stable_baselines3.common.env_checker import check_env\n",
    "from stable_baselines3.common.env_util import make_vec_env\n",
    "from stable_baselines3.common.vec_env import VecNormalize, SubprocVecEnv\n",
    "from stable_baselines3 import PPO\n",
    "%load_ext autoreload\n",
    "%autoreload 2\n",
    "print('SB3 vestsion:', stable_baselines3.__version__)"
   ]
  },
  {
   "cell_type": "markdown",
   "id": "d02b8cad-4629-49cf-a15e-ebb7c9a5b6c1",
   "metadata": {},
   "source": [
    "---\n",
    "### Environment test and visualization:"
   ]
  },
  {
   "cell_type": "code",
   "execution_count": 11,
   "id": "6edcde2a",
   "metadata": {},
   "outputs": [
    {
     "name": "stdout",
     "output_type": "stream",
     "text": [
      "720 360\n",
      "(777600,)\n",
      "720 360\n",
      "(777600,)\n"
     ]
    }
   ],
   "source": [
    "from stable_baselines3.common.env_checker import check_env\n",
    "# It will check your custom environment and output additional warnings if needed\n",
    "check_env(sogym(nelx=100,nely=50,mode='train',observation_type='image'))"
   ]
  },
  {
   "cell_type": "code",
   "execution_count": 12,
   "id": "85a4374a-b735-4474-8427-30b1d55dfe22",
   "metadata": {},
   "outputs": [],
   "source": [
    "# Let's test the environment using the check_env util from SB3:\n",
    "train_env = sogym(nelx=100,nely=50,mode='train',observation_type='dense')\n",
    "eval_env = sogym(nelx=100,nely=50,mode='test',observation_type='dense')"
   ]
  },
  {
   "cell_type": "code",
   "execution_count": 13,
   "id": "789bbd87",
   "metadata": {},
   "outputs": [
    {
     "name": "stdout",
     "output_type": "stream",
     "text": [
      "Number of unique BC + desired volume frac combinations in the train distribution:  4284\n",
      "Number of unique BC + desired volume frac combinations in the test distribution:  2412\n"
     ]
    }
   ],
   "source": [
    "# The training environment and the eval environment both have a different boundary conditions distribution:\n",
    "print(\"Number of unique BC + desired volume frac combinations in the train distribution: \",len(train_env.BC_dict))\n",
    "print(\"Number of unique BC + desired volume frac combinations in the test distribution: \",len(eval_env.BC_dict))"
   ]
  },
  {
   "cell_type": "code",
   "execution_count": 14,
   "id": "fdd08850",
   "metadata": {},
   "outputs": [
    {
     "name": "stdout",
     "output_type": "stream",
     "text": [
      "Volume:  0.48125770868193973\n",
      "Reward  0.002844766238289021\n"
     ]
    },
    {
     "data": {
      "image/png": "[encoded data removed]",
      "text/plain": [
       "<Figure size 720x360 with 1 Axes>"
      ]
     },
     "execution_count": 14,
     "metadata": {},
     "output_type": "execute_result"
    }
   ],
   "source": [
    "# Let's visualize the training environment on a random problem statement and visualize a 'successful' solution:\n",
    "reward = 0.0\n",
    "while reward<1e-3:\n",
    "    obs = train_env.reset()\n",
    "    done = False\n",
    "    while not done:\n",
    "        action = train_env.action_space.sample()\n",
    "        obs, reward, done, info = train_env.step(action)\n",
    "print(\"Volume: \", train_env.volume)\n",
    "print(\"Reward \",reward)\n",
    "\n",
    "train_env.plot()"
   ]
  },
  {
   "cell_type": "code",
   "execution_count": 15,
   "id": "24975518",
   "metadata": {},
   "outputs": [
    {
     "name": "stdout",
     "output_type": "stream",
     "text": [
      "720 360\n",
      "(777600,)\n"
     ]
    },
    {
     "data": {
      "text/plain": [
       "array([[[255, 255, 255, ..., 255, 255, 255],\n",
       "        [255, 255, 255, ..., 255, 255, 255],\n",
       "        [255, 255, 255, ..., 255, 255, 255],\n",
       "        ...,\n",
       "        [255, 255, 255, ..., 255, 255, 255],\n",
       "        [255, 255, 255, ..., 255, 255, 255],\n",
       "        [255, 255, 255, ..., 255, 255, 255]],\n",
       "\n",
       "       [[255, 255, 255, ..., 255, 255, 255],\n",
       "        [255, 255, 255, ..., 255, 255, 255],\n",
       "        [255, 255, 255, ..., 255, 255, 255],\n",
       "        ...,\n",
       "        [255, 255, 255, ..., 255, 255, 255],\n",
       "        [255, 255, 255, ..., 255, 255, 255],\n",
       "        [255, 255, 255, ..., 255, 255, 255]],\n",
       "\n",
       "       [[255, 255, 255, ..., 255, 255, 255],\n",
       "        [255, 255, 255, ..., 255, 255, 255],\n",
       "        [255, 255, 255, ..., 255, 255, 255],\n",
       "        ...,\n",
       "        [255, 255, 255, ..., 255, 255, 255],\n",
       "        [255, 255, 255, ..., 255, 255, 255],\n",
       "        [255, 255, 255, ..., 255, 255, 255]]], dtype=uint8)"
      ]
     },
     "execution_count": 15,
     "metadata": {},
     "output_type": "execute_result"
    }
   ],
   "source": [
    "train_env.gen_image()"
   ]
  },
  {
   "cell_type": "code",
   "execution_count": 6,
   "id": "c3ac8455",
   "metadata": {},
   "outputs": [
    {
     "name": "stdout",
     "output_type": "stream",
     "text": [
      "Volume:  0.6646823090524662\n",
      "Reward  0.0\n"
     ]
    },
    {
     "data": {
      "image/png": "[encoded data removed]",
      "text/plain": [
       "<Figure size 1000x500 with 1 Axes>"
      ]
     },
     "execution_count": 6,
     "metadata": {},
     "output_type": "execute_result"
    }
   ],
   "source": [
    "# Let's visualize the eval environment:\n",
    "obs = eval_env.reset()\n",
    "done = False\n",
    "while not done:\n",
    "    action = eval_env.action_space.sample()\n",
    "    obs, reward, done, info = eval_env.step(action)\n",
    "print(\"Volume: \", eval_env.volume)\n",
    "print(\"Reward \",reward)\n",
    "eval_env.plot()"
   ]
  },
  {
   "cell_type": "markdown",
   "id": "7820005a-be57-4236-b66b-0b34ed558aff",
   "metadata": {},
   "source": [
    "---\n",
    "### Multiprocessing"
   ]
  },
  {
   "cell_type": "code",
   "execution_count": 25,
   "id": "d3e210c1-817a-42a8-ab28-2ea437ed2c4e",
   "metadata": {},
   "outputs": [],
   "source": [
    "num_cpu = 32 # Number of processes to use\n",
    "train_env = sogym(mode='train',observation_type='image')\n",
    "env= make_vec_env(lambda:train_env, n_envs=num_cpu,vec_env_cls=SubprocVecEnv)\n",
    "env=VecNormalize(env,gamma=1.0)\n",
    "\n",
    "eval_env = sogym(mode='test',observation_type='image')\n",
    "eval_env = make_vec_env(lambda:eval_env, n_envs=1,vec_env_cls=SubprocVecEnv)\n",
    "eval_env =VecNormalize(eval_env,gamma=1.0)\n"
   ]
  },
  {
   "cell_type": "code",
   "execution_count": 26,
   "id": "e06b39e1",
   "metadata": {},
   "outputs": [],
   "source": [
    "# Let's  test that an eval callback actually works:\n",
    "from stable_baselines3.common.callbacks import EvalCallback, CallbackList\n",
    "\n",
    "eval_callback = EvalCallback(eval_env,log_path='tb_logs',eval_freq=100,deterministic=True,render=False)\n",
    "callback = CallbackList([eval_callback,\n",
    "                         FigureRecorderCallback(check_freq=8*32)])"
   ]
  },
  {
   "cell_type": "markdown",
   "id": "826b6f2e-5ceb-447f-ac10-a52f0379cb31",
   "metadata": {},
   "source": [
    "--- \n",
    "### Defining the model"
   ]
  },
  {
   "cell_type": "code",
   "execution_count": 28,
   "id": "bf3ff3b6-89e5-4214-89f1-3d55830f7799",
   "metadata": {},
   "outputs": [],
   "source": [
    "import gym\n",
    "import torch as th\n",
    "from torch import nn\n",
    "\n",
    "from stable_baselines3.common.torch_layers import BaseFeaturesExtractor\n",
    "\n",
    "class CustomCombinedExtractor(BaseFeaturesExtractor):\n",
    "    def __init__(self, observation_space: gym.spaces.Dict):\n",
    "        # We do not know features-dim here before going over all the items,\n",
    "        # so put something dummy for now. PyTorch requires calling\n",
    "        # nn.Module.__init__ before adding modules\n",
    "\n",
    "        super(CustomCombinedExtractor, self).__init__(observation_space, features_dim=1)\n",
    "        self.drop_rate = 0.4\n",
    "        self.activ_func = nn.ReLU()\n",
    "        extractors = {}\n",
    "\n",
    "        total_concat_size = 0\n",
    "        # We need to know size of the output of this extractor,\n",
    "        # so go over all the spaces and compute output feature sizes\n",
    "        for key, subspace in observation_space.spaces.items():\n",
    "            \n",
    "            if key =='image':\n",
    "                n_input_channels = subspace.shape[0]\n",
    "                extractors[key]= nn.Sequential(\n",
    "                                                nn.Conv2d(n_input_channels, 32, kernel_size=8, stride=2, padding=1), #Out is 32 x 62 x 30\n",
    "                                                nn.ReLU(),\n",
    "                                                nn.Conv2d(32, 64, kernel_size=4, stride=2, padding=1), #Out is 64 x 31 x 15\n",
    "                                                nn.ReLU(),\n",
    "                                                nn.Flatten(),\n",
    "                                            )\n",
    "                total_concat_size+= 29760\n",
    "\n",
    "            \n",
    "            elif key == \"design_variables\" or key==\"volume\" or key==\"n_steps_left\":\n",
    "                extractors[key] = nn.Sequential(\n",
    "                                                #nn.Linear(subspace.shape[0], 128),\n",
    "                                                #self.activ_func,\n",
    "                                                #nn.Dropout(p=self.drop_rate),\n",
    "                                                #nn.Linear(128,128),\n",
    "                                                #self.activ_func,\n",
    "                                                #nn.Dropout(p=self.drop_rate),\n",
    "                                                nn.Flatten()\n",
    "                                               )\n",
    "                #total_concat_size += (128)\n",
    "                total_concat_size+=(subspace.shape[0])\n",
    "\n",
    "            \n",
    "            elif key == \"conditions\" :\n",
    "                # Run through a simple MLP\n",
    "                extractors[key] = nn.Sequential(\n",
    "                                                nn.Linear(subspace.shape[0], 128),\n",
    "                                                self.activ_func,\n",
    "                                                nn.Dropout(p=self.drop_rate),\n",
    "                                                nn.Linear(128,128),\n",
    "                                                self.activ_func,\n",
    "                                                nn.Dropout(p=self.drop_rate),\n",
    "                                                nn.Flatten()\n",
    "                                               )\n",
    "                total_concat_size += (128)\n",
    "                #total_concat_size+=(subspace.shape[0])\n",
    "                \n",
    "           \n",
    "           \n",
    "          \n",
    "         \n",
    "        self.extractors = nn.ModuleDict(extractors)\n",
    "\n",
    "        # Update the features dim manually\n",
    "        self._features_dim = total_concat_size\n",
    "\n",
    "    def forward(self, observations) -> th.Tensor:\n",
    "        encoded_tensor_list = []\n",
    "\n",
    "        # self.extractors contain nn.Modules that do all the processing.\n",
    "        for key, extractor in self.extractors.items():\n",
    "            encoded_tensor_list.append(extractor(observations[key]))\n",
    "        # Return a (B, self._features_dim) PyTorch tensor, where B is batch dimension.\n",
    "        return th.cat(encoded_tensor_list, dim=1)\n",
    "    \n",
    "policy_kwargs = dict(\n",
    "    features_extractor_class=CustomCombinedExtractor,\n",
    "    #net_arch=[dict(pi=[1024,1024,1024], vf=[1024,1024,1024])],\n",
    "               optimizer_kwargs={\"weight_decay\": 1e-4},\n",
    "    \n",
    ")"
   ]
  },
  {
   "cell_type": "code",
   "execution_count": 29,
   "id": "8a1132db-34f4-4a72-bb12-1339a9e00a53",
   "metadata": {},
   "outputs": [],
   "source": [
    "model = PPO(\"MultiInputPolicy\",\n",
    "            env,\n",
    "            seed=42,\n",
    "            policy_kwargs = policy_kwargs,\n",
    "            n_steps=32,\n",
    "            batch_size=1024,\n",
    "            verbose=0,\n",
    "            gamma=1.0,\n",
    "            ent_coef=3e-4,\n",
    "            tensorboard_log=\"tb_logs\",\n",
    "            device='cuda')\n"
   ]
  },
  {
   "cell_type": "markdown",
   "id": "20f70cf1-e15e-4fed-ab75-12bdca996f2d",
   "metadata": {},
   "source": [
    "--- \n",
    "### Training"
   ]
  },
  {
   "cell_type": "code",
   "execution_count": 31,
   "id": "978d7768-b7bb-4c14-b620-28a278392b6b",
   "metadata": {
    "scrolled": true,
    "tags": []
   },
   "outputs": [],
   "source": [
    "#model.learn(5000000,callback=callback,tb_log_name='PPO_test_5M')\n",
    "model.save('model_saved',)\n",
    "env.save('env_saved.pkl')"
   ]
  },
  {
   "cell_type": "code",
   "execution_count": 24,
   "id": "651e145a-62f2-4083-8d0f-58c6a56533f5",
   "metadata": {
    "scrolled": true,
    "tags": []
   },
   "outputs": [
    {
     "ename": "ValueError",
     "evalue": "Observation spaces do not match: Dict(conditions:Box([-1. -1. -1. -1. -1. -1. -1. -1. -1.], [1. 1. 1. 1. 1. 1. 1. 1. 1.], (9,), float32), design_variables:Box([-3.1415927 -3.1415927 -3.1415927 -3.1415927 -3.1415927 -3.1415927\n -3.1415927 -3.1415927 -3.1415927 -3.1415927 -3.1415927 -3.1415927\n -3.1415927 -3.1415927 -3.1415927 -3.1415927 -3.1415927 -3.1415927\n -3.1415927 -3.1415927 -3.1415927 -3.1415927 -3.1415927 -3.1415927\n -3.1415927 -3.1415927 -3.1415927 -3.1415927 -3.1415927 -3.1415927\n -3.1415927 -3.1415927 -3.1415927 -3.1415927 -3.1415927 -3.1415927\n -3.1415927 -3.1415927 -3.1415927 -3.1415927 -3.1415927 -3.1415927\n -3.1415927 -3.1415927 -3.1415927 -3.1415927 -3.1415927 -3.1415927], [3.1415927 3.1415927 3.1415927 3.1415927 3.1415927 3.1415927 3.1415927\n 3.1415927 3.1415927 3.1415927 3.1415927 3.1415927 3.1415927 3.1415927\n 3.1415927 3.1415927 3.1415927 3.1415927 3.1415927 3.1415927 3.1415927\n 3.1415927 3.1415927 3.1415927 3.1415927 3.1415927 3.1415927 3.1415927\n 3.1415927 3.1415927 3.1415927 3.1415927 3.1415927 3.1415927 3.1415927\n 3.1415927 3.1415927 3.1415927 3.1415927 3.1415927 3.1415927 3.1415927\n 3.1415927 3.1415927 3.1415927 3.1415927 3.1415927 3.1415927], (48,), float32), image:Box([[[-10. -10. -10. ... -10. -10. -10.]\n  [-10. -10. -10. ... -10. -10. -10.]\n  [-10. -10. -10. ... -10. -10. -10.]\n  ...\n  [-10. -10. -10. ... -10. -10. -10.]\n  [-10. -10. -10. ... -10. -10. -10.]\n  [-10. -10. -10. ... -10. -10. -10.]]\n\n [[-10. -10. -10. ... -10. -10. -10.]\n  [-10. -10. -10. ... -10. -10. -10.]\n  [-10. -10. -10. ... -10. -10. -10.]\n  ...\n  [-10. -10. -10. ... -10. -10. -10.]\n  [-10. -10. -10. ... -10. -10. -10.]\n  [-10. -10. -10. ... -10. -10. -10.]]\n\n [[-10. -10. -10. ... -10. -10. -10.]\n  [-10. -10. -10. ... -10. -10. -10.]\n  [-10. -10. -10. ... -10. -10. -10.]\n  ...\n  [-10. -10. -10. ... -10. -10. -10.]\n  [-10. -10. -10. ... -10. -10. -10.]\n  [-10. -10. -10. ... -10. -10. -10.]]], [[[10. 10. 10. ... 10. 10. 10.]\n  [10. 10. 10. ... 10. 10. 10.]\n  [10. 10. 10. ... 10. 10. 10.]\n  ...\n  [10. 10. 10. ... 10. 10. 10.]\n  [10. 10. 10. ... 10. 10. 10.]\n  [10. 10. 10. ... 10. 10. 10.]]\n\n [[10. 10. 10. ... 10. 10. 10.]\n  [10. 10. 10. ... 10. 10. 10.]\n  [10. 10. 10. ... 10. 10. 10.]\n  ...\n  [10. 10. 10. ... 10. 10. 10.]\n  [10. 10. 10. ... 10. 10. 10.]\n  [10. 10. 10. ... 10. 10. 10.]]\n\n [[10. 10. 10. ... 10. 10. 10.]\n  [10. 10. 10. ... 10. 10. 10.]\n  [10. 10. 10. ... 10. 10. 10.]\n  ...\n  [10. 10. 10. ... 10. 10. 10.]\n  [10. 10. 10. ... 10. 10. 10.]\n  [10. 10. 10. ... 10. 10. 10.]]], (3, 64, 128), float32), n_steps_left:Box([0.], [1.], (1,), float32), volume:Box([0.], [1.], (1,), float32)) != Dict(conditions:Box([-1. -1. -1. -1. -1. -1. -1. -1. -1.], [1. 1. 1. 1. 1. 1. 1. 1. 1.], (9,), float32), design_variables:Box([-3.1415927 -3.1415927 -3.1415927 -3.1415927 -3.1415927 -3.1415927\n -3.1415927 -3.1415927 -3.1415927 -3.1415927 -3.1415927 -3.1415927\n -3.1415927 -3.1415927 -3.1415927 -3.1415927 -3.1415927 -3.1415927\n -3.1415927 -3.1415927 -3.1415927 -3.1415927 -3.1415927 -3.1415927\n -3.1415927 -3.1415927 -3.1415927 -3.1415927 -3.1415927 -3.1415927\n -3.1415927 -3.1415927 -3.1415927 -3.1415927 -3.1415927 -3.1415927\n -3.1415927 -3.1415927 -3.1415927 -3.1415927 -3.1415927 -3.1415927\n -3.1415927 -3.1415927 -3.1415927 -3.1415927 -3.1415927 -3.1415927], [3.1415927 3.1415927 3.1415927 3.1415927 3.1415927 3.1415927 3.1415927\n 3.1415927 3.1415927 3.1415927 3.1415927 3.1415927 3.1415927 3.1415927\n 3.1415927 3.1415927 3.1415927 3.1415927 3.1415927 3.1415927 3.1415927\n 3.1415927 3.1415927 3.1415927 3.1415927 3.1415927 3.1415927 3.1415927\n 3.1415927 3.1415927 3.1415927 3.1415927 3.1415927 3.1415927 3.1415927\n 3.1415927 3.1415927 3.1415927 3.1415927 3.1415927 3.1415927 3.1415927\n 3.1415927 3.1415927 3.1415927 3.1415927 3.1415927 3.1415927], (48,), float32), image:Box([[[0 0 0 ... 0 0 0]\n  [0 0 0 ... 0 0 0]\n  [0 0 0 ... 0 0 0]\n  ...\n  [0 0 0 ... 0 0 0]\n  [0 0 0 ... 0 0 0]\n  [0 0 0 ... 0 0 0]]\n\n [[0 0 0 ... 0 0 0]\n  [0 0 0 ... 0 0 0]\n  [0 0 0 ... 0 0 0]\n  ...\n  [0 0 0 ... 0 0 0]\n  [0 0 0 ... 0 0 0]\n  [0 0 0 ... 0 0 0]]\n\n [[0 0 0 ... 0 0 0]\n  [0 0 0 ... 0 0 0]\n  [0 0 0 ... 0 0 0]\n  ...\n  [0 0 0 ... 0 0 0]\n  [0 0 0 ... 0 0 0]\n  [0 0 0 ... 0 0 0]]], [[[255 255 255 ... 255 255 255]\n  [255 255 255 ... 255 255 255]\n  [255 255 255 ... 255 255 255]\n  ...\n  [255 255 255 ... 255 255 255]\n  [255 255 255 ... 255 255 255]\n  [255 255 255 ... 255 255 255]]\n\n [[255 255 255 ... 255 255 255]\n  [255 255 255 ... 255 255 255]\n  [255 255 255 ... 255 255 255]\n  ...\n  [255 255 255 ... 255 255 255]\n  [255 255 255 ... 255 255 255]\n  [255 255 255 ... 255 255 255]]\n\n [[255 255 255 ... 255 255 255]\n  [255 255 255 ... 255 255 255]\n  [255 255 255 ... 255 255 255]\n  ...\n  [255 255 255 ... 255 255 255]\n  [255 255 255 ... 255 255 255]\n  [255 255 255 ... 255 255 255]]], (3, 64, 128), uint8), n_steps_left:Box([0.], [1.], (1,), float32), volume:Box([0.], [1.], (1,), float32))",
     "output_type": "error",
     "traceback": [
      "\u001b[0;31m---------------------------------------------------------------------------\u001b[0m",
      "\u001b[0;31mValueError\u001b[0m                                Traceback (most recent call last)",
      "Cell \u001b[0;32mIn[24], line 10\u001b[0m\n\u001b[1;32m      7\u001b[0m eval_env \u001b[38;5;241m=\u001b[39m make_vec_env(\u001b[38;5;28;01mlambda\u001b[39;00m:eval_env, n_envs\u001b[38;5;241m=\u001b[39m\u001b[38;5;241m1\u001b[39m,vec_env_cls\u001b[38;5;241m=\u001b[39mSubprocVecEnv)\n\u001b[1;32m      8\u001b[0m eval_env \u001b[38;5;241m=\u001b[39m VecNormalize\u001b[38;5;241m.\u001b[39mload(\u001b[38;5;124m'\u001b[39m\u001b[38;5;124menv_saved.pkl\u001b[39m\u001b[38;5;124m'\u001b[39m,eval_env)\n\u001b[0;32m---> 10\u001b[0m \u001b[43mmodel\u001b[49m\u001b[38;5;241;43m.\u001b[39;49m\u001b[43mload\u001b[49m\u001b[43m(\u001b[49m\u001b[38;5;124;43m'\u001b[39;49m\u001b[38;5;124;43mmodel_saved\u001b[39;49m\u001b[38;5;124;43m'\u001b[39;49m\u001b[43m,\u001b[49m\u001b[43menv\u001b[49m\u001b[38;5;241;43m=\u001b[39;49m\u001b[43menv\u001b[49m\u001b[43m,\u001b[49m\u001b[43mdevice\u001b[49m\u001b[38;5;241;43m=\u001b[39;49m\u001b[38;5;124;43m'\u001b[39;49m\u001b[38;5;124;43mcuda\u001b[39;49m\u001b[38;5;124;43m'\u001b[39;49m\u001b[43m)\u001b[49m\n\u001b[1;32m     11\u001b[0m model\u001b[38;5;241m.\u001b[39mlearn(\u001b[38;5;241m500000\u001b[39m,callback\u001b[38;5;241m=\u001b[39mcallback,reset_num_timesteps\u001b[38;5;241m=\u001b[39m\u001b[38;5;28;01mFalse\u001b[39;00m,tb_log_name\u001b[38;5;241m=\u001b[39m\u001b[38;5;124m'\u001b[39m\u001b[38;5;124mPPO_test_1M\u001b[39m\u001b[38;5;124m'\u001b[39m)\n\u001b[1;32m     12\u001b[0m model\u001b[38;5;241m.\u001b[39msave(\u001b[38;5;124m'\u001b[39m\u001b[38;5;124mmodel_saved_1M\u001b[39m\u001b[38;5;124m'\u001b[39m,)\n",
      "File \u001b[0;32m~/anaconda3/envs/SB3_update/lib/python3.10/site-packages/stable_baselines3/common/base_class.py:684\u001b[0m, in \u001b[0;36mBaseAlgorithm.load\u001b[0;34m(cls, path, env, device, custom_objects, print_system_info, force_reset, **kwargs)\u001b[0m\n\u001b[1;32m    682\u001b[0m env \u001b[38;5;241m=\u001b[39m \u001b[38;5;28mcls\u001b[39m\u001b[38;5;241m.\u001b[39m_wrap_env(env, data[\u001b[38;5;124m\"\u001b[39m\u001b[38;5;124mverbose\u001b[39m\u001b[38;5;124m\"\u001b[39m])\n\u001b[1;32m    683\u001b[0m \u001b[38;5;66;03m# Check if given env is valid\u001b[39;00m\n\u001b[0;32m--> 684\u001b[0m \u001b[43mcheck_for_correct_spaces\u001b[49m\u001b[43m(\u001b[49m\u001b[43menv\u001b[49m\u001b[43m,\u001b[49m\u001b[43m \u001b[49m\u001b[43mdata\u001b[49m\u001b[43m[\u001b[49m\u001b[38;5;124;43m\"\u001b[39;49m\u001b[38;5;124;43mobservation_space\u001b[39;49m\u001b[38;5;124;43m\"\u001b[39;49m\u001b[43m]\u001b[49m\u001b[43m,\u001b[49m\u001b[43m \u001b[49m\u001b[43mdata\u001b[49m\u001b[43m[\u001b[49m\u001b[38;5;124;43m\"\u001b[39;49m\u001b[38;5;124;43maction_space\u001b[39;49m\u001b[38;5;124;43m\"\u001b[39;49m\u001b[43m]\u001b[49m\u001b[43m)\u001b[49m\n\u001b[1;32m    685\u001b[0m \u001b[38;5;66;03m# Discard `_last_obs`, this will force the env to reset before training\u001b[39;00m\n\u001b[1;32m    686\u001b[0m \u001b[38;5;66;03m# See issue https://github.com/DLR-RM/stable-baselines3/issues/597\u001b[39;00m\n\u001b[1;32m    687\u001b[0m \u001b[38;5;28;01mif\u001b[39;00m force_reset \u001b[38;5;129;01mand\u001b[39;00m data \u001b[38;5;129;01mis\u001b[39;00m \u001b[38;5;129;01mnot\u001b[39;00m \u001b[38;5;28;01mNone\u001b[39;00m:\n",
      "File \u001b[0;32m~/anaconda3/envs/SB3_update/lib/python3.10/site-packages/stable_baselines3/common/utils.py:228\u001b[0m, in \u001b[0;36mcheck_for_correct_spaces\u001b[0;34m(env, observation_space, action_space)\u001b[0m\n\u001b[1;32m    216\u001b[0m \u001b[38;5;250m\u001b[39m\u001b[38;5;124;03m\"\"\"\u001b[39;00m\n\u001b[1;32m    217\u001b[0m \u001b[38;5;124;03mChecks that the environment has same spaces as provided ones. Used by BaseAlgorithm to check if\u001b[39;00m\n\u001b[1;32m    218\u001b[0m \u001b[38;5;124;03mspaces match after loading the model with given env.\u001b[39;00m\n\u001b[0;32m   (...)\u001b[0m\n\u001b[1;32m    225\u001b[0m \u001b[38;5;124;03m:param action_space: Action space to check against\u001b[39;00m\n\u001b[1;32m    226\u001b[0m \u001b[38;5;124;03m\"\"\"\u001b[39;00m\n\u001b[1;32m    227\u001b[0m \u001b[38;5;28;01mif\u001b[39;00m observation_space \u001b[38;5;241m!=\u001b[39m env\u001b[38;5;241m.\u001b[39mobservation_space:\n\u001b[0;32m--> 228\u001b[0m     \u001b[38;5;28;01mraise\u001b[39;00m \u001b[38;5;167;01mValueError\u001b[39;00m(\u001b[38;5;124mf\u001b[39m\u001b[38;5;124m\"\u001b[39m\u001b[38;5;124mObservation spaces do not match: \u001b[39m\u001b[38;5;132;01m{\u001b[39;00mobservation_space\u001b[38;5;132;01m}\u001b[39;00m\u001b[38;5;124m != \u001b[39m\u001b[38;5;132;01m{\u001b[39;00menv\u001b[38;5;241m.\u001b[39mobservation_space\u001b[38;5;132;01m}\u001b[39;00m\u001b[38;5;124m\"\u001b[39m)\n\u001b[1;32m    229\u001b[0m \u001b[38;5;28;01mif\u001b[39;00m action_space \u001b[38;5;241m!=\u001b[39m env\u001b[38;5;241m.\u001b[39maction_space:\n\u001b[1;32m    230\u001b[0m     \u001b[38;5;28;01mraise\u001b[39;00m \u001b[38;5;167;01mValueError\u001b[39;00m(\u001b[38;5;124mf\u001b[39m\u001b[38;5;124m\"\u001b[39m\u001b[38;5;124mAction spaces do not match: \u001b[39m\u001b[38;5;132;01m{\u001b[39;00maction_space\u001b[38;5;132;01m}\u001b[39;00m\u001b[38;5;124m != \u001b[39m\u001b[38;5;132;01m{\u001b[39;00menv\u001b[38;5;241m.\u001b[39maction_space\u001b[38;5;132;01m}\u001b[39;00m\u001b[38;5;124m\"\u001b[39m)\n",
      "\u001b[0;31mValueError\u001b[0m: Observation spaces do not match: Dict(conditions:Box([-1. -1. -1. -1. -1. -1. -1. -1. -1.], [1. 1. 1. 1. 1. 1. 1. 1. 1.], (9,), float32), design_variables:Box([-3.1415927 -3.1415927 -3.1415927 -3.1415927 -3.1415927 -3.1415927\n -3.1415927 -3.1415927 -3.1415927 -3.1415927 -3.1415927 -3.1415927\n -3.1415927 -3.1415927 -3.1415927 -3.1415927 -3.1415927 -3.1415927\n -3.1415927 -3.1415927 -3.1415927 -3.1415927 -3.1415927 -3.1415927\n -3.1415927 -3.1415927 -3.1415927 -3.1415927 -3.1415927 -3.1415927\n -3.1415927 -3.1415927 -3.1415927 -3.1415927 -3.1415927 -3.1415927\n -3.1415927 -3.1415927 -3.1415927 -3.1415927 -3.1415927 -3.1415927\n -3.1415927 -3.1415927 -3.1415927 -3.1415927 -3.1415927 -3.1415927], [3.1415927 3.1415927 3.1415927 3.1415927 3.1415927 3.1415927 3.1415927\n 3.1415927 3.1415927 3.1415927 3.1415927 3.1415927 3.1415927 3.1415927\n 3.1415927 3.1415927 3.1415927 3.1415927 3.1415927 3.1415927 3.1415927\n 3.1415927 3.1415927 3.1415927 3.1415927 3.1415927 3.1415927 3.1415927\n 3.1415927 3.1415927 3.1415927 3.1415927 3.1415927 3.1415927 3.1415927\n 3.1415927 3.1415927 3.1415927 3.1415927 3.1415927 3.1415927 3.1415927\n 3.1415927 3.1415927 3.1415927 3.1415927 3.1415927 3.1415927], (48,), float32), image:Box([[[-10. -10. -10. ... -10. -10. -10.]\n  [-10. -10. -10. ... -10. -10. -10.]\n  [-10. -10. -10. ... -10. -10. -10.]\n  ...\n  [-10. -10. -10. ... -10. -10. -10.]\n  [-10. -10. -10. ... -10. -10. -10.]\n  [-10. -10. -10. ... -10. -10. -10.]]\n\n [[-10. -10. -10. ... -10. -10. -10.]\n  [-10. -10. -10. ... -10. -10. -10.]\n  [-10. -10. -10. ... -10. -10. -10.]\n  ...\n  [-10. -10. -10. ... -10. -10. -10.]\n  [-10. -10. -10. ... -10. -10. -10.]\n  [-10. -10. -10. ... -10. -10. -10.]]\n\n [[-10. -10. -10. ... -10. -10. -10.]\n  [-10. -10. -10. ... -10. -10. -10.]\n  [-10. -10. -10. ... -10. -10. -10.]\n  ...\n  [-10. -10. -10. ... -10. -10. -10.]\n  [-10. -10. -10. ... -10. -10. -10.]\n  [-10. -10. -10. ... -10. -10. -10.]]], [[[10. 10. 10. ... 10. 10. 10.]\n  [10. 10. 10. ... 10. 10. 10.]\n  [10. 10. 10. ... 10. 10. 10.]\n  ...\n  [10. 10. 10. ... 10. 10. 10.]\n  [10. 10. 10. ... 10. 10. 10.]\n  [10. 10. 10. ... 10. 10. 10.]]\n\n [[10. 10. 10. ... 10. 10. 10.]\n  [10. 10. 10. ... 10. 10. 10.]\n  [10. 10. 10. ... 10. 10. 10.]\n  ...\n  [10. 10. 10. ... 10. 10. 10.]\n  [10. 10. 10. ... 10. 10. 10.]\n  [10. 10. 10. ... 10. 10. 10.]]\n\n [[10. 10. 10. ... 10. 10. 10.]\n  [10. 10. 10. ... 10. 10. 10.]\n  [10. 10. 10. ... 10. 10. 10.]\n  ...\n  [10. 10. 10. ... 10. 10. 10.]\n  [10. 10. 10. ... 10. 10. 10.]\n  [10. 10. 10. ... 10. 10. 10.]]], (3, 64, 128), float32), n_steps_left:Box([0.], [1.], (1,), float32), volume:Box([0.], [1.], (1,), float32)) != Dict(conditions:Box([-1. -1. -1. -1. -1. -1. -1. -1. -1.], [1. 1. 1. 1. 1. 1. 1. 1. 1.], (9,), float32), design_variables:Box([-3.1415927 -3.1415927 -3.1415927 -3.1415927 -3.1415927 -3.1415927\n -3.1415927 -3.1415927 -3.1415927 -3.1415927 -3.1415927 -3.1415927\n -3.1415927 -3.1415927 -3.1415927 -3.1415927 -3.1415927 -3.1415927\n -3.1415927 -3.1415927 -3.1415927 -3.1415927 -3.1415927 -3.1415927\n -3.1415927 -3.1415927 -3.1415927 -3.1415927 -3.1415927 -3.1415927\n -3.1415927 -3.1415927 -3.1415927 -3.1415927 -3.1415927 -3.1415927\n -3.1415927 -3.1415927 -3.1415927 -3.1415927 -3.1415927 -3.1415927\n -3.1415927 -3.1415927 -3.1415927 -3.1415927 -3.1415927 -3.1415927], [3.1415927 3.1415927 3.1415927 3.1415927 3.1415927 3.1415927 3.1415927\n 3.1415927 3.1415927 3.1415927 3.1415927 3.1415927 3.1415927 3.1415927\n 3.1415927 3.1415927 3.1415927 3.1415927 3.1415927 3.1415927 3.1415927\n 3.1415927 3.1415927 3.1415927 3.1415927 3.1415927 3.1415927 3.1415927\n 3.1415927 3.1415927 3.1415927 3.1415927 3.1415927 3.1415927 3.1415927\n 3.1415927 3.1415927 3.1415927 3.1415927 3.1415927 3.1415927 3.1415927\n 3.1415927 3.1415927 3.1415927 3.1415927 3.1415927 3.1415927], (48,), float32), image:Box([[[0 0 0 ... 0 0 0]\n  [0 0 0 ... 0 0 0]\n  [0 0 0 ... 0 0 0]\n  ...\n  [0 0 0 ... 0 0 0]\n  [0 0 0 ... 0 0 0]\n  [0 0 0 ... 0 0 0]]\n\n [[0 0 0 ... 0 0 0]\n  [0 0 0 ... 0 0 0]\n  [0 0 0 ... 0 0 0]\n  ...\n  [0 0 0 ... 0 0 0]\n  [0 0 0 ... 0 0 0]\n  [0 0 0 ... 0 0 0]]\n\n [[0 0 0 ... 0 0 0]\n  [0 0 0 ... 0 0 0]\n  [0 0 0 ... 0 0 0]\n  ...\n  [0 0 0 ... 0 0 0]\n  [0 0 0 ... 0 0 0]\n  [0 0 0 ... 0 0 0]]], [[[255 255 255 ... 255 255 255]\n  [255 255 255 ... 255 255 255]\n  [255 255 255 ... 255 255 255]\n  ...\n  [255 255 255 ... 255 255 255]\n  [255 255 255 ... 255 255 255]\n  [255 255 255 ... 255 255 255]]\n\n [[255 255 255 ... 255 255 255]\n  [255 255 255 ... 255 255 255]\n  [255 255 255 ... 255 255 255]\n  ...\n  [255 255 255 ... 255 255 255]\n  [255 255 255 ... 255 255 255]\n  [255 255 255 ... 255 255 255]]\n\n [[255 255 255 ... 255 255 255]\n  [255 255 255 ... 255 255 255]\n  [255 255 255 ... 255 255 255]\n  ...\n  [255 255 255 ... 255 255 255]\n  [255 255 255 ... 255 255 255]\n  [255 255 255 ... 255 255 255]]], (3, 64, 128), uint8), n_steps_left:Box([0.], [1.], (1,), float32), volume:Box([0.], [1.], (1,), float32))"
     ]
    }
   ],
   "source": [
    "num_cpu = 32 # Number of processes to use\n",
    "train_env = sogym(mode='train',observation_type='image')\n",
    "env= make_vec_env(lambda:train_env, n_envs=num_cpu,vec_env_cls=SubprocVecEnv)\n",
    "env = VecNormalize.load('env_saved.pkl',env)\n",
    "\n",
    "eval_env = sogym(mode='test',observation_type='image')\n",
    "eval_env = make_vec_env(lambda:eval_env, n_envs=1,vec_env_cls=SubprocVecEnv)\n",
    "eval_env = VecNormalize.load('env_saved.pkl',eval_env)\n",
    "\n",
    "model.load('model_saved',env=env,device='cuda')\n",
    "model.learn(500000,callback=callback,reset_num_timesteps=False,tb_log_name='PPO_test_1M')\n",
    "model.save('model_saved_1M',)\n",
    "env.save('env_saved_1M.pkl')"
   ]
  },
  {
   "cell_type": "markdown",
   "id": "2827c8cc-028d-4448-b109-d6542816df2a",
   "metadata": {},
   "source": [
    "---\n",
    "### Let's visualize the agent's performance:"
   ]
  },
  {
   "cell_type": "code",
   "execution_count": 32,
   "id": "a96f9043-29e4-493e-a2bc-ee385e7ee9bd",
   "metadata": {},
   "outputs": [],
   "source": [
    "env=sogym(mode='test',observation_type='image')\n",
    "env = make_vec_env(lambda:env, n_envs=1,vec_env_cls=SubprocVecEnv)\n",
    "env = VecNormalize.load('env_saved.pkl',env)\n",
    "env.training=False\n",
    "env.norm_reward=False\n",
    "model=model.load('model_saved')\n",
    "#model.set_env(env)"
   ]
  },
  {
   "cell_type": "code",
   "execution_count": 35,
   "id": "e0d2de1f-dd90-40b2-acc9-b3227fd2888b",
   "metadata": {},
   "outputs": [
    {
     "name": "stdout",
     "output_type": "stream",
     "text": [
      "[[0.90895426 1.         1.         0.23904514 1.         1.        ]]\n",
      "[[ 1.          1.          1.         -0.64072937 -0.13095489  1.        ]]\n",
      "[[ 1.          1.          1.         -0.33366826 -1.         -1.        ]]\n",
      "[[ 0.6160467   0.0888018   0.13543001  0.13374622 -1.         -1.        ]]\n",
      "[[-0.43506697 -1.         -1.          1.         -1.         -1.        ]]\n",
      "[[-1. -1. -1.  1. -1. -1.]]\n",
      "[[-0.50761825 -1.         -1.          1.         -1.         -1.        ]]\n",
      "[[-1. -1. -1.  1. -1. -1.]]\n",
      "Reward: 0.0021147175758949974\n"
     ]
    },
    {
     "data": {
      "image/png": "[encoded data removed]",
      "text/plain": [
       "<Figure size 1000x500 with 1 Axes>"
      ]
     },
     "execution_count": 35,
     "metadata": {},
     "output_type": "execute_result"
    }
   ],
   "source": [
    "obs=env.reset()\n",
    "dones=False\n",
    "\n",
    "while dones== False:\n",
    "    action, _states = model.predict(obs,deterministic=True)\n",
    "    print(action)\n",
    "    obs, rewards, dones, info = env.step(action)\n",
    "  \n",
    "print(\"Reward:\",rewards[0])\n",
    "#print(\"Volume:\",np.round(env.get_attr('volume')[0]*100,2),\"%\")\n",
    "fig=env.env_method('plot')[0]\n",
    "#fig = env.render()\n",
    "\n",
    "fig"
   ]
  },
  {
   "cell_type": "code",
   "execution_count": 36,
   "id": "2716b00a",
   "metadata": {},
   "outputs": [
    {
     "data": {
      "text/plain": [
       "(5151,)"
      ]
     },
     "execution_count": 36,
     "metadata": {},
     "output_type": "execute_result"
    }
   ],
   "source": [
    "env.get_attr('H')[0].shape"
   ]
  },
  {
   "cell_type": "code",
   "execution_count": 39,
   "id": "87bf566a",
   "metadata": {},
   "outputs": [
    {
     "data": {
      "text/plain": [
       "<matplotlib.image.AxesImage at 0x7f3c150b9990>"
      ]
     },
     "execution_count": 39,
     "metadata": {},
     "output_type": "execute_result"
    },
    {
     "data": {
      "image/png": "[encoded data removed]",
      "text/plain": [
       "<Figure size 1000x500 with 1 Axes>"
      ]
     },
     "metadata": {},
     "output_type": "display_data"
    }
   ],
   "source": [
    "import matplotlib.pyplot as plt\n",
    "plt.imshow(env.get_attr('H')[0].reshape((51,101),order='F'))"
   ]
  },
  {
   "cell_type": "code",
   "execution_count": null,
   "id": "509eeadd",
   "metadata": {},
   "outputs": [],
   "source": []
  }
 ],
 "metadata": {
  "kernelspec": {
   "display_name": "sb3",
   "language": "python",
   "name": "python3"
  },
  "language_info": {
   "codemirror_mode": {
    "name": "ipython",
    "version": 3
   },
   "file_extension": ".py",
   "mimetype": "text/x-python",
   "name": "python",
   "nbconvert_exporter": "python",
   "pygments_lexer": "ipython3",
   "version": "3.9.13"
  },
  "vscode": {
   "interpreter": {
    "hash": "8de52954a71c7cb345bcbc3170b9777ef55db82dd4d591f11f465e13ff11a1ec"
   }
  }
 },
 "nbformat": 4,
 "nbformat_minor": 5
}
