{
 "cells": [
  {
   "cell_type": "code",
   "execution_count": 7,
   "id": "94e6157f-d831-41f7-b27c-f949e2253f3e",
   "metadata": {},
   "outputs": [
    {
     "name": "stdout",
     "output_type": "stream",
     "text": [
      "The autoreload extension is already loaded. To reload it, use:\n",
      "  %reload_ext autoreload\n"
     ]
    }
   ],
   "source": [
    "from env.env import sogym\n",
    "from env.utils import FigureRecorderCallback\n",
    "import numpy as np\n",
    "from stable_baselines3.common.env_checker import check_env\n",
    "from stable_baselines3.common.env_util import make_vec_env\n",
    "from stable_baselines3.common.vec_env import VecNormalize, SubprocVecEnv\n",
    "from stable_baselines3 import PPO\n",
    "%load_ext autoreload\n",
    "%autoreload 2\n"
   ]
  },
  {
   "cell_type": "markdown",
   "id": "d02b8cad-4629-49cf-a15e-ebb7c9a5b6c1",
   "metadata": {},
   "source": [
    "---\n",
    "### Environment test and visualization:"
   ]
  },
  {
   "cell_type": "code",
   "execution_count": 165,
   "id": "6edcde2a",
   "metadata": {},
   "outputs": [],
   "source": [
    "from stable_baselines3.common.env_checker import check_env\n",
    "# It will check your custom environment and output additional warnings if needed\n",
    "check_env(sogym())"
   ]
  },
  {
   "cell_type": "code",
   "execution_count": 170,
   "id": "85a4374a-b735-4474-8427-30b1d55dfe22",
   "metadata": {},
   "outputs": [],
   "source": [
    "# Let's test the environment using the check_env util from SB3:\n",
    "train_env = sogym(mode='train')\n",
    "eval_env = sogym(mode='test')"
   ]
  },
  {
   "cell_type": "code",
   "execution_count": 171,
   "id": "789bbd87",
   "metadata": {},
   "outputs": [
    {
     "name": "stdout",
     "output_type": "stream",
     "text": [
      "Number of unique BC + desired volume frac combinations in the train distribution:  4284\n",
      "Number of unique BC + desired volume frac combinations in the test distribution:  2412\n"
     ]
    }
   ],
   "source": [
    "# The training environment and the eval environment both have a different boundary conditions distribution:\n",
    "print(\"Number of unique BC + desired volume frac combinations in the train distribution: \",len(train_env.BC_dict))\n",
    "print(\"Number of unique BC + desired volume frac combinations in the test distribution: \",len(eval_env.BC_dict))"
   ]
  },
  {
   "cell_type": "code",
   "execution_count": 172,
   "id": "fdd08850",
   "metadata": {},
   "outputs": [
    {
     "name": "stdout",
     "output_type": "stream",
     "text": [
      "Volume:  0.4883407101567058\n",
      "Reward  0.00034461090864413\n"
     ]
    },
    {
     "data": {
      "image/png": "[encoded data removed]",
      "text/plain": [
       "<Figure size 720x360 with 1 Axes>"
      ]
     },
     "execution_count": 172,
     "metadata": {},
     "output_type": "execute_result"
    }
   ],
   "source": [
    "# Let's visualize the training environment on a random problem statement and visualize a 'successful' solution:\n",
    "reward = 0.0\n",
    "while reward==0.0:\n",
    "    obs = train_env.reset()\n",
    "    done = False\n",
    "    while not done:\n",
    "        action = train_env.action_space.sample()\n",
    "        obs, reward, done, info = train_env.step(action)\n",
    "print(\"Volume: \", train_env.volume)\n",
    "print(\"Reward \",reward)\n",
    "train_env.plot()"
   ]
  },
  {
   "cell_type": "code",
   "execution_count": 158,
   "id": "c3ac8455",
   "metadata": {},
   "outputs": [
    {
     "name": "stdout",
     "output_type": "stream",
     "text": [
      "Volume:  0.5020096055973385\n",
      "Reward  0.0\n"
     ]
    },
    {
     "data": {
      "image/png": "[encoded data removed]",
      "text/plain": [
       "<Figure size 720x360 with 1 Axes>"
      ]
     },
     "execution_count": 158,
     "metadata": {},
     "output_type": "execute_result"
    }
   ],
   "source": [
    "# Let's visualize the eval environment:\n",
    "obs = eval_env.reset()\n",
    "done = False\n",
    "while not done:\n",
    "    action = eval_env.action_space.sample()\n",
    "    obs, reward, done, info = eval_env.step(action)\n",
    "print(\"Volume: \", eval_env.volume)\n",
    "print(\"Reward \",reward)\n",
    "eval_env.plot()"
   ]
  },
  {
   "cell_type": "code",
   "execution_count": 159,
   "id": "1efa0a19",
   "metadata": {},
   "outputs": [
    {
     "data": {
      "text/plain": [
       "<matplotlib.image.AxesImage at 0x7f99adc5d6a0>"
      ]
     },
     "execution_count": 159,
     "metadata": {},
     "output_type": "execute_result"
    },
    {
     "data": {
      "image/png": "[encoded data removed]",
      "text/plain": [
       "<Figure size 720x360 with 1 Axes>"
      ]
     },
     "metadata": {
      "needs_background": "light"
     },
     "output_type": "display_data"
    }
   ],
   "source": [
    "# Let's check the image available for the agent if we desire:\n",
    "plt.imshow(train_env.gen_image())"
   ]
  },
  {
   "cell_type": "markdown",
   "id": "7820005a-be57-4236-b66b-0b34ed558aff",
   "metadata": {},
   "source": [
    "---\n",
    "### Multiprocessing"
   ]
  },
  {
   "cell_type": "code",
   "execution_count": 208,
   "id": "d3e210c1-817a-42a8-ab28-2ea437ed2c4e",
   "metadata": {},
   "outputs": [
    {
     "name": "stderr",
     "output_type": "stream",
     "text": [
      "Traceback (most recent call last):\n",
      "  File \"/Users/thomasrochefort/opt/anaconda3/envs/sb3/lib/python3.9/multiprocessing/forkserver.py\", line 274, in main\n",
      "    code = _serve_one(child_r, fds,\n",
      "  File \"/Users/thomasrochefort/opt/anaconda3/envs/sb3/lib/python3.9/multiprocessing/forkserver.py\", line 313, in _serve_one\n",
      "    code = spawn._main(child_r, parent_sentinel)\n",
      "  File \"/Users/thomasrochefort/opt/anaconda3/envs/sb3/lib/python3.9/multiprocessing/spawn.py\", line 126, in _main\n",
      "    self = reduction.pickle.load(from_parent)\n",
      "_pickle.UnpicklingError: pickle data was truncated\n"
     ]
    }
   ],
   "source": [
    "num_cpu = 8 # Number of processes to use\n",
    "train_env = sogym(mode='train')\n",
    "env= make_vec_env(lambda:train_env, n_envs=num_cpu,vec_env_cls=SubprocVecEnv)\n",
    "env=VecNormalize(env,gamma=1.0)\n",
    "\n",
    "eval_env = sogym(mode='test')\n",
    "eval_env = make_vec_env(lambda:eval_env, n_envs=1,vec_env_cls=SubprocVecEnv)\n",
    "eval_env =VecNormalize(eval_env,gamma=1.0)\n"
   ]
  },
  {
   "cell_type": "code",
   "execution_count": 209,
   "id": "e06b39e1",
   "metadata": {},
   "outputs": [],
   "source": [
    "# Let's  test that an eval callback actually works:\n",
    "from stable_baselines3.common.callbacks import EvalCallback, CallbackList\n",
    "\n",
    "eval_callback = EvalCallback(eval_env,log_path='tb_logs',eval_freq=500,deterministic=True,render=False)\n",
    "callback = CallbackList([eval_callback,\n",
    "                         FigureRecorderCallback(check_freq=8*32)])"
   ]
  },
  {
   "cell_type": "markdown",
   "id": "826b6f2e-5ceb-447f-ac10-a52f0379cb31",
   "metadata": {},
   "source": [
    "--- \n",
    "### Defining the model"
   ]
  },
  {
   "cell_type": "code",
   "execution_count": 210,
   "id": "d38d23da-ccbe-4def-9e63-2cc973aa8d33",
   "metadata": {},
   "outputs": [],
   "source": [
    "model = PPO(\"MultiInputPolicy\",\n",
    "            env,\n",
    "            seed=42,\n",
    "            n_steps=32,\n",
    "            batch_size=32,\n",
    "            verbose=0,\n",
    "            gamma=1.0,\n",
    "            tensorboard_log=\"tb_logs\")"
   ]
  },
  {
   "cell_type": "markdown",
   "id": "20f70cf1-e15e-4fed-ab75-12bdca996f2d",
   "metadata": {},
   "source": [
    "--- \n",
    "### Training"
   ]
  },
  {
   "cell_type": "code",
   "execution_count": 212,
   "id": "2b3bf677-0636-4723-a840-9a519f8e6c2b",
   "metadata": {},
   "outputs": [
    {
     "name": "stdout",
     "output_type": "stream",
     "text": [
      "Eval num_timesteps=3616, episode_reward=0.00 +/- 0.00\n",
      "Episode length: 8.00 +/- 0.00\n",
      "Eval num_timesteps=7616, episode_reward=0.00 +/- 0.00\n",
      "Episode length: 8.00 +/- 0.00\n",
      "Eval num_timesteps=11616, episode_reward=0.00 +/- 0.00\n",
      "Episode length: 8.00 +/- 0.00\n",
      "Eval num_timesteps=15616, episode_reward=0.00 +/- 0.00\n",
      "Episode length: 8.00 +/- 0.00\n",
      "New best mean reward!\n"
     ]
    }
   ],
   "source": [
    "model.learn(4096*4,\n",
    "            callback=callback,\n",
    "            tb_log_name='PPO_test')\n",
    "model.save('model_saved',)\n",
    "env.save('env_saved.pkl')"
   ]
  },
  {
   "cell_type": "markdown",
   "id": "2827c8cc-028d-4448-b109-d6542816df2a",
   "metadata": {},
   "source": [
    "---\n",
    "### Let's visualize the agent's performance:"
   ]
  },
  {
   "cell_type": "code",
   "execution_count": 217,
   "id": "a96f9043-29e4-493e-a2bc-ee385e7ee9bd",
   "metadata": {},
   "outputs": [],
   "source": [
    "env=sogym(mode='test')\n",
    "env = make_vec_env(lambda:env, n_envs=1,vec_env_cls=SubprocVecEnv)\n",
    "env = VecNormalize.load('env_saved.pkl',env)\n",
    "env.training=False\n",
    "env.norm_reward=False\n",
    "model=model.load('model_saved')\n",
    "model.set_env(env)"
   ]
  },
  {
   "cell_type": "code",
   "execution_count": 223,
   "id": "e0d2de1f-dd90-40b2-acc9-b3227fd2888b",
   "metadata": {},
   "outputs": [
    {
     "name": "stdout",
     "output_type": "stream",
     "text": [
      "Reward: 0.0018484041827767127\n",
      "Volume: 14.28 %\n"
     ]
    },
    {
     "data": {
      "image/png": "[encoded data removed]",
      "text/plain": [
       "<Figure size 1000x500 with 1 Axes>"
      ]
     },
     "execution_count": 223,
     "metadata": {},
     "output_type": "execute_result"
    }
   ],
   "source": [
    "obs=env.reset()\n",
    "dones=False\n",
    "while dones== False:\n",
    "    action, _states = model.predict(obs,deterministic=True)\n",
    "    obs, rewards, dones, info = env.step(action)\n",
    "print(\"Reward:\",rewards[0])\n",
    "print(\"Volume:\",np.round(env.get_attr('volume')[0]*100,2),\"%\")\n",
    "fig=env.env_method('plot')[0]\n",
    "fig"
   ]
  },
  {
   "cell_type": "code",
   "execution_count": null,
   "id": "6a276348-c292-41d8-a677-31ab76195855",
   "metadata": {},
   "outputs": [],
   "source": []
  }
 ],
 "metadata": {
  "kernelspec": {
   "display_name": "sb3",
   "language": "python",
   "name": "python3"
  },
  "language_info": {
   "codemirror_mode": {
    "name": "ipython",
    "version": 3
   },
   "file_extension": ".py",
   "mimetype": "text/x-python",
   "name": "python",
   "nbconvert_exporter": "python",
   "pygments_lexer": "ipython3",
   "version": "3.9.13"
  },
  "vscode": {
   "interpreter": {
    "hash": "8de52954a71c7cb345bcbc3170b9777ef55db82dd4d591f11f465e13ff11a1ec"
   }
  }
 },
 "nbformat": 4,
 "nbformat_minor": 5
}
