{
 "cells": [
  {
   "cell_type": "code",
   "execution_count": 1,
   "id": "94e6157f-d831-41f7-b27c-f949e2253f3e",
   "metadata": {},
   "outputs": [
    {
     "name": "stderr",
     "output_type": "stream",
     "text": [
      "/Users/thomasrochefort/opt/anaconda3/envs/sb3/lib/python3.9/site-packages/tqdm/auto.py:22: TqdmWarning: IProgress not found. Please update jupyter and ipywidgets. See https://ipywidgets.readthedocs.io/en/stable/user_install.html\n",
      "  from .autonotebook import tqdm as notebook_tqdm\n"
     ]
    },
    {
     "name": "stdout",
     "output_type": "stream",
     "text": [
      "SB3 vestsion: 1.7.0\n"
     ]
    }
   ],
   "source": [
    "from sogym.env import sogym\n",
    "from sogym.utils import FigureRecorderCallback\n",
    "import numpy as np\n",
    "import stable_baselines3\n",
    "from stable_baselines3.common.env_checker import check_env\n",
    "from stable_baselines3.common.env_util import make_vec_env\n",
    "from stable_baselines3.common.vec_env import VecNormalize, SubprocVecEnv\n",
    "from stable_baselines3 import PPO\n",
    "%load_ext autoreload\n",
    "%autoreload 2\n",
    "print('SB3 vestsion:', stable_baselines3.__version__)"
   ]
  },
  {
   "cell_type": "markdown",
   "id": "d02b8cad-4629-49cf-a15e-ebb7c9a5b6c1",
   "metadata": {},
   "source": [
    "---\n",
    "### Environment test and visualization:"
   ]
  },
  {
   "cell_type": "code",
   "execution_count": 2,
   "id": "6edcde2a",
   "metadata": {},
   "outputs": [],
   "source": [
    "from stable_baselines3.common.env_checker import check_env\n",
    "# It will check your custom environment and output additional warnings if needed\n",
    "check_env(sogym(nelx=100,nely=50,mode='train',observation_type='image'))"
   ]
  },
  {
   "cell_type": "code",
   "execution_count": 3,
   "id": "85a4374a-b735-4474-8427-30b1d55dfe22",
   "metadata": {},
   "outputs": [],
   "source": [
    "# Let's test the environment using the check_env util from SB3:\n",
    "train_env = sogym(nelx=100,nely=50,mode='train',observation_type='dense')\n",
    "eval_env = sogym(nelx=100,nely=50,mode='test',observation_type='dense')"
   ]
  },
  {
   "cell_type": "code",
   "execution_count": 4,
   "id": "789bbd87",
   "metadata": {},
   "outputs": [
    {
     "name": "stdout",
     "output_type": "stream",
     "text": [
      "Number of unique BC + desired volume frac combinations in the train distribution:  4284\n",
      "Number of unique BC + desired volume frac combinations in the test distribution:  2412\n"
     ]
    }
   ],
   "source": [
    "# The training environment and the eval environment both have a different boundary conditions distribution:\n",
    "print(\"Number of unique BC + desired volume frac combinations in the train distribution: \",len(train_env.BC_dict))\n",
    "print(\"Number of unique BC + desired volume frac combinations in the test distribution: \",len(eval_env.BC_dict))"
   ]
  },
  {
   "cell_type": "code",
   "execution_count": 5,
   "id": "fdd08850",
   "metadata": {},
   "outputs": [
    {
     "name": "stdout",
     "output_type": "stream",
     "text": [
      "Volume:  0.49237241821927613\n",
      "Reward  0.00163487176369609\n"
     ]
    },
    {
     "data": {
      "image/png": "[encoded data removed]",
      "text/plain": [
       "<Figure size 720x360 with 1 Axes>"
      ]
     },
     "execution_count": 5,
     "metadata": {},
     "output_type": "execute_result"
    }
   ],
   "source": [
    "# Let's visualize the training environment on a random problem statement and visualize a 'successful' solution:\n",
    "reward = 0.0\n",
    "while reward<1e-3:\n",
    "    obs = train_env.reset()\n",
    "    done = False\n",
    "    while not done:\n",
    "        action = train_env.action_space.sample()\n",
    "        obs, reward, done, info = train_env.step(action)\n",
    "print(\"Volume: \", train_env.volume)\n",
    "print(\"Reward \",reward)\n",
    "\n",
    "train_env.plot()"
   ]
  },
  {
   "cell_type": "code",
   "execution_count": 7,
   "id": "c3ac8455",
   "metadata": {},
   "outputs": [
    {
     "name": "stdout",
     "output_type": "stream",
     "text": [
      "Volume:  0.5356682490062138\n",
      "Reward  0.0\n"
     ]
    },
    {
     "data": {
      "image/png": "[encoded data removed]",
      "text/plain": [
       "<Figure size 720x360 with 1 Axes>"
      ]
     },
     "execution_count": 7,
     "metadata": {},
     "output_type": "execute_result"
    }
   ],
   "source": [
    "# Let's visualize the eval environment:\n",
    "obs = eval_env.reset()\n",
    "done = False\n",
    "while not done:\n",
    "    action = eval_env.action_space.sample()\n",
    "    obs, reward, done, info = eval_env.step(action)\n",
    "print(\"Volume: \", eval_env.volume)\n",
    "print(\"Reward \",reward)\n",
    "eval_env.plot()"
   ]
  },
  {
   "cell_type": "markdown",
   "id": "7820005a-be57-4236-b66b-0b34ed558aff",
   "metadata": {},
   "source": [
    "---\n",
    "### Multiprocessing"
   ]
  },
  {
   "cell_type": "code",
   "execution_count": 16,
   "id": "d3e210c1-817a-42a8-ab28-2ea437ed2c4e",
   "metadata": {},
   "outputs": [],
   "source": [
    "num_cpu = 8 # Number of processes to use\n",
    "train_env = sogym(mode='train',observation_type='image')\n",
    "env= make_vec_env(lambda:train_env, n_envs=num_cpu,vec_env_cls=SubprocVecEnv)\n",
    "env=VecNormalize(env,gamma=1.0)\n",
    "\n",
    "eval_env = sogym(mode='test',observation_type='image')\n",
    "eval_env = make_vec_env(lambda:eval_env, n_envs=1,vec_env_cls=SubprocVecEnv)\n",
    "eval_env =VecNormalize(eval_env,gamma=1.0)\n"
   ]
  },
  {
   "cell_type": "code",
   "execution_count": 18,
   "id": "e06b39e1",
   "metadata": {},
   "outputs": [],
   "source": [
    "# Let's  test that an eval callback actually works:\n",
    "from stable_baselines3.common.callbacks import EvalCallback, CallbackList\n",
    "\n",
    "eval_callback = EvalCallback(eval_env,log_path='tb_logs',eval_freq=100,deterministic=True,render=False)\n",
    "callback = CallbackList([eval_callback,\n",
    "                         FigureRecorderCallback(check_freq=8*32)])"
   ]
  },
  {
   "cell_type": "markdown",
   "id": "826b6f2e-5ceb-447f-ac10-a52f0379cb31",
   "metadata": {},
   "source": [
    "--- \n",
    "### Defining the model"
   ]
  },
  {
   "cell_type": "code",
   "execution_count": 19,
   "id": "d38d23da-ccbe-4def-9e63-2cc973aa8d33",
   "metadata": {},
   "outputs": [],
   "source": [
    "model = PPO(\"MultiInputPolicy\",\n",
    "            env,\n",
    "            seed=42,\n",
    "            n_steps=32,\n",
    "            batch_size=32,\n",
    "            verbose=0,\n",
    "            gamma=1.0,\n",
    "            tensorboard_log=\"tb_logs\")"
   ]
  },
  {
   "cell_type": "markdown",
   "id": "20f70cf1-e15e-4fed-ab75-12bdca996f2d",
   "metadata": {},
   "source": [
    "--- \n",
    "### Training"
   ]
  },
  {
   "cell_type": "code",
   "execution_count": 20,
   "id": "2b3bf677-0636-4723-a840-9a519f8e6c2b",
   "metadata": {},
   "outputs": [
    {
     "name": "stdout",
     "output_type": "stream",
     "text": [
      "Eval num_timesteps=800, episode_reward=0.00 +/- 0.00\n",
      "Episode length: 8.00 +/- 0.00\n",
      "New best mean reward!\n",
      "Eval num_timesteps=1600, episode_reward=0.00 +/- 0.00\n",
      "Episode length: 8.00 +/- 0.00\n",
      "Eval num_timesteps=2400, episode_reward=0.00 +/- 0.00\n",
      "Episode length: 8.00 +/- 0.00\n",
      "New best mean reward!\n",
      "Eval num_timesteps=3200, episode_reward=0.00 +/- 0.00\n",
      "Episode length: 8.00 +/- 0.00\n",
      "New best mean reward!\n",
      "Eval num_timesteps=4000, episode_reward=0.00 +/- 0.00\n",
      "Episode length: 8.00 +/- 0.00\n",
      "Eval num_timesteps=4800, episode_reward=0.00 +/- 0.00\n",
      "Episode length: 8.00 +/- 0.00\n",
      "New best mean reward!\n"
     ]
    }
   ],
   "source": [
    "model.learn(4096*4,callback=callback,tb_log_name='PPO_test')\n",
    "model.save('model_saved',)\n",
    "env.save('env_saved.pkl')"
   ]
  },
  {
   "cell_type": "markdown",
   "id": "2827c8cc-028d-4448-b109-d6542816df2a",
   "metadata": {},
   "source": [
    "---\n",
    "### Let's visualize the agent's performance:"
   ]
  },
  {
   "cell_type": "code",
   "execution_count": 11,
   "id": "a96f9043-29e4-493e-a2bc-ee385e7ee9bd",
   "metadata": {},
   "outputs": [],
   "source": [
    "env=sogym(mode='test',observation_type='dense')\n",
    "env = make_vec_env(lambda:env, n_envs=1,vec_env_cls=SubprocVecEnv)\n",
    "env = VecNormalize.load('env_saved.pkl',env)\n",
    "env.training=False\n",
    "env.norm_reward=False\n",
    "model=model.load('model_saved')\n",
    "#model.set_env(env)"
   ]
  },
  {
   "cell_type": "code",
   "execution_count": 12,
   "id": "e0d2de1f-dd90-40b2-acc9-b3227fd2888b",
   "metadata": {},
   "outputs": [
    {
     "name": "stdout",
     "output_type": "stream",
     "text": [
      "[[-0.34376752  0.08250163  0.22266157  0.6264327  -0.49243253 -1.        ]]\n",
      "[[-2.6293085 ]\n",
      " [-2.60151152]\n",
      " [-2.57379403]\n",
      " ...\n",
      " [-2.47111117]\n",
      " [-2.48035517]\n",
      " [-2.49770212]]\n",
      "[-2.6293085  -2.60151152 -2.57379403 ... -2.47111117 -2.48035517\n",
      " -2.49770212]\n",
      "--------\n",
      "[[ 1.         -1.          0.21050337 -1.          0.39356667 -1.        ]]\n",
      "[[-2.6293085  -3.06651742]\n",
      " [-2.60151152 -3.06651742]\n",
      " [-2.57379403 -3.06651743]\n",
      " ...\n",
      " [-2.47111117 -3.59252219]\n",
      " [-2.48035517 -3.68819005]\n",
      " [-2.49770212 -3.78385882]]\n",
      "[-3.06651742 -3.06651742 -3.06651743 ... -3.59252219 -3.68819005\n",
      " -3.78385882]\n",
      "--------\n",
      "[[ 0.5421006  -0.6851253   0.4215751   0.18162724  0.11663434  0.3507802 ]]\n",
      "[[-2.6293085  -3.06651742 -7.13055089]\n",
      " [-2.60151152 -3.06651742 -7.03769706]\n",
      " [-2.57379403 -3.06651743 -6.94630577]\n",
      " ...\n",
      " [-2.47111117 -3.59252219 -2.03645262]\n",
      " [-2.48035517 -3.68819005 -2.04897595]\n",
      " [-2.49770212 -3.78385882 -2.06331152]]\n",
      "[-7.13055089 -7.03769706 -6.94630577 ... -2.03645262 -2.04897595\n",
      " -2.06331152]\n",
      "--------\n",
      "[[ 1.          0.5142095  -0.77136517 -0.5226601  -0.37942436 -1.        ]]\n",
      "[[-2.6293085  -3.06651742 -7.13055089 -2.55231053]\n",
      " [-2.60151152 -3.06651742 -7.03769706 -2.14008778]\n",
      " [-2.57379403 -3.06651743 -6.94630577 -1.72924729]\n",
      " ...\n",
      " [-2.47111117 -3.59252219 -2.03645262 -1.03188646]\n",
      " [-2.48035517 -3.68819005 -2.04897595 -1.2226487 ]\n",
      " [-2.49770212 -3.78385882 -2.06331152 -1.41321979]]\n",
      "[-2.55231053 -2.14008778 -1.72924729 ... -1.03188646 -1.2226487\n",
      " -1.41321979]\n",
      "--------\n",
      "[[-1.          0.76816905  0.03425056  0.5399691  -1.         -0.3564368 ]]\n",
      "[[ -2.6293085   -3.06651742  -7.13055089  -2.55231053 -17.93199517]\n",
      " [ -2.60151152  -3.06651742  -7.03769706  -2.14008778 -17.50373138]\n",
      " [ -2.57379403  -3.06651743  -6.94630577  -1.72924729 -17.07546439]\n",
      " ...\n",
      " [ -2.47111117  -3.59252219  -2.03645262  -1.03188646  -1.82119556]\n",
      " [ -2.48035517  -3.68819005  -2.04897595  -1.2226487   -1.82489891]\n",
      " [ -2.49770212  -3.78385882  -2.06331152  -1.41321979  -1.83153792]]\n",
      "[-17.93199517 -17.50373138 -17.07546439 ...  -1.82119556  -1.82489891\n",
      "  -1.83153792]\n",
      "--------\n",
      "[[-0.2441349  -1.          0.3351475   0.2139379   0.3333889  -0.22410345]]\n",
      "[[ -2.6293085   -3.06651742  -7.13055089  -2.55231053 -17.93199517\n",
      "   -1.47881043]\n",
      " [ -2.60151152  -3.06651742  -7.03769706  -2.14008778 -17.50373138\n",
      "   -1.49588029]\n",
      " [ -2.57379403  -3.06651743  -6.94630577  -1.72924729 -17.07546439\n",
      "   -1.51997538]\n",
      " ...\n",
      " [ -2.47111117  -3.59252219  -2.03645262  -1.03188646  -1.82119556\n",
      "   -3.64314844]\n",
      " [ -2.48035517  -3.68819005  -2.04897595  -1.2226487   -1.82489891\n",
      "   -3.44713185]\n",
      " [ -2.49770212  -3.78385882  -2.06331152  -1.41321979  -1.83153792\n",
      "   -3.24440004]]\n",
      "[-1.47881043 -1.49588029 -1.51997538 ... -3.64314844 -3.44713185\n",
      " -3.24440004]\n",
      "--------\n",
      "[[-1.         -1.          0.6175953   1.          0.51930887 -0.8382907 ]]\n",
      "[[-2.62930850e+00 -3.06651742e+00 -7.13055089e+00 ... -1.79319952e+01\n",
      "  -1.47881043e+00  2.25487318e-09]\n",
      " [-2.60151152e+00 -3.06651742e+00 -7.03769706e+00 ... -1.75037314e+01\n",
      "  -1.49588029e+00  1.10600379e-02]\n",
      " [-2.57379403e+00 -3.06651743e+00 -6.94630577e+00 ... -1.70754644e+01\n",
      "  -1.51997538e+00  2.21179459e-02]\n",
      " ...\n",
      " [-2.47111117e+00 -3.59252219e+00 -2.03645262e+00 ... -1.82119556e+00\n",
      "  -3.64314844e+00 -4.06541933e+00]\n",
      " [-2.48035517e+00 -3.68819005e+00 -2.04897595e+00 ... -1.82489891e+00\n",
      "  -3.44713185e+00 -3.69902506e+00]\n",
      " [-2.49770212e+00 -3.78385882e+00 -2.06331152e+00 ... -1.83153792e+00\n",
      "  -3.24440004e+00 -3.33270650e+00]]\n",
      "[ 2.25487318e-09  1.10600379e-02  2.21179459e-02 ... -4.06541933e+00\n",
      " -3.69902506e+00 -3.33270650e+00]\n",
      "--------\n",
      "[[ 0.10495159 -1.         -0.3102687   1.          1.          0.09069605]]\n",
      "[[0. 0. 0. ... 0. 0. 0.]\n",
      " [0. 0. 0. ... 0. 0. 0.]\n",
      " [0. 0. 0. ... 0. 0. 0.]\n",
      " ...\n",
      " [0. 0. 0. ... 0. 0. 0.]\n",
      " [0. 0. 0. ... 0. 0. 0.]\n",
      " [0. 0. 0. ... 0. 0. 0.]]\n",
      "[0. 0. 0. ... 0. 0. 0.]\n",
      "--------\n"
     ]
    },
    {
     "data": {
      "image/png": "[encoded data removed]",
      "text/plain": [
       "<Figure size 1000x500 with 1 Axes>"
      ]
     },
     "execution_count": 12,
     "metadata": {},
     "output_type": "execute_result"
    }
   ],
   "source": [
    "obs=env.reset()\n",
    "dones=False\n",
    "\n",
    "while dones== False:\n",
    "    action, _states = model.predict(obs,deterministic=False)\n",
    "    print(action)\n",
    "    obs, rewards, dones, info = env.step(action)\n",
    "    print(env.get_attr('Phi')[0])\n",
    "    print(env.get_attr('Phi')[0][:,-1])\n",
    "    print('--------')\n",
    "\n",
    "#print(\"Reward:\",rewards[0])\n",
    "#print(\"Volume:\",np.round(env.get_attr('volume')[0]*100,2),\"%\")\n",
    "fig=env.env_method('plot')[0]\n",
    "#fig = env.render()\n",
    "\n",
    "fig"
   ]
  },
  {
   "cell_type": "code",
   "execution_count": 363,
   "id": "2716b00a",
   "metadata": {},
   "outputs": [
    {
     "data": {
      "text/plain": [
       "(5151, 8)"
      ]
     },
     "execution_count": 363,
     "metadata": {},
     "output_type": "execute_result"
    }
   ],
   "source": [
    "env.get_attr('Phi')[0].shape"
   ]
  },
  {
   "cell_type": "code",
   "execution_count": null,
   "id": "87bf566a",
   "metadata": {},
   "outputs": [],
   "source": []
  },
  {
   "cell_type": "code",
   "execution_count": null,
   "id": "509eeadd",
   "metadata": {},
   "outputs": [],
   "source": []
  }
 ],
 "metadata": {
  "kernelspec": {
   "display_name": "sb3",
   "language": "python",
   "name": "python3"
  },
  "language_info": {
   "codemirror_mode": {
    "name": "ipython",
    "version": 3
   },
   "file_extension": ".py",
   "mimetype": "text/x-python",
   "name": "python",
   "nbconvert_exporter": "python",
   "pygments_lexer": "ipython3",
   "version": "3.9.13"
  },
  "vscode": {
   "interpreter": {
    "hash": "8de52954a71c7cb345bcbc3170b9777ef55db82dd4d591f11f465e13ff11a1ec"
   }
  }
 },
 "nbformat": 4,
 "nbformat_minor": 5
}
