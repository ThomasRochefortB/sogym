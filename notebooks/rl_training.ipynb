{
 "cells": [
  {
   "cell_type": "code",
   "execution_count": 1,
   "id": "94e6157f-d831-41f7-b27c-f949e2253f3e",
   "metadata": {},
   "outputs": [
    {
     "name": "stdout",
     "output_type": "stream",
     "text": [
      "SB3 version: 1.7.0\n",
      "Using device: cpu\n"
     ]
    }
   ],
   "source": [
    "from sogym.env import sogym\n",
    "from sogym.utils import FigureRecorderCallback\n",
    "import numpy as np\n",
    "import stable_baselines3\n",
    "from stable_baselines3.common.env_checker import check_env\n",
    "from stable_baselines3.common.env_util import make_vec_env\n",
    "from stable_baselines3.common.vec_env import VecNormalize, SubprocVecEnv\n",
    "import torch\n",
    "from stable_baselines3 import PPO\n",
    "from sogym.mmc_optim import run_mmc\n",
    "%load_ext autoreload\n",
    "%autoreload 2\n",
    "\n",
    "print('SB3 version:', stable_baselines3.__version__)\n",
    "# Let's make the code device agnostic:\n",
    "device = 'cuda' if torch.cuda.is_available() else 'cpu'\n",
    "print('Using device:', device)"
   ]
  },
  {
   "cell_type": "markdown",
   "id": "d02b8cad-4629-49cf-a15e-ebb7c9a5b6c1",
   "metadata": {},
   "source": [
    "---\n",
    "### Environment test and visualization:"
   ]
  },
  {
   "cell_type": "code",
   "execution_count": 3,
   "id": "6edcde2a",
   "metadata": {},
   "outputs": [],
   "source": [
    "from stable_baselines3.common.env_checker import check_env\n",
    "# It will check your custom environment and output additional warnings if needed\n",
    "check_env(sogym(mode='train',observation_type='dense'))"
   ]
  },
  {
   "cell_type": "code",
   "execution_count": 3,
   "id": "85a4374a-b735-4474-8427-30b1d55dfe22",
   "metadata": {},
   "outputs": [],
   "source": [
    "# Let's test the environment using the check_env util from SB3:\n",
    "train_env = sogym(mode='train',observation_type='dense',vol_constraint_type='hard')\n",
    "eval_env = sogym(mode='test',observation_type='dense',vol_constraint_type='hard')\n",
    "obs = train_env.reset()"
   ]
  },
  {
   "cell_type": "code",
   "execution_count": null,
   "id": "2e71bdbd-4d18-4f81-9e89-2e133b9b6d73",
   "metadata": {},
   "outputs": [],
   "source": [
    "# Let's visualize the training environment on a random problem statement and visualize a 'successful' solution:\n",
    "reward = 0.0\n",
    "while reward==0.0:\n",
    "    obs = train_env.reset()\n",
    "    done = False\n",
    "    while not done:\n",
    "        action = train_env.action_space.sample()\n",
    "        obs, reward, done, info = train_env.step(action)\n",
    "print(\"Volume: \", train_env.volume)\n",
    "print(\"Reward \",reward)\n",
    "\n",
    "train_env.plot()"
   ]
  },
  {
   "cell_type": "code",
   "execution_count": null,
   "id": "a0b960bc-b382-48ff-9d5c-52f639f1bdd5",
   "metadata": {},
   "outputs": [
    {
     "name": "stdout",
     "output_type": "stream",
     "text": [
      "Volume:  0.4979757553332994\n",
      "Reward  0.0\n"
     ]
    },
    {
     "data": {
      "image/png": "[encoded data removed]",
      "text/plain": [
       "<Figure size 1000x500 with 1 Axes>"
      ]
     },
     "execution_count": 13,
     "metadata": {},
     "output_type": "execute_result"
    }
   ],
   "source": [
    "# Let's visualize the eval environment:\n",
    "obs = eval_env.reset()\n",
    "done = False\n",
    "while not done:\n",
    "    action = eval_env.action_space.sample()\n",
    "    obs, reward, done, info = eval_env.step(action)\n",
    "print(\"Volume: \", eval_env.volume)\n",
    "print(\"Reward \",reward)\n",
    "eval_env.plot()"
   ]
  },
  {
   "cell_type": "markdown",
   "id": "7820005a-be57-4236-b66b-0b34ed558aff",
   "metadata": {},
   "source": [
    "---\n",
    "### Multiprocessing"
   ]
  },
  {
   "cell_type": "code",
   "execution_count": 2,
   "id": "d3e210c1-817a-42a8-ab28-2ea437ed2c4e",
   "metadata": {},
   "outputs": [
    {
     "name": "stderr",
     "output_type": "stream",
     "text": [
      "Some weights of the model checkpoint at huggingface/CodeBERTa-small-v1 were not used when initializing RobertaModel: ['lm_head.decoder.weight', 'lm_head.decoder.bias', 'lm_head.dense.weight', 'lm_head.bias', 'lm_head.dense.bias', 'lm_head.layer_norm.weight', 'lm_head.layer_norm.bias']\n",
      "- This IS expected if you are initializing RobertaModel from the checkpoint of a model trained on another task or with another architecture (e.g. initializing a BertForSequenceClassification model from a BertForPreTraining model).\n",
      "- This IS NOT expected if you are initializing RobertaModel from the checkpoint of a model that you expect to be exactly identical (initializing a BertForSequenceClassification model from a BertForSequenceClassification model).\n"
     ]
    }
   ],
   "source": [
    "from transformers import AutoTokenizer, AutoModel\n",
    "#tokenizer = AutoTokenizer.from_pretrained(\"huggingface/CodeBERTa-small-v1\")\n",
    "#model = AutoModel.from_pretrained(\"huggingface/CodeBERTa-small-v1\").to('cuda')\n",
    "num_cpu = 6 # Number of processes to use\n",
    "train_env = sogym(mode='train',observation_type='box_dense',vol_constraint_type = 'soft',model=model,tokenizer=tokenizer)\n",
    "env= make_vec_env(lambda:train_env, n_envs=num_cpu,vec_env_cls=SubprocVecEnv)\n",
    "#env=VecNormalize(env,gamma=1.0)\n",
    "\n",
    "eval_env = sogym(mode='test',observation_type='box_dense',vol_constraint_type='soft',model=model,tokenizer=tokenizer)\n",
    "eval_env = make_vec_env(lambda:eval_env, n_envs=1,vec_env_cls=SubprocVecEnv)\n",
    "#eval_env =VecNormalize(eval_env,gamma=1.0)\n"
   ]
  },
  {
   "cell_type": "code",
   "execution_count": 3,
   "id": "e06b39e1",
   "metadata": {},
   "outputs": [],
   "source": [
    "# Let's  test that an eval callback actually works:\n",
    "from stable_baselines3.common.callbacks import EvalCallback, CallbackList\n",
    "\n",
    "eval_callback = EvalCallback(eval_env,log_path='tb_logs',eval_freq=100,deterministic=True,render=False,verbose=0)\n",
    "callback = CallbackList([eval_callback,\n",
    "                         FigureRecorderCallback(check_freq=2*8*32)])"
   ]
  },
  {
   "cell_type": "markdown",
   "id": "826b6f2e-5ceb-447f-ac10-a52f0379cb31",
   "metadata": {},
   "source": [
    "--- \n",
    "### Defining the model"
   ]
  },
  {
   "cell_type": "code",
   "execution_count": 4,
   "id": "8500aece",
   "metadata": {},
   "outputs": [],
   "source": [
    "from sogym.utils import ImageDictExtractor\n",
    "policy_kwargs = dict(\n",
    "    #features_extractor_class=ImageDictExtractor,\n",
    "    net_arch=dict(pi=[512,512,512], vf=[512,512,512]),\n",
    "               #optimizer_kwargs={\"weight_decay\": 1e-3},\n",
    ")"
   ]
  },
  {
   "cell_type": "code",
   "execution_count": 5,
   "id": "8a1132db-34f4-4a72-bb12-1339a9e00a53",
   "metadata": {},
   "outputs": [
    {
     "name": "stderr",
     "output_type": "stream",
     "text": [
      "/home/thomas/anaconda3/envs/SB3_update/lib/python3.10/site-packages/stable_baselines3/ppo/ppo.py:145: UserWarning: You have specified a mini-batch size of 512, but because the `RolloutBuffer` is of size `n_steps * n_envs = 510`, after every 0 untruncated mini-batches, there will be a truncated mini-batch of size 510\n",
      "We recommend using a `batch_size` that is a factor of `n_steps * n_envs`.\n",
      "Info: (n_steps=85 and n_envs=6)\n",
      "  warnings.warn(\n"
     ]
    }
   ],
   "source": [
    "model = PPO(\"MultiInputPolicy\",\n",
    "            env,\n",
    "            #seed=42,\n",
    "            #policy_kwargs = policy_kwargs,\n",
    "            n_steps=512//num_cpu,#(2048*16)//32,  #def: 224\n",
    "            batch_size=512,#2048*2, #def: 50*224\n",
    "            verbose=0,\n",
    "            n_epochs=3,\n",
    "            vf_coef = 1.0,\n",
    "            clip_range = 0.3,\n",
    "            clip_range_vf = 10.0,\n",
    "            #target_kl = 0.02,\n",
    "            gamma=1.0,  #def: 1\n",
    "            learning_rate=3e-4,\n",
    "            ent_coef=3e-4,\n",
    "            tensorboard_log=\"tb_logs\",\n",
    "            device='cuda'\n",
    "            )\n"
   ]
  },
  {
   "cell_type": "markdown",
   "id": "20f70cf1-e15e-4fed-ab75-12bdca996f2d",
   "metadata": {},
   "source": [
    "--- \n",
    "### Training"
   ]
  },
  {
   "cell_type": "code",
   "execution_count": null,
   "id": "978d7768-b7bb-4c14-b620-28a278392b6b",
   "metadata": {
    "scrolled": true,
    "tags": []
   },
   "outputs": [],
   "source": [
    "\n",
    "model.learn(10000000,callback=callback,tb_log_name='test_v2_with_text')\n",
    "#model.save('model_saved',)\n",
    "#env.save('env_saved.pkl')"
   ]
  },
  {
   "cell_type": "code",
   "execution_count": 36,
   "id": "07243e16-994f-4c2a-94e4-29704501773c",
   "metadata": {
    "scrolled": true,
    "tags": []
   },
   "outputs": [],
   "source": [
    "num_cpu = 32 # Number of processes to use\n",
    "train_env = sogym(mode='train',observation_type='dense',vol_constraint_type= 'soft')\n",
    "env= make_vec_env(lambda:train_env, n_envs=num_cpu,vec_env_cls=SubprocVecEnv)\n",
    "env = VecNormalize.load('env_saved.pkl',env)\n",
    "\n",
    "eval_env = sogym(mode='test',observation_type='dense',vol_constraint_type='soft')\n",
    "eval_env = make_vec_env(lambda:eval_env, n_envs=1,vec_env_cls=SubprocVecEnv)\n",
    "eval_env = VecNormalize.load('env_saved.pkl',eval_env)\n",
    "\n",
    "model.load('model_saved',env=env,device='cuda')\n",
    "model.learn(5000000,callback=callback,reset_num_timesteps=False,tb_log_name='test_again')"
   ]
  },
  {
   "cell_type": "code",
   "execution_count": 37,
   "id": "1ef04ac6-3eca-4ec9-9abc-ce6e7f217b7b",
   "metadata": {
    "scrolled": true,
    "tags": []
   },
   "outputs": [],
   "source": [
    "model.save('model_saved',)\n",
    "env.save('env_saved.pkl')"
   ]
  },
  {
   "cell_type": "markdown",
   "id": "2827c8cc-028d-4448-b109-d6542816df2a",
   "metadata": {},
   "source": [
    "---\n",
    "### Let's visualize the agent's performance:"
   ]
  },
  {
   "cell_type": "code",
   "execution_count": 43,
   "id": "6728408e-71c2-4f7b-a8f1-f0cc6b43dcff",
   "metadata": {},
   "outputs": [],
   "source": [
    "env=sogym(mode='train',observation_type='dense',vol_constraint_type='soft' )\n",
    "#env= make_vec_env(lambda:env, n_envs=1,vec_env_cls=SubprocVecEnv)\n",
    "env"
   ]
  },
  {
   "cell_type": "code",
   "execution_count": null,
   "id": "5cbb153d-80e3-4d6c-ada3-f4d323360b74",
   "metadata": {},
   "outputs": [],
   "source": [
    "obs=env.reset()\n",
    "dones=False\n",
    "\n",
    "while dones== False:\n",
    "    action, _states = model.predict(obs,deterministic=True)\n",
    "    print(action)\n",
    "    obs, rewards, dones, info = env.step(action)\n",
    "    \n",
    "env.plot()"
   ]
  },
  {
   "cell_type": "code",
   "execution_count": null,
   "id": "e0d2de1f-dd90-40b2-acc9-b3227fd2888b",
   "metadata": {},
   "outputs": [],
   "source": [
    "obs=env.reset()\n",
    "dones=False\n",
    "\n",
    "while dones== False:\n",
    "    action, _states = model.predict(obs,deterministic=True)\n",
    "    print(action)\n",
    "    obs, rewards, dones, info = env.step(action)\n",
    "  \n",
    "print(\"Reward:\",rewards[0])\n",
    "#print(\"Volume:\",np.round(env.get_attr('volume')[0]*100,2),\"%\")\n",
    "fig=env.env_method('plot')[0]\n",
    "fig = env.render()\n",
    "\n",
    "fig"
   ]
  }
 ],
 "metadata": {
  "kernelspec": {
   "display_name": "sb3",
   "language": "python",
   "name": "sb3"
  },
  "language_info": {
   "codemirror_mode": {
    "name": "ipython",
    "version": 3
   },
   "file_extension": ".py",
   "mimetype": "text/x-python",
   "name": "python",
   "nbconvert_exporter": "python",
   "pygments_lexer": "ipython3",
   "version": "3.9.13"
  },
  "vscode": {
   "interpreter": {
    "hash": "8de52954a71c7cb345bcbc3170b9777ef55db82dd4d591f11f465e13ff11a1ec"
   }
  }
 },
 "nbformat": 4,
 "nbformat_minor": 5
}
