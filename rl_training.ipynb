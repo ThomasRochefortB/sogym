{
 "cells": [
  {
   "cell_type": "code",
   "execution_count": 1,
   "id": "94e6157f-d831-41f7-b27c-f949e2253f3e",
   "metadata": {},
   "outputs": [
    {
     "name": "stdout",
     "output_type": "stream",
     "text": [
      "SB3 version: 2.2.1\n",
      "Using device: cpu\n"
     ]
    }
   ],
   "source": [
    "\n",
    "from sogym.env import sogym\n",
    "from sogym.utils import FigureRecorderCallback\n",
    "import numpy as np\n",
    "import stable_baselines3\n",
    "from stable_baselines3.common.env_checker import check_env\n",
    "from stable_baselines3.common.env_util import make_vec_env\n",
    "from stable_baselines3.common.vec_env import VecNormalize, SubprocVecEnv\n",
    "import torch\n",
    "from stable_baselines3 import PPO,SAC\n",
    "from sogym.mmc_optim import run_mmc\n",
    "import matplotlib.pyplot as plt\n",
    "%load_ext autoreload\n",
    "%autoreload 2\n",
    "\n",
    "print('SB3 version:', stable_baselines3.__version__)\n",
    "# Let's make the code device agnostic:\n",
    "device = 'cuda' if torch.cuda.is_available() else 'cpu'\n",
    "print('Using device:', device)"
   ]
  },
  {
   "cell_type": "markdown",
   "id": "d02b8cad-4629-49cf-a15e-ebb7c9a5b6c1",
   "metadata": {},
   "source": [
    "---\n",
    "### Environment test and visualization:"
   ]
  },
  {
   "cell_type": "code",
   "execution_count": 2,
   "id": "6edcde2a",
   "metadata": {},
   "outputs": [],
   "source": [
    "from stable_baselines3.common.env_checker import check_env\n",
    "# It will check your custom environment and output additional warnings if needed\n",
    "check_env(sogym(mode='train',observation_type='image'))"
   ]
  },
  {
   "cell_type": "code",
   "execution_count": 2,
   "id": "85a4374a-b735-4474-8427-30b1d55dfe22",
   "metadata": {},
   "outputs": [
    {
     "data": {
      "text/plain": [
       "<Figure size 640x480 with 0 Axes>"
      ]
     },
     "metadata": {},
     "output_type": "display_data"
    },
    {
     "data": {
      "text/plain": [
       "<Figure size 640x480 with 0 Axes>"
      ]
     },
     "metadata": {},
     "output_type": "display_data"
    }
   ],
   "source": [
    "# Let's test the environment using the check_env util from SB3:\n",
    "train_env = sogym(mode='train',observation_type='image',vol_constraint_type='soft',resolution=50,check_connectivity = False)\n",
    "eval_env = sogym(mode='test',observation_type='image',vol_constraint_type='soft',resolution=50)"
   ]
  },
  {
   "cell_type": "code",
   "execution_count": null,
   "id": "2e71bdbd-4d18-4f81-9e89-2e133b9b6d73",
   "metadata": {},
   "outputs": [],
   "source": [
    "# Let's visualize the training environment on a random problem statement and visualize a 'successful' solution:\n",
    "reward = 0.0\n",
    "while reward==0.0:\n",
    "    obs = train_env.reset()\n",
    "    done = False\n",
    "    while not done:\n",
    "        action = train_env.action_space.sample()\n",
    "        obs, reward, done,truncated, info = train_env.step(action)\n",
    "        \n",
    "print(\"Volume: \", train_env.volume)\n",
    "print(\"Reward \",reward)\n",
    "\n",
    "train_env.plot()"
   ]
  },
  {
   "cell_type": "code",
   "execution_count": 4,
   "id": "b0634399",
   "metadata": {},
   "outputs": [
    {
     "data": {
      "text/html": [
       "<div>\n",
       "<style scoped>\n",
       "    .dataframe tbody tr th:only-of-type {\n",
       "        vertical-align: middle;\n",
       "    }\n",
       "\n",
       "    .dataframe tbody tr th {\n",
       "        vertical-align: top;\n",
       "    }\n",
       "\n",
       "    .dataframe thead th {\n",
       "        text-align: right;\n",
       "    }\n",
       "</style>\n",
       "<table border=\"1\" class=\"dataframe\">\n",
       "  <thead>\n",
       "    <tr style=\"text-align: right;\">\n",
       "      <th></th>\n",
       "      <th>Full Function Path</th>\n",
       "      <th>ncalls</th>\n",
       "      <th>tottime</th>\n",
       "      <th>percall (tottime)</th>\n",
       "      <th>cumtime</th>\n",
       "      <th>percall (cumtime)</th>\n",
       "    </tr>\n",
       "  </thead>\n",
       "  <tbody>\n",
       "    <tr>\n",
       "      <th>1246</th>\n",
       "      <td>/Users/thomasrochefort/Documents/GitHub/sogym_...</td>\n",
       "      <td>1</td>\n",
       "      <td>0.002572</td>\n",
       "      <td>2.571502e-03</td>\n",
       "      <td>21.316687</td>\n",
       "      <td>2.131669e+01</td>\n",
       "    </tr>\n",
       "    <tr>\n",
       "      <th>907</th>\n",
       "      <td>/Users/thomasrochefort/Documents/GitHub/sogym_...</td>\n",
       "      <td>160</td>\n",
       "      <td>0.063662</td>\n",
       "      <td>3.978898e-04</td>\n",
       "      <td>20.441711</td>\n",
       "      <td>1.277607e-01</td>\n",
       "    </tr>\n",
       "    <tr>\n",
       "      <th>597</th>\n",
       "      <td>/Users/thomasrochefort/Documents/GitHub/sogym_...</td>\n",
       "      <td>160</td>\n",
       "      <td>0.116862</td>\n",
       "      <td>7.303875e-04</td>\n",
       "      <td>10.919963</td>\n",
       "      <td>6.824977e-02</td>\n",
       "    </tr>\n",
       "    <tr>\n",
       "      <th>291</th>\n",
       "      <td>/Users/thomasrochefort/opt/anaconda3/envs/sb3/...</td>\n",
       "      <td>160</td>\n",
       "      <td>0.002344</td>\n",
       "      <td>1.465094e-05</td>\n",
       "      <td>8.887895</td>\n",
       "      <td>5.554934e-02</td>\n",
       "    </tr>\n",
       "    <tr>\n",
       "      <th>303</th>\n",
       "      <td>/Users/thomasrochefort/opt/anaconda3/envs/sb3/...</td>\n",
       "      <td>160</td>\n",
       "      <td>0.001242</td>\n",
       "      <td>7.760438e-06</td>\n",
       "      <td>8.833243</td>\n",
       "      <td>5.520777e-02</td>\n",
       "    </tr>\n",
       "    <tr>\n",
       "      <th>...</th>\n",
       "      <td>...</td>\n",
       "      <td>...</td>\n",
       "      <td>...</td>\n",
       "      <td>...</td>\n",
       "      <td>...</td>\n",
       "      <td>...</td>\n",
       "    </tr>\n",
       "    <tr>\n",
       "      <th>9</th>\n",
       "      <td>~:0(&lt;method 'get' of 'dict' objects&gt;)</td>\n",
       "      <td>473860</td>\n",
       "      <td>0.036871</td>\n",
       "      <td>7.780978e-08</td>\n",
       "      <td>0.036871</td>\n",
       "      <td>7.780978e-08</td>\n",
       "    </tr>\n",
       "    <tr>\n",
       "      <th>1294</th>\n",
       "      <td>/Users/thomasrochefort/opt/anaconda3/envs/sb3/...</td>\n",
       "      <td>1600</td>\n",
       "      <td>0.000116</td>\n",
       "      <td>7.260313e-08</td>\n",
       "      <td>0.000116</td>\n",
       "      <td>7.260313e-08</td>\n",
       "    </tr>\n",
       "    <tr>\n",
       "      <th>34</th>\n",
       "      <td>~:0(&lt;built-in method builtins.callable&gt;)</td>\n",
       "      <td>160240</td>\n",
       "      <td>0.011434</td>\n",
       "      <td>7.135620e-08</td>\n",
       "      <td>0.011434</td>\n",
       "      <td>7.135620e-08</td>\n",
       "    </tr>\n",
       "    <tr>\n",
       "      <th>2</th>\n",
       "      <td>~:0(&lt;method 'append' of 'list' objects&gt;)</td>\n",
       "      <td>302084</td>\n",
       "      <td>0.020705</td>\n",
       "      <td>6.854035e-08</td>\n",
       "      <td>0.020705</td>\n",
       "      <td>6.854035e-08</td>\n",
       "    </tr>\n",
       "    <tr>\n",
       "      <th>41</th>\n",
       "      <td>~:0(&lt;built-in method builtins.id&gt;)</td>\n",
       "      <td>357572</td>\n",
       "      <td>0.023516</td>\n",
       "      <td>6.576639e-08</td>\n",
       "      <td>0.023516</td>\n",
       "      <td>6.576639e-08</td>\n",
       "    </tr>\n",
       "  </tbody>\n",
       "</table>\n",
       "<p>1328 rows × 6 columns</p>\n",
       "</div>"
      ],
      "text/plain": [
       "                                     Full Function Path  ncalls   tottime  \\\n",
       "1246  /Users/thomasrochefort/Documents/GitHub/sogym_...       1  0.002572   \n",
       "907   /Users/thomasrochefort/Documents/GitHub/sogym_...     160  0.063662   \n",
       "597   /Users/thomasrochefort/Documents/GitHub/sogym_...     160  0.116862   \n",
       "291   /Users/thomasrochefort/opt/anaconda3/envs/sb3/...     160  0.002344   \n",
       "303   /Users/thomasrochefort/opt/anaconda3/envs/sb3/...     160  0.001242   \n",
       "...                                                 ...     ...       ...   \n",
       "9                 ~:0(<method 'get' of 'dict' objects>)  473860  0.036871   \n",
       "1294  /Users/thomasrochefort/opt/anaconda3/envs/sb3/...    1600  0.000116   \n",
       "34             ~:0(<built-in method builtins.callable>)  160240  0.011434   \n",
       "2              ~:0(<method 'append' of 'list' objects>)  302084  0.020705   \n",
       "41                   ~:0(<built-in method builtins.id>)  357572  0.023516   \n",
       "\n",
       "      percall (tottime)    cumtime  percall (cumtime)  \n",
       "1246       2.571502e-03  21.316687       2.131669e+01  \n",
       "907        3.978898e-04  20.441711       1.277607e-01  \n",
       "597        7.303875e-04  10.919963       6.824977e-02  \n",
       "291        1.465094e-05   8.887895       5.554934e-02  \n",
       "303        7.760438e-06   8.833243       5.520777e-02  \n",
       "...                 ...        ...                ...  \n",
       "9          7.780978e-08   0.036871       7.780978e-08  \n",
       "1294       7.260313e-08   0.000116       7.260313e-08  \n",
       "34         7.135620e-08   0.011434       7.135620e-08  \n",
       "2          6.854035e-08   0.020705       6.854035e-08  \n",
       "41         6.576639e-08   0.023516       6.576639e-08  \n",
       "\n",
       "[1328 rows x 6 columns]"
      ]
     },
     "execution_count": 4,
     "metadata": {},
     "output_type": "execute_result"
    }
   ],
   "source": [
    "from sogym.utils import profile_and_analyze\n",
    "# Example usage\n",
    "\n",
    "# Specify the number of episodes to run\n",
    "num_episodes = 20\n",
    "\n",
    "# Call the profile_and_analyze function\n",
    "result_df = profile_and_analyze(num_episodes, train_env)\n",
    "\n",
    "# Print the resulting DataFrame\n",
    "result_df"
   ]
  },
  {
   "cell_type": "markdown",
   "id": "7820005a-be57-4236-b66b-0b34ed558aff",
   "metadata": {},
   "source": [
    "---\n",
    "### Multiprocessing"
   ]
  },
  {
   "cell_type": "code",
   "execution_count": 4,
   "id": "d3e210c1-817a-42a8-ab28-2ea437ed2c4e",
   "metadata": {},
   "outputs": [
    {
     "data": {
      "text/plain": [
       "<Figure size 1000x1000 with 0 Axes>"
      ]
     },
     "metadata": {},
     "output_type": "display_data"
    },
    {
     "data": {
      "text/plain": [
       "<Figure size 1000x1000 with 0 Axes>"
      ]
     },
     "metadata": {},
     "output_type": "display_data"
    }
   ],
   "source": [
    "#from transformers import AutoTokenizer, AutoModel\n",
    "from stable_baselines3.common.vec_env import DummyVecEnv, VecCheckNan\n",
    "import multiprocessing\n",
    "\n",
    "#tokenizer = AutoTokenizer.from_pretrained(\"huggingface/CodeBERTa-small-v1\")\n",
    "#model = AutoModel.from_pretrained(\"huggingface/CodeBERTa-small-v1\").to('cuda')\n",
    "\n",
    "# Set number of cpus to use automatically:\n",
    "num_cpu = multiprocessing.cpu_count()\n",
    "train_env = sogym(mode='train',observation_type='image',vol_constraint_type = 'hard',resolution=50)#,model=model,tokenizer=tokenizer)\n",
    "env= make_vec_env(lambda:train_env, n_envs=num_cpu,vec_env_cls=SubprocVecEnv)\n",
    "env = VecCheckNan(env, raise_exception=True)\n",
    "#env=VecNormalize(env,gamma=1.0)\n",
    "\n",
    "eval_env = sogym(mode='test',observation_type='image',vol_constraint_type='hard',resolution=50)#,model=model,tokenizer=tokenizer)\n",
    "eval_env = make_vec_env(lambda:eval_env, n_envs=1,vec_env_cls=SubprocVecEnv)\n",
    "#eval_env =VecNormalize(eval_env,gamma=1.0)\n"
   ]
  },
  {
   "cell_type": "code",
   "execution_count": 5,
   "id": "e06b39e1",
   "metadata": {},
   "outputs": [],
   "source": [
    "# Let's  test that an eval callback actually works:\n",
    "from stable_baselines3.common.callbacks import EvalCallback, CallbackList\n",
    "\n",
    "eval_callback = EvalCallback(eval_env,log_path='tb_logs',eval_freq=100,deterministic=True,render=False,verbose=0)\n",
    "callback = CallbackList([eval_callback,\n",
    "                         FigureRecorderCallback(check_freq=2*4*32)])"
   ]
  },
  {
   "cell_type": "markdown",
   "id": "826b6f2e-5ceb-447f-ac10-a52f0379cb31",
   "metadata": {},
   "source": [
    "--- \n",
    "### Defining the model"
   ]
  },
  {
   "cell_type": "code",
   "execution_count": null,
   "id": "f8fbc7f1",
   "metadata": {},
   "outputs": [],
   "source": [
    "from sogym.expert_generation import generate_dataset, generate_all, load_all_trajectories\n",
    "#generate_dataset(num_threads =16, num_samples=5000,dataset_folder = \"dataset/topologies/mmc\")\n",
    "trajectories = load_all_trajectories(n_workers=32)"
   ]
  },
  {
   "cell_type": "code",
   "execution_count": null,
   "id": "8500aece",
   "metadata": {},
   "outputs": [],
   "source": [
    "policy_kwargs = dict(\n",
    "    net_arch=[2048,2048,2048,2048,2048],\n",
    ")"
   ]
  },
  {
   "cell_type": "code",
   "execution_count": 6,
   "id": "8a1132db-34f4-4a72-bb12-1339a9e00a53",
   "metadata": {},
   "outputs": [
    {
     "name": "stderr",
     "output_type": "stream",
     "text": [
      "/Users/thomasrochefort/opt/anaconda3/envs/sb3/lib/python3.8/site-packages/stable_baselines3/common/buffers.py:605: UserWarning: This system does not have apparently enough memory to store the complete replay buffer 49.80GB > 1.32GB\n",
      "  warnings.warn(\n",
      "[W NNPACK.cpp:64] Could not initialize NNPACK! Reason: Unsupported hardware.\n"
     ]
    }
   ],
   "source": [
    "from stable_baselines3.common.noise import NormalActionNoise, OrnsteinUhlenbeckActionNoise\n",
    "# The noise objects for TD3\n",
    "n_actions = env.action_space.shape[-1]\n",
    "action_noise = NormalActionNoise(mean=np.zeros(n_actions), sigma=0.5 * np.ones(n_actions))\n",
    "\n",
    "model = SAC(\"MultiInputPolicy\",\n",
    "             env,\n",
    "             verbose=0,\n",
    "             #policy_kwargs = policy_kwargs,\n",
    "             #action_noise= action_noise,\n",
    "             tensorboard_log=\"tb_logs\",\n",
    "             #learning_starts=4096,\n",
    "             #batch_size=4096,\n",
    "             #train_freq = (8, \"step\"),\n",
    "             #gradient_steps= 1,\n",
    "             device = 'cuda',\n",
    "               )"
   ]
  },
  {
   "cell_type": "code",
   "execution_count": null,
   "id": "5e480a7e",
   "metadata": {},
   "outputs": [],
   "source": [
    "from imitation.algorithms import bc\n",
    "from imitation.algorithms.adversarial.airl import AIRL\n",
    "from imitation.rewards.reward_nets import BasicShapedRewardNet\n",
    "from stable_baselines3 import PPO, SAC\n",
    "from stable_baselines3.common.evaluation import evaluate_policy\n",
    "from stable_baselines3.common.env_util import make_vec_env\n",
    "from stable_baselines3.common.vec_env import VecNormalize, SubprocVecEnv\n",
    "from imitation.util import logger as imit_logger\n",
    "import numpy as np\n",
    "\n",
    "custom_logger = imit_logger.configure(\n",
    "        folder=\"imit_tensorboard\",\n",
    "        format_strs=[\"tensorboard\", \"stdout\"],\n",
    "    )\n",
    "\n"
   ]
  },
  {
   "cell_type": "code",
   "execution_count": null,
   "id": "276eb7e8",
   "metadata": {},
   "outputs": [],
   "source": [
    "from imitation.algorithms.adversarial.gail import GAIL\n",
    "from imitation.rewards.reward_nets import BasicRewardNet\n",
    "\n",
    "#learner=learner.load('checkpoints/SEP_28_BC',env=venv)\n",
    "\n",
    "reward_net = BasicRewardNet(\n",
    "    env.observation_space, \n",
    "    env.action_space,\n",
    "    #use_next_state=True,\n",
    "    #use_done=True,\n",
    "    #hid_sizes=(128,128),\n",
    "    #potential_hid_sizes=(32, 32),\n",
    "    #discount_factor=1.0,\n",
    "    dropout_prob=0.9\n",
    ")\n",
    "reward_net = BasicShapedRewardNet(\n",
    "    observation_space=env.observation_space,\n",
    "    action_space=env.action_space,\n",
    ")\n",
    "\n",
    "\n",
    "gail_trainer = GAIL(\n",
    "    demonstrations=trajectories,\n",
    "    demo_batch_size=4096,\n",
    "    n_disc_updates_per_round=1,\n",
    "    venv=env,\n",
    "    log_dir=\"imit_tensorboard\",\n",
    "    custom_logger= custom_logger,\n",
    "    gen_algo=model,\n",
    "    reward_net=reward_net,\n",
    "   # disc_opt_kwargs={\"weight_decay\": 3e-4,\n",
    "    #                } \n",
    ")\n",
    "\n"
   ]
  },
  {
   "cell_type": "code",
   "execution_count": null,
   "id": "7632b2b2",
   "metadata": {},
   "outputs": [],
   "source": [
    "gail_trainer.train(40000000)  # Note: set to 300000 for better results"
   ]
  },
  {
   "cell_type": "code",
   "execution_count": null,
   "id": "24137c91",
   "metadata": {},
   "outputs": [],
   "source": [
    "#env=sogym(mode='train',observation_type='box_dense',vol_constraint_type='soft')\n",
    "#learner = learner.load('test_april23',env)\n",
    "obs=train_env.reset()\n",
    "dones=False\n",
    "\n",
    "while dones== False:\n",
    "    action, _states = model.policy.predict(obs,deterministic=True)\n",
    "    print(action)\n",
    "    obs, rewards, dones, info = train_env.step(action)\n",
    "    #print(env.env_method('check_cTypeError: No loop matching the specified signature and casting was found for ufunc greateronnec'))\n",
    "print(\"Reward:\",rewards)\n",
    "print('Connected:', train_env.check_connec())\n",
    "#print('Desired volume:',env.out_conditions[6])\n",
    "print('Actual volume:',train_env.volume)\n",
    "fig=train_env.plot()\n",
    "fig"
   ]
  },
  {
   "cell_type": "markdown",
   "id": "20f70cf1-e15e-4fed-ab75-12bdca996f2d",
   "metadata": {},
   "source": [
    "--- \n",
    "### Training"
   ]
  },
  {
   "cell_type": "markdown",
   "id": "74a84e3f",
   "metadata": {},
   "source": [
    "Save the model:\n",
    "\n",
    "If model is on-policy:\n",
    "#model.save(\"sac_pendulum\")\n",
    "#loaded_model = SAC.load(\"sac_pendulum\")\n",
    "\n",
    "if model is off-policy, we also need to save the replay buffer:\n",
    "#model.save_replay_buffer(\"sac_replay_buffer\")\n",
    "#loaded_model.load_replay_buffer(\"sac_replay_buffer\")\n",
    "\n",
    "If the environment is normalized:\n",
    "#env.save('env_saved.pkl')\n",
    "#env = VecNormalize.load('env_saved.pkl',env)\n"
   ]
  },
  {
   "cell_type": "code",
   "execution_count": 7,
   "id": "978d7768-b7bb-4c14-b620-28a278392b6b",
   "metadata": {
    "scrolled": true,
    "tags": []
   },
   "outputs": [
    {
     "name": "stderr",
     "output_type": "stream",
     "text": [
      "/Users/thomasrochefort/opt/anaconda3/envs/sb3/lib/python3.8/site-packages/stable_baselines3/common/callbacks.py:414: UserWarning: Training and eval env are not of the same type<stable_baselines3.common.vec_env.vec_check_nan.VecCheckNan object at 0x7fe17436dee0> != <stable_baselines3.common.vec_env.subproc_vec_env.SubprocVecEnv object at 0x7fe190a12dc0>\n",
      "  warnings.warn(\"Training and eval env are not of the same type\" f\"{self.training_env} != {self.eval_env}\")\n"
     ]
    },
    {
     "ename": "KeyboardInterrupt",
     "evalue": "",
     "output_type": "error",
     "traceback": [
      "\u001b[0;31m---------------------------------------------------------------------------\u001b[0m",
      "\u001b[0;31mKeyboardInterrupt\u001b[0m                         Traceback (most recent call last)",
      "Cell \u001b[0;32mIn[7], line 5\u001b[0m\n\u001b[1;32m      1\u001b[0m \u001b[38;5;66;03m#model = SAC.load(\"model_saved_march15\",env =env) #Saved model is with soft volume constraint and 75 r\u001b[39;00m\n\u001b[1;32m      2\u001b[0m \u001b[38;5;66;03m#model.set_parameters(\"model_saved_march15\")\u001b[39;00m\n\u001b[1;32m      3\u001b[0m \u001b[38;5;66;03m#print(model.batch_size)\u001b[39;00m\n\u001b[1;32m      4\u001b[0m \u001b[38;5;66;03m#model.load_replay_buffer(\"sac_replay_buffer\")\u001b[39;00m\n\u001b[0;32m----> 5\u001b[0m \u001b[43mmodel\u001b[49m\u001b[38;5;241;43m.\u001b[39;49m\u001b[43mlearn\u001b[49m\u001b[43m(\u001b[49m\u001b[38;5;241;43m20000000\u001b[39;49m\u001b[43m,\u001b[49m\u001b[43mcallback\u001b[49m\u001b[38;5;241;43m=\u001b[39;49m\u001b[43mcallback\u001b[49m\u001b[43m,\u001b[49m\u001b[43mtb_log_name\u001b[49m\u001b[38;5;241;43m=\u001b[39;49m\u001b[38;5;124;43m'\u001b[39;49m\u001b[38;5;124;43mtest_march20\u001b[39;49m\u001b[38;5;124;43m'\u001b[39;49m\u001b[43m)\u001b[49m\n\u001b[1;32m      6\u001b[0m \u001b[38;5;66;03m#model.save('model_saved_march15',)\u001b[39;00m\n\u001b[1;32m      7\u001b[0m \u001b[38;5;66;03m#model.save_replay_buffer(\"sac_replay_buffer_march15\")\u001b[39;00m\n\u001b[1;32m      8\u001b[0m \n\u001b[1;32m      9\u001b[0m \u001b[38;5;66;03m#env.save('env_saved.pkl')\u001b[39;00m\n",
      "File \u001b[0;32m~/opt/anaconda3/envs/sb3/lib/python3.8/site-packages/stable_baselines3/sac/sac.py:307\u001b[0m, in \u001b[0;36mSAC.learn\u001b[0;34m(self, total_timesteps, callback, log_interval, tb_log_name, reset_num_timesteps, progress_bar)\u001b[0m\n\u001b[1;32m    298\u001b[0m \u001b[38;5;28;01mdef\u001b[39;00m \u001b[38;5;21mlearn\u001b[39m(\n\u001b[1;32m    299\u001b[0m     \u001b[38;5;28mself\u001b[39m: SelfSAC,\n\u001b[1;32m    300\u001b[0m     total_timesteps: \u001b[38;5;28mint\u001b[39m,\n\u001b[0;32m   (...)\u001b[0m\n\u001b[1;32m    305\u001b[0m     progress_bar: \u001b[38;5;28mbool\u001b[39m \u001b[38;5;241m=\u001b[39m \u001b[38;5;28;01mFalse\u001b[39;00m,\n\u001b[1;32m    306\u001b[0m ) \u001b[38;5;241m-\u001b[39m\u001b[38;5;241m>\u001b[39m SelfSAC:\n\u001b[0;32m--> 307\u001b[0m     \u001b[38;5;28;01mreturn\u001b[39;00m \u001b[38;5;28;43msuper\u001b[39;49m\u001b[43m(\u001b[49m\u001b[43m)\u001b[49m\u001b[38;5;241;43m.\u001b[39;49m\u001b[43mlearn\u001b[49m\u001b[43m(\u001b[49m\n\u001b[1;32m    308\u001b[0m \u001b[43m        \u001b[49m\u001b[43mtotal_timesteps\u001b[49m\u001b[38;5;241;43m=\u001b[39;49m\u001b[43mtotal_timesteps\u001b[49m\u001b[43m,\u001b[49m\n\u001b[1;32m    309\u001b[0m \u001b[43m        \u001b[49m\u001b[43mcallback\u001b[49m\u001b[38;5;241;43m=\u001b[39;49m\u001b[43mcallback\u001b[49m\u001b[43m,\u001b[49m\n\u001b[1;32m    310\u001b[0m \u001b[43m        \u001b[49m\u001b[43mlog_interval\u001b[49m\u001b[38;5;241;43m=\u001b[39;49m\u001b[43mlog_interval\u001b[49m\u001b[43m,\u001b[49m\n\u001b[1;32m    311\u001b[0m \u001b[43m        \u001b[49m\u001b[43mtb_log_name\u001b[49m\u001b[38;5;241;43m=\u001b[39;49m\u001b[43mtb_log_name\u001b[49m\u001b[43m,\u001b[49m\n\u001b[1;32m    312\u001b[0m \u001b[43m        \u001b[49m\u001b[43mreset_num_timesteps\u001b[49m\u001b[38;5;241;43m=\u001b[39;49m\u001b[43mreset_num_timesteps\u001b[49m\u001b[43m,\u001b[49m\n\u001b[1;32m    313\u001b[0m \u001b[43m        \u001b[49m\u001b[43mprogress_bar\u001b[49m\u001b[38;5;241;43m=\u001b[39;49m\u001b[43mprogress_bar\u001b[49m\u001b[43m,\u001b[49m\n\u001b[1;32m    314\u001b[0m \u001b[43m    \u001b[49m\u001b[43m)\u001b[49m\n",
      "File \u001b[0;32m~/opt/anaconda3/envs/sb3/lib/python3.8/site-packages/stable_baselines3/common/off_policy_algorithm.py:328\u001b[0m, in \u001b[0;36mOffPolicyAlgorithm.learn\u001b[0;34m(self, total_timesteps, callback, log_interval, tb_log_name, reset_num_timesteps, progress_bar)\u001b[0m\n\u001b[1;32m    325\u001b[0m \u001b[38;5;28;01massert\u001b[39;00m \u001b[38;5;28misinstance\u001b[39m(\u001b[38;5;28mself\u001b[39m\u001b[38;5;241m.\u001b[39mtrain_freq, TrainFreq)  \u001b[38;5;66;03m# check done in _setup_learn()\u001b[39;00m\n\u001b[1;32m    327\u001b[0m \u001b[38;5;28;01mwhile\u001b[39;00m \u001b[38;5;28mself\u001b[39m\u001b[38;5;241m.\u001b[39mnum_timesteps \u001b[38;5;241m<\u001b[39m total_timesteps:\n\u001b[0;32m--> 328\u001b[0m     rollout \u001b[38;5;241m=\u001b[39m \u001b[38;5;28;43mself\u001b[39;49m\u001b[38;5;241;43m.\u001b[39;49m\u001b[43mcollect_rollouts\u001b[49m\u001b[43m(\u001b[49m\n\u001b[1;32m    329\u001b[0m \u001b[43m        \u001b[49m\u001b[38;5;28;43mself\u001b[39;49m\u001b[38;5;241;43m.\u001b[39;49m\u001b[43menv\u001b[49m\u001b[43m,\u001b[49m\n\u001b[1;32m    330\u001b[0m \u001b[43m        \u001b[49m\u001b[43mtrain_freq\u001b[49m\u001b[38;5;241;43m=\u001b[39;49m\u001b[38;5;28;43mself\u001b[39;49m\u001b[38;5;241;43m.\u001b[39;49m\u001b[43mtrain_freq\u001b[49m\u001b[43m,\u001b[49m\n\u001b[1;32m    331\u001b[0m \u001b[43m        \u001b[49m\u001b[43maction_noise\u001b[49m\u001b[38;5;241;43m=\u001b[39;49m\u001b[38;5;28;43mself\u001b[39;49m\u001b[38;5;241;43m.\u001b[39;49m\u001b[43maction_noise\u001b[49m\u001b[43m,\u001b[49m\n\u001b[1;32m    332\u001b[0m \u001b[43m        \u001b[49m\u001b[43mcallback\u001b[49m\u001b[38;5;241;43m=\u001b[39;49m\u001b[43mcallback\u001b[49m\u001b[43m,\u001b[49m\n\u001b[1;32m    333\u001b[0m \u001b[43m        \u001b[49m\u001b[43mlearning_starts\u001b[49m\u001b[38;5;241;43m=\u001b[39;49m\u001b[38;5;28;43mself\u001b[39;49m\u001b[38;5;241;43m.\u001b[39;49m\u001b[43mlearning_starts\u001b[49m\u001b[43m,\u001b[49m\n\u001b[1;32m    334\u001b[0m \u001b[43m        \u001b[49m\u001b[43mreplay_buffer\u001b[49m\u001b[38;5;241;43m=\u001b[39;49m\u001b[38;5;28;43mself\u001b[39;49m\u001b[38;5;241;43m.\u001b[39;49m\u001b[43mreplay_buffer\u001b[49m\u001b[43m,\u001b[49m\n\u001b[1;32m    335\u001b[0m \u001b[43m        \u001b[49m\u001b[43mlog_interval\u001b[49m\u001b[38;5;241;43m=\u001b[39;49m\u001b[43mlog_interval\u001b[49m\u001b[43m,\u001b[49m\n\u001b[1;32m    336\u001b[0m \u001b[43m    \u001b[49m\u001b[43m)\u001b[49m\n\u001b[1;32m    338\u001b[0m     \u001b[38;5;28;01mif\u001b[39;00m \u001b[38;5;129;01mnot\u001b[39;00m rollout\u001b[38;5;241m.\u001b[39mcontinue_training:\n\u001b[1;32m    339\u001b[0m         \u001b[38;5;28;01mbreak\u001b[39;00m\n",
      "File \u001b[0;32m~/opt/anaconda3/envs/sb3/lib/python3.8/site-packages/stable_baselines3/common/off_policy_algorithm.py:560\u001b[0m, in \u001b[0;36mOffPolicyAlgorithm.collect_rollouts\u001b[0;34m(self, env, callback, train_freq, replay_buffer, action_noise, learning_starts, log_interval)\u001b[0m\n\u001b[1;32m    557\u001b[0m actions, buffer_actions \u001b[38;5;241m=\u001b[39m \u001b[38;5;28mself\u001b[39m\u001b[38;5;241m.\u001b[39m_sample_action(learning_starts, action_noise, env\u001b[38;5;241m.\u001b[39mnum_envs)\n\u001b[1;32m    559\u001b[0m \u001b[38;5;66;03m# Rescale and perform action\u001b[39;00m\n\u001b[0;32m--> 560\u001b[0m new_obs, rewards, dones, infos \u001b[38;5;241m=\u001b[39m \u001b[43menv\u001b[49m\u001b[38;5;241;43m.\u001b[39;49m\u001b[43mstep\u001b[49m\u001b[43m(\u001b[49m\u001b[43mactions\u001b[49m\u001b[43m)\u001b[49m\n\u001b[1;32m    562\u001b[0m \u001b[38;5;28mself\u001b[39m\u001b[38;5;241m.\u001b[39mnum_timesteps \u001b[38;5;241m+\u001b[39m\u001b[38;5;241m=\u001b[39m env\u001b[38;5;241m.\u001b[39mnum_envs\n\u001b[1;32m    563\u001b[0m num_collected_steps \u001b[38;5;241m+\u001b[39m\u001b[38;5;241m=\u001b[39m \u001b[38;5;241m1\u001b[39m\n",
      "File \u001b[0;32m~/opt/anaconda3/envs/sb3/lib/python3.8/site-packages/stable_baselines3/common/vec_env/base_vec_env.py:206\u001b[0m, in \u001b[0;36mVecEnv.step\u001b[0;34m(self, actions)\u001b[0m\n\u001b[1;32m    199\u001b[0m \u001b[38;5;250m\u001b[39m\u001b[38;5;124;03m\"\"\"\u001b[39;00m\n\u001b[1;32m    200\u001b[0m \u001b[38;5;124;03mStep the environments with the given action\u001b[39;00m\n\u001b[1;32m    201\u001b[0m \n\u001b[1;32m    202\u001b[0m \u001b[38;5;124;03m:param actions: the action\u001b[39;00m\n\u001b[1;32m    203\u001b[0m \u001b[38;5;124;03m:return: observation, reward, done, information\u001b[39;00m\n\u001b[1;32m    204\u001b[0m \u001b[38;5;124;03m\"\"\"\u001b[39;00m\n\u001b[1;32m    205\u001b[0m \u001b[38;5;28mself\u001b[39m\u001b[38;5;241m.\u001b[39mstep_async(actions)\n\u001b[0;32m--> 206\u001b[0m \u001b[38;5;28;01mreturn\u001b[39;00m \u001b[38;5;28;43mself\u001b[39;49m\u001b[38;5;241;43m.\u001b[39;49m\u001b[43mstep_wait\u001b[49m\u001b[43m(\u001b[49m\u001b[43m)\u001b[49m\n",
      "File \u001b[0;32m~/opt/anaconda3/envs/sb3/lib/python3.8/site-packages/stable_baselines3/common/vec_env/vec_check_nan.py:40\u001b[0m, in \u001b[0;36mVecCheckNan.step_wait\u001b[0;34m(self)\u001b[0m\n\u001b[1;32m     39\u001b[0m \u001b[38;5;28;01mdef\u001b[39;00m \u001b[38;5;21mstep_wait\u001b[39m(\u001b[38;5;28mself\u001b[39m) \u001b[38;5;241m-\u001b[39m\u001b[38;5;241m>\u001b[39m VecEnvStepReturn:\n\u001b[0;32m---> 40\u001b[0m     observations, rewards, dones, infos \u001b[38;5;241m=\u001b[39m \u001b[38;5;28;43mself\u001b[39;49m\u001b[38;5;241;43m.\u001b[39;49m\u001b[43mvenv\u001b[49m\u001b[38;5;241;43m.\u001b[39;49m\u001b[43mstep_wait\u001b[49m\u001b[43m(\u001b[49m\u001b[43m)\u001b[49m\n\u001b[1;32m     41\u001b[0m     \u001b[38;5;28mself\u001b[39m\u001b[38;5;241m.\u001b[39m_check_val(event\u001b[38;5;241m=\u001b[39m\u001b[38;5;124m\"\u001b[39m\u001b[38;5;124mstep_wait\u001b[39m\u001b[38;5;124m\"\u001b[39m, observations\u001b[38;5;241m=\u001b[39mobservations, rewards\u001b[38;5;241m=\u001b[39mrewards, dones\u001b[38;5;241m=\u001b[39mdones)\n\u001b[1;32m     42\u001b[0m     \u001b[38;5;28mself\u001b[39m\u001b[38;5;241m.\u001b[39m_observations \u001b[38;5;241m=\u001b[39m observations\n",
      "File \u001b[0;32m~/opt/anaconda3/envs/sb3/lib/python3.8/site-packages/stable_baselines3/common/vec_env/subproc_vec_env.py:129\u001b[0m, in \u001b[0;36mSubprocVecEnv.step_wait\u001b[0;34m(self)\u001b[0m\n\u001b[1;32m    128\u001b[0m \u001b[38;5;28;01mdef\u001b[39;00m \u001b[38;5;21mstep_wait\u001b[39m(\u001b[38;5;28mself\u001b[39m) \u001b[38;5;241m-\u001b[39m\u001b[38;5;241m>\u001b[39m VecEnvStepReturn:\n\u001b[0;32m--> 129\u001b[0m     results \u001b[38;5;241m=\u001b[39m [remote\u001b[38;5;241m.\u001b[39mrecv() \u001b[38;5;28;01mfor\u001b[39;00m remote \u001b[38;5;129;01min\u001b[39;00m \u001b[38;5;28mself\u001b[39m\u001b[38;5;241m.\u001b[39mremotes]\n\u001b[1;32m    130\u001b[0m     \u001b[38;5;28mself\u001b[39m\u001b[38;5;241m.\u001b[39mwaiting \u001b[38;5;241m=\u001b[39m \u001b[38;5;28;01mFalse\u001b[39;00m\n\u001b[1;32m    131\u001b[0m     obs, rews, dones, infos, \u001b[38;5;28mself\u001b[39m\u001b[38;5;241m.\u001b[39mreset_infos \u001b[38;5;241m=\u001b[39m \u001b[38;5;28mzip\u001b[39m(\u001b[38;5;241m*\u001b[39mresults)  \u001b[38;5;66;03m# type: ignore[assignment]\u001b[39;00m\n",
      "File \u001b[0;32m~/opt/anaconda3/envs/sb3/lib/python3.8/site-packages/stable_baselines3/common/vec_env/subproc_vec_env.py:129\u001b[0m, in \u001b[0;36m<listcomp>\u001b[0;34m(.0)\u001b[0m\n\u001b[1;32m    128\u001b[0m \u001b[38;5;28;01mdef\u001b[39;00m \u001b[38;5;21mstep_wait\u001b[39m(\u001b[38;5;28mself\u001b[39m) \u001b[38;5;241m-\u001b[39m\u001b[38;5;241m>\u001b[39m VecEnvStepReturn:\n\u001b[0;32m--> 129\u001b[0m     results \u001b[38;5;241m=\u001b[39m [\u001b[43mremote\u001b[49m\u001b[38;5;241;43m.\u001b[39;49m\u001b[43mrecv\u001b[49m\u001b[43m(\u001b[49m\u001b[43m)\u001b[49m \u001b[38;5;28;01mfor\u001b[39;00m remote \u001b[38;5;129;01min\u001b[39;00m \u001b[38;5;28mself\u001b[39m\u001b[38;5;241m.\u001b[39mremotes]\n\u001b[1;32m    130\u001b[0m     \u001b[38;5;28mself\u001b[39m\u001b[38;5;241m.\u001b[39mwaiting \u001b[38;5;241m=\u001b[39m \u001b[38;5;28;01mFalse\u001b[39;00m\n\u001b[1;32m    131\u001b[0m     obs, rews, dones, infos, \u001b[38;5;28mself\u001b[39m\u001b[38;5;241m.\u001b[39mreset_infos \u001b[38;5;241m=\u001b[39m \u001b[38;5;28mzip\u001b[39m(\u001b[38;5;241m*\u001b[39mresults)  \u001b[38;5;66;03m# type: ignore[assignment]\u001b[39;00m\n",
      "File \u001b[0;32m~/opt/anaconda3/envs/sb3/lib/python3.8/multiprocessing/connection.py:250\u001b[0m, in \u001b[0;36m_ConnectionBase.recv\u001b[0;34m(self)\u001b[0m\n\u001b[1;32m    248\u001b[0m \u001b[38;5;28mself\u001b[39m\u001b[38;5;241m.\u001b[39m_check_closed()\n\u001b[1;32m    249\u001b[0m \u001b[38;5;28mself\u001b[39m\u001b[38;5;241m.\u001b[39m_check_readable()\n\u001b[0;32m--> 250\u001b[0m buf \u001b[38;5;241m=\u001b[39m \u001b[38;5;28;43mself\u001b[39;49m\u001b[38;5;241;43m.\u001b[39;49m\u001b[43m_recv_bytes\u001b[49m\u001b[43m(\u001b[49m\u001b[43m)\u001b[49m\n\u001b[1;32m    251\u001b[0m \u001b[38;5;28;01mreturn\u001b[39;00m _ForkingPickler\u001b[38;5;241m.\u001b[39mloads(buf\u001b[38;5;241m.\u001b[39mgetbuffer())\n",
      "File \u001b[0;32m~/opt/anaconda3/envs/sb3/lib/python3.8/multiprocessing/connection.py:414\u001b[0m, in \u001b[0;36mConnection._recv_bytes\u001b[0;34m(self, maxsize)\u001b[0m\n\u001b[1;32m    413\u001b[0m \u001b[38;5;28;01mdef\u001b[39;00m \u001b[38;5;21m_recv_bytes\u001b[39m(\u001b[38;5;28mself\u001b[39m, maxsize\u001b[38;5;241m=\u001b[39m\u001b[38;5;28;01mNone\u001b[39;00m):\n\u001b[0;32m--> 414\u001b[0m     buf \u001b[38;5;241m=\u001b[39m \u001b[38;5;28;43mself\u001b[39;49m\u001b[38;5;241;43m.\u001b[39;49m\u001b[43m_recv\u001b[49m\u001b[43m(\u001b[49m\u001b[38;5;241;43m4\u001b[39;49m\u001b[43m)\u001b[49m\n\u001b[1;32m    415\u001b[0m     size, \u001b[38;5;241m=\u001b[39m struct\u001b[38;5;241m.\u001b[39munpack(\u001b[38;5;124m\"\u001b[39m\u001b[38;5;124m!i\u001b[39m\u001b[38;5;124m\"\u001b[39m, buf\u001b[38;5;241m.\u001b[39mgetvalue())\n\u001b[1;32m    416\u001b[0m     \u001b[38;5;28;01mif\u001b[39;00m size \u001b[38;5;241m==\u001b[39m \u001b[38;5;241m-\u001b[39m\u001b[38;5;241m1\u001b[39m:\n",
      "File \u001b[0;32m~/opt/anaconda3/envs/sb3/lib/python3.8/multiprocessing/connection.py:379\u001b[0m, in \u001b[0;36mConnection._recv\u001b[0;34m(self, size, read)\u001b[0m\n\u001b[1;32m    377\u001b[0m remaining \u001b[38;5;241m=\u001b[39m size\n\u001b[1;32m    378\u001b[0m \u001b[38;5;28;01mwhile\u001b[39;00m remaining \u001b[38;5;241m>\u001b[39m \u001b[38;5;241m0\u001b[39m:\n\u001b[0;32m--> 379\u001b[0m     chunk \u001b[38;5;241m=\u001b[39m \u001b[43mread\u001b[49m\u001b[43m(\u001b[49m\u001b[43mhandle\u001b[49m\u001b[43m,\u001b[49m\u001b[43m \u001b[49m\u001b[43mremaining\u001b[49m\u001b[43m)\u001b[49m\n\u001b[1;32m    380\u001b[0m     n \u001b[38;5;241m=\u001b[39m \u001b[38;5;28mlen\u001b[39m(chunk)\n\u001b[1;32m    381\u001b[0m     \u001b[38;5;28;01mif\u001b[39;00m n \u001b[38;5;241m==\u001b[39m \u001b[38;5;241m0\u001b[39m:\n",
      "\u001b[0;31mKeyboardInterrupt\u001b[0m: "
     ]
    }
   ],
   "source": [
    "#model = SAC.load(\"model_saved_march15\",env =env) #Saved model is with soft volume constraint and 75 r\n",
    "#model.set_parameters(\"model_saved_march15\")\n",
    "#print(model.batch_size)\n",
    "#model.load_replay_buffer(\"sac_replay_buffer\")\n",
    "model.learn(20000000,callback=callback,tb_log_name='test_march20')\n",
    "#model.save('model_saved_march15',)\n",
    "#model.save_replay_buffer(\"sac_replay_buffer_march15\")\n",
    "\n",
    "#env.save('env_saved.pkl')"
   ]
  },
  {
   "cell_type": "markdown",
   "id": "2827c8cc-028d-4448-b109-d6542816df2a",
   "metadata": {},
   "source": [
    "---\n",
    "### Let's visualize the agent's performance:"
   ]
  },
  {
   "cell_type": "code",
   "execution_count": null,
   "id": "6728408e-71c2-4f7b-a8f1-f0cc6b43dcff",
   "metadata": {},
   "outputs": [],
   "source": [
    "env=sogym(mode='train',observation_type='dense',vol_constraint_type='hard' ,resolution = 500)\n",
    "#env= make_vec_env(lambda:env, n_envs=1,vec_env_cls=SubprocVecEnv)\n",
    "env"
   ]
  },
  {
   "cell_type": "code",
   "execution_count": null,
   "id": "5cbb153d-80e3-4d6c-ada3-f4d323360b74",
   "metadata": {},
   "outputs": [],
   "source": [
    "obs,info=env.reset()\n",
    "dones=False\n",
    "saved_conditions = env.conditions\n",
    "saved_nelx, saved_nely = env.nelx, env.nely\n",
    "saved_dx, saved_dy = env.dx, env.dy\n",
    "#use deepcopy to save \n",
    "while dones== False:\n",
    "    action, _states = model.predict(obs,deterministic=True)\n",
    "    # print(action)\n",
    "    obs, rewards, dones,truncated, info = env.step(action)\n",
    "print(\"Desired volume:\",saved_conditions['volfrac'],\"Obtained volume:\",env.volume)\n",
    "print(\"Env reward:\",rewards, \"Compliance:\",np.exp(1/rewards))\n",
    "env.plot()"
   ]
  },
  {
   "cell_type": "code",
   "execution_count": null,
   "id": "8f90aafd",
   "metadata": {},
   "outputs": [],
   "source": [
    "import numpy as np\n",
    "import matplotlib.pyplot as plt\n",
    "\n",
    "# Assuming env.U, saved_nely, saved_nelx, and env.Phimax are defined elsewhere\n",
    "\n",
    "nDof = env.U.shape[0]  # Total number of DOFs\n",
    "nNod = nDof // 2       # Number of nodes\n",
    "\n",
    "# Create boolean masks for x-displacement and y-displacement DOFs\n",
    "mask_x = np.arange(nDof) % 2 == 0\n",
    "mask_y = np.arange(nDof) % 2 == 1\n",
    "\n",
    "# Extract x-displacement and y-displacement DOFs\n",
    "x_dofs = env.U[mask_x]\n",
    "y_dofs = env.U[mask_y]\n",
    "\n",
    "# Reshape displacement fields to match the structural domain grid\n",
    "x_displacement = x_dofs.reshape((saved_nely+1, saved_nelx+1), order='F')\n",
    "y_displacement = y_dofs.reshape((saved_nely+1, saved_nelx+1), order='F')\n",
    "\n",
    "# Reshape and threshold the material density distribution\n",
    "density = env.Phimax.reshape((saved_nely+1, saved_nelx+1), order='F')\n",
    "density = np.where(density < 0.01, 0, 1)  # Binary thresholding\n",
    "\n",
    "# Use masked arrays to hide regions without material\n",
    "x_displacement_masked = np.ma.masked_where(density == 0, x_displacement)\n",
    "y_displacement_masked = np.ma.masked_where(density == 0, y_displacement)\n",
    "\n",
    "# Plotting x-displacement where there is material\n",
    "plt.figure()\n",
    "cmap = plt.cm.jet  # Choose colormap\n",
    "cmap.set_bad(color='white')  # Set masked values (no material) to white\n",
    "plt.imshow(x_displacement_masked, cmap=cmap, origin='lower')\n",
    "plt.colorbar()\n",
    "plt.title('X-Displacement (Material Presence)')\n",
    "\n",
    "# Plotting y-displacement where there is material\n",
    "plt.figure()\n",
    "plt.imshow(y_displacement_masked, cmap=cmap, origin='lower')\n",
    "plt.colorbar()\n",
    "plt.title('Y-Displacement (Material Presence)')\n"
   ]
  },
  {
   "cell_type": "code",
   "execution_count": null,
   "id": "0c280a6a",
   "metadata": {},
   "outputs": [],
   "source": [
    "def calculate_strains(x_displacement, y_displacement):\n",
    "    # Calculate strain fields based on displacement gradients\n",
    "    strain_xx = np.gradient(x_displacement, axis=1)\n",
    "    strain_yy = np.gradient(y_displacement, axis=0)\n",
    "    strain_xy = 0.5 * (np.gradient(x_displacement, axis=0) + np.gradient(y_displacement, axis=1))\n",
    "    return strain_xx, strain_yy, strain_xy\n",
    "\n",
    "def calculate_stresses(strain_xx, strain_yy, strain_xy, E=1.0, nu=0.3):\n",
    "    # Calculate stress fields based on strains and material properties\n",
    "    stress_xx = E / (1 - nu**2) * (strain_xx + nu * strain_yy)\n",
    "    stress_yy = E / (1 - nu**2) * (strain_yy + nu * strain_xx)\n",
    "    stress_xy = E / (2 * (1 + nu)) * strain_xy\n",
    "    return stress_xx, stress_yy, stress_xy\n",
    "\n",
    "import numpy as np\n",
    "import matplotlib.pyplot as plt\n",
    "\n",
    "# Assuming env.U, saved_nely, saved_nelx, and env.Phimax are defined elsewhere\n",
    "\n",
    "nDof = env.U.shape[0]  # Total number of DOFs\n",
    "nNod = nDof // 2       # Number of nodes\n",
    "\n",
    "# Create boolean masks for x-displacement and y-displacement DOFs\n",
    "mask_x = np.arange(nDof) % 2 == 0\n",
    "mask_y = np.arange(nDof) % 2 == 1\n",
    "\n",
    "# Extract x-displacement and y-displacement DOFs\n",
    "x_dofs = env.U[mask_x]\n",
    "y_dofs = env.U[mask_y]\n",
    "\n",
    "# Reshape displacement fields to match the structural domain grid\n",
    "x_displacement = x_dofs.reshape((saved_nely+1, saved_nelx+1), order='F')\n",
    "y_displacement = y_dofs.reshape((saved_nely+1, saved_nelx+1), order='F')\n",
    "\n",
    "# Reshape and threshold the material density distribution\n",
    "density = env.Phimax.reshape((saved_nely+1, saved_nelx+1), order='F')\n",
    "density = np.where(density < 0.01, 0, 1)  # Binary thresholding\n",
    "\n",
    "# Calculate strain and stress fields\n",
    "strain_xx, strain_yy, strain_xy = calculate_strains(x_displacement, y_displacement)\n",
    "stress_xx, stress_yy, stress_xy = calculate_stresses(strain_xx, strain_yy, strain_xy)\n",
    "\n",
    "# Calculate von Mises stress\n",
    "von_mises_stress = np.sqrt(stress_xx**2 - stress_xx*stress_yy + stress_yy**2 + 3*stress_xy**2)\n",
    "\n",
    "# Use masked arrays to hide regions without material\n",
    "von_mises_stress_masked = np.ma.masked_where(density == 0, von_mises_stress)\n",
    "\n",
    "# Plotting von Mises stress where there is material\n",
    "plt.figure()\n",
    "cmap = plt.cm.jet  # Choose colormap\n",
    "cmap.set_bad(color='white')  # Set masked values (no material) to white\n",
    "plt.imshow(von_mises_stress_masked, cmap=cmap, origin='lower')\n",
    "plt.colorbar()\n",
    "plt.title('Von Mises Stress (Material Presence)')\n",
    "plt.show()\n"
   ]
  },
  {
   "cell_type": "code",
   "execution_count": null,
   "id": "e0d2de1f-dd90-40b2-acc9-b3227fd2888b",
   "metadata": {},
   "outputs": [],
   "source": [
    "xval, f0val,it, H, Phimax, allPhi, den, N, cfg = run_mmc(saved_conditions,saved_nelx,saved_nely,saved_dx,saved_dy,plotting='contour')"
   ]
  }
 ],
 "metadata": {
  "kernelspec": {
   "display_name": "sb3_update",
   "language": "python",
   "name": "python3"
  },
  "language_info": {
   "codemirror_mode": {
    "name": "ipython",
    "version": 3
   },
   "file_extension": ".py",
   "mimetype": "text/x-python",
   "name": "python",
   "nbconvert_exporter": "python",
   "pygments_lexer": "ipython3",
   "version": "3.8.18"
  }
 },
 "nbformat": 4,
 "nbformat_minor": 5
}
